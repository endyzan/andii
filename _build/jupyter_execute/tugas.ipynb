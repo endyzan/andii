{
 "cells": [
  {
   "block_group": "8c3fbad9c84e4f9e95d1fb3cddf827eb",
   "cell_type": "markdown",
   "metadata": {
    "cell_id": "e0effa734aa24ce2b8c8493adb5069e5",
    "deepnote_cell_type": "text-cell-h1",
    "formattedRanges": [
     {
      "fromCodePoint": 23,
      "marks": {
       "italic": true
      },
      "toCodePoint": 41,
      "type": "marks"
     }
    ]
   },
   "source": [
    "# Memahami Dataset Iris (Data Understanding)"
   ]
  },
  {
   "block_group": "33dc7b82b5fb48808b412e9f534b1315",
   "cell_type": "markdown",
   "metadata": {
    "cell_id": "e0c038e645744db095d88fbac121ce3c",
    "deepnote_cell_type": "text-cell-p",
    "formattedRanges": [
     {
      "fromCodePoint": 217,
      "marks": {
       "italic": true
      },
      "toCodePoint": 218,
      "type": "marks"
     }
    ]
   },
   "source": [
    "\r",
    "Tahapan ini bertujuan untuk memahami data yang dibutuhkan dan dimiliki untuk melanjutkan tahapan selanjutnya dengan lebih baik. Data-set yang akan digunakan dalam tahap data understanding adalah Dataset Iris. Dataset Iris merupakan dataset multivariasi yang diperkenalkan oleh Ronald Fisher, pada tahun 1936. Dataset Iris sangat terkenal di dunia Machine Learning yang digunakan untuk klasifikasi. "
   ]
  },
  {
   "block_group": "40b8ae8858734fe9b7baa24d667c1e97",
   "cell_type": "markdown",
   "metadata": {
    "cell_id": "01e814068a5f430bb1b532c46aefef87",
    "deepnote_cell_type": "text-cell-h2",
    "formattedRanges": []
   },
   "source": [
    "## Mengumpulkan data awal"
   ]
  },
  {
   "block_group": "ac00acb595d14d98a9951ea4aad5685e",
   "cell_type": "markdown",
   "metadata": {
    "cell_id": "d1b3b9df6821462cb9d8ae1504b93e9f",
    "deepnote_cell_type": "text-cell-p",
    "formattedRanges": [
     {
      "fromCodePoint": 227,
      "marks": {
       "italic": true
      },
      "toCodePoint": 273,
      "type": "marks"
     },
     {
      "fromCodePoint": 371,
      "marks": {
       "bold": true
      },
      "toCodePoint": 375,
      "type": "marks"
     }
    ]
   },
   "source": [
    "Pada tahap ini dilakukan pengumpulan data dari 2 sumber yang berbeda. Data yang didapatkan berasal dari database MySQL dan PostgreSQL. Pada data yang berasal dari database MySQL terdapat 150 data dan 4 kolom diantaranya adalah Id, SepalLengthCm, SepalWidthCm, dan Species. Setelah data dari database MySQL dipanggil, data tersebut disimpan ke dalam dataframe dengan nama df_1. Berikut adalah data yang diambil dari database MySQL. "
   ]
  },
  {
   "block_group": "e499dddf906943869dd788d1b1accde5",
   "cell_type": "code",
   "execution_count": 1,
   "metadata": {
    "cell_id": "0668dd4e3fd54261bf034c3d727108d6",
    "deepnote_cell_type": "sql",
    "deepnote_sql_source": "SELECT * FROM iris;",
    "deepnote_table_loading": false,
    "deepnote_table_state": {
     "filters": [],
     "pageIndex": 0,
     "pageSize": 10,
     "sortBy": []
    },
    "deepnote_to_be_reexecuted": false,
    "deepnote_variable_name": "df_1",
    "execution_millis": 3801,
    "execution_start": 1711580329148,
    "source_hash": "dcc12a9d",
    "sql_integration_id": "e0cde1ba-8707-4487-b543-e6f453ce52e0"
   },
   "outputs": [
    {
     "ename": "NameError",
     "evalue": "name '_deepnote_execute_sql' is not defined",
     "output_type": "error",
     "traceback": [
      "\u001b[1;31m---------------------------------------------------------------------------\u001b[0m",
      "\u001b[1;31mNameError\u001b[0m                                 Traceback (most recent call last)",
      "Cell \u001b[1;32mIn[1], line 1\u001b[0m\n\u001b[1;32m----> 1\u001b[0m df_1 \u001b[38;5;241m=\u001b[39m \u001b[43m_deepnote_execute_sql\u001b[49m(\u001b[38;5;124m'\u001b[39m\u001b[38;5;124mSELECT * FROM iris;\u001b[39m\u001b[38;5;124m'\u001b[39m, \u001b[38;5;124m'\u001b[39m\u001b[38;5;124mSQL_E0CDE1BA_8707_4487_B543_E6F453CE52E0\u001b[39m\u001b[38;5;124m'\u001b[39m, audit_sql_comment\u001b[38;5;241m=\u001b[39m\u001b[38;5;124m'\u001b[39m\u001b[38;5;124m'\u001b[39m, sql_cache_mode\u001b[38;5;241m=\u001b[39m\u001b[38;5;124m'\u001b[39m\u001b[38;5;124mcache_disabled\u001b[39m\u001b[38;5;124m'\u001b[39m)\n\u001b[0;32m      2\u001b[0m df_1\n",
      "\u001b[1;31mNameError\u001b[0m: name '_deepnote_execute_sql' is not defined"
     ]
    }
   ],
   "outputs_reference": "s3:deepnote-cell-outputs-production/4dc53483-d008-447e-9f03-cf3592ea9743",
   "source": [
    "df_1 = _deepnote_execute_sql('SELECT * FROM iris;', 'SQL_E0CDE1BA_8707_4487_B543_E6F453CE52E0', audit_sql_comment='', sql_cache_mode='cache_disabled')\n",
    "df_1"
   ]
  },
  {
   "block_group": "f15e8d176d1f4f53987f15062dce587a",
   "cell_type": "markdown",
   "metadata": {
    "cell_id": "00a093e6b7de467a9cb89c5f43f3f675",
    "deepnote_cell_type": "text-cell-p",
    "formattedRanges": [
     {
      "fromCodePoint": 97,
      "marks": {
       "italic": true
      },
      "toCodePoint": 116,
      "type": "marks"
     },
     {
      "fromCodePoint": 120,
      "marks": {
       "italic": true
      },
      "toCodePoint": 134,
      "type": "marks"
     },
     {
      "fromCodePoint": 237,
      "marks": {
       "bold": true
      },
      "toCodePoint": 241,
      "type": "marks"
     }
    ]
   },
   "source": [
    "Pada data yang berasal dari database PostgreSQL terdapat 150 data dan 3 kolom diantaranya adalah Id, PetalLengthCm, dan PetalWidthCm. Setelah data dari database PostgreSQL dipanggil, data tersebut disimpan ke dalam dataframe dengan nama df_2. Berikut adalah data yang diambil dari database PostgreSQL. "
   ]
  },
  {
   "block_group": "8c64e67cf1734d1790b8bdd3b75de84b",
   "cell_type": "code",
   "execution_count": 2,
   "metadata": {
    "cell_id": "dccd33efa5da4882bbd1c644f10f108f",
    "deepnote_cell_type": "sql",
    "deepnote_sql_source": "SELECT * FROM \"Iris\";",
    "deepnote_to_be_reexecuted": false,
    "deepnote_variable_name": "df_2",
    "execution_millis": 3896,
    "execution_start": 1711580358206,
    "source_hash": "16c90587",
    "sql_integration_id": "db120e07-2091-462d-9417-e0974c1a18a0"
   },
   "outputs": [
    {
     "data": {
      "application/vnd.deepnote.sql-output-metadata+json": {
       "size_in_bytes": 3728,
       "status": "success_no_cache"
      }
     },
     "metadata": {},
     "output_type": "display_data"
    },
    {
     "data": {
      "application/vnd.deepnote.dataframe.v3+json": {
       "column_count": 3,
       "columns": [
        {
         "dtype": "int64",
         "name": "Id",
         "stats": {
          "histogram": [
           {
            "bin_end": 15.9,
            "bin_start": 1,
            "count": 15
           },
           {
            "bin_end": 30.8,
            "bin_start": 15.9,
            "count": 15
           },
           {
            "bin_end": 45.7,
            "bin_start": 30.8,
            "count": 15
           },
           {
            "bin_end": 60.6,
            "bin_start": 45.7,
            "count": 15
           },
           {
            "bin_end": 75.5,
            "bin_start": 60.6,
            "count": 15
           },
           {
            "bin_end": 90.4,
            "bin_start": 75.5,
            "count": 15
           },
           {
            "bin_end": 105.3,
            "bin_start": 90.4,
            "count": 15
           },
           {
            "bin_end": 120.2,
            "bin_start": 105.3,
            "count": 15
           },
           {
            "bin_end": 135.1,
            "bin_start": 120.2,
            "count": 15
           },
           {
            "bin_end": 150,
            "bin_start": 135.1,
            "count": 15
           }
          ],
          "max": "150",
          "min": "1",
          "nan_count": 0,
          "unique_count": 150
         }
        },
        {
         "dtype": "float64",
         "name": "PetalLengthCm",
         "stats": {
          "histogram": [
           {
            "bin_end": 1.59,
            "bin_start": 1,
            "count": 37
           },
           {
            "bin_end": 2.18,
            "bin_start": 1.59,
            "count": 13
           },
           {
            "bin_end": 2.7700000000000005,
            "bin_start": 2.18,
            "count": 0
           },
           {
            "bin_end": 3.3600000000000003,
            "bin_start": 2.7700000000000005,
            "count": 3
           },
           {
            "bin_end": 3.95,
            "bin_start": 3.3600000000000003,
            "count": 8
           },
           {
            "bin_end": 4.540000000000001,
            "bin_start": 3.95,
            "count": 26
           },
           {
            "bin_end": 5.130000000000001,
            "bin_start": 4.540000000000001,
            "count": 29
           },
           {
            "bin_end": 5.720000000000001,
            "bin_start": 5.130000000000001,
            "count": 18
           },
           {
            "bin_end": 6.3100000000000005,
            "bin_start": 5.720000000000001,
            "count": 11
           },
           {
            "bin_end": 6.9,
            "bin_start": 6.3100000000000005,
            "count": 5
           }
          ],
          "max": "6.9",
          "min": "1.0",
          "nan_count": 0,
          "unique_count": 43
         }
        },
        {
         "dtype": "float64",
         "name": "PetalWidthCm",
         "stats": {
          "histogram": [
           {
            "bin_end": 0.33999999999999997,
            "bin_start": 0.1,
            "count": 41
           },
           {
            "bin_end": 0.58,
            "bin_start": 0.33999999999999997,
            "count": 8
           },
           {
            "bin_end": 0.82,
            "bin_start": 0.58,
            "count": 1
           },
           {
            "bin_end": 1.06,
            "bin_start": 0.82,
            "count": 7
           },
           {
            "bin_end": 1.3,
            "bin_start": 1.06,
            "count": 8
           },
           {
            "bin_end": 1.54,
            "bin_start": 1.3,
            "count": 33
           },
           {
            "bin_end": 1.78,
            "bin_start": 1.54,
            "count": 6
           },
           {
            "bin_end": 2.02,
            "bin_start": 1.78,
            "count": 23
           },
           {
            "bin_end": 2.2600000000000002,
            "bin_start": 2.02,
            "count": 9
           },
           {
            "bin_end": 2.5,
            "bin_start": 2.2600000000000002,
            "count": 14
           }
          ],
          "max": "2.5",
          "min": "0.1",
          "nan_count": 0,
          "unique_count": 22
         }
        },
        {
         "dtype": "int64",
         "name": "_deepnote_index_column"
        }
       ],
       "row_count": 150,
       "rows": [
        {
         "Id": 1,
         "PetalLengthCm": 1.4,
         "PetalWidthCm": 0.2,
         "_deepnote_index_column": 0
        },
        {
         "Id": 2,
         "PetalLengthCm": 1.4,
         "PetalWidthCm": 0.2,
         "_deepnote_index_column": 1
        },
        {
         "Id": 3,
         "PetalLengthCm": 1.3,
         "PetalWidthCm": 0.2,
         "_deepnote_index_column": 2
        },
        {
         "Id": 4,
         "PetalLengthCm": 1.5,
         "PetalWidthCm": 0.2,
         "_deepnote_index_column": 3
        },
        {
         "Id": 5,
         "PetalLengthCm": 1.4,
         "PetalWidthCm": 0.2,
         "_deepnote_index_column": 4
        },
        {
         "Id": 6,
         "PetalLengthCm": 1.7,
         "PetalWidthCm": 0.4,
         "_deepnote_index_column": 5
        },
        {
         "Id": 7,
         "PetalLengthCm": 1.4,
         "PetalWidthCm": 0.3,
         "_deepnote_index_column": 6
        },
        {
         "Id": 8,
         "PetalLengthCm": 1.5,
         "PetalWidthCm": 0.2,
         "_deepnote_index_column": 7
        },
        {
         "Id": 9,
         "PetalLengthCm": 1.4,
         "PetalWidthCm": 0.2,
         "_deepnote_index_column": 8
        },
        {
         "Id": 10,
         "PetalLengthCm": 1.5,
         "PetalWidthCm": 0.1,
         "_deepnote_index_column": 9
        }
       ]
      },
      "text/html": [
       "<div>\n",
       "<style scoped>\n",
       "    .dataframe tbody tr th:only-of-type {\n",
       "        vertical-align: middle;\n",
       "    }\n",
       "\n",
       "    .dataframe tbody tr th {\n",
       "        vertical-align: top;\n",
       "    }\n",
       "\n",
       "    .dataframe thead th {\n",
       "        text-align: right;\n",
       "    }\n",
       "</style>\n",
       "<table border=\"1\" class=\"dataframe\">\n",
       "  <thead>\n",
       "    <tr style=\"text-align: right;\">\n",
       "      <th></th>\n",
       "      <th>Id</th>\n",
       "      <th>PetalLengthCm</th>\n",
       "      <th>PetalWidthCm</th>\n",
       "    </tr>\n",
       "  </thead>\n",
       "  <tbody>\n",
       "    <tr>\n",
       "      <th>0</th>\n",
       "      <td>1</td>\n",
       "      <td>1.4</td>\n",
       "      <td>0.2</td>\n",
       "    </tr>\n",
       "    <tr>\n",
       "      <th>1</th>\n",
       "      <td>2</td>\n",
       "      <td>1.4</td>\n",
       "      <td>0.2</td>\n",
       "    </tr>\n",
       "    <tr>\n",
       "      <th>2</th>\n",
       "      <td>3</td>\n",
       "      <td>1.3</td>\n",
       "      <td>0.2</td>\n",
       "    </tr>\n",
       "    <tr>\n",
       "      <th>3</th>\n",
       "      <td>4</td>\n",
       "      <td>1.5</td>\n",
       "      <td>0.2</td>\n",
       "    </tr>\n",
       "    <tr>\n",
       "      <th>4</th>\n",
       "      <td>5</td>\n",
       "      <td>1.4</td>\n",
       "      <td>0.2</td>\n",
       "    </tr>\n",
       "    <tr>\n",
       "      <th>...</th>\n",
       "      <td>...</td>\n",
       "      <td>...</td>\n",
       "      <td>...</td>\n",
       "    </tr>\n",
       "    <tr>\n",
       "      <th>145</th>\n",
       "      <td>146</td>\n",
       "      <td>5.2</td>\n",
       "      <td>2.3</td>\n",
       "    </tr>\n",
       "    <tr>\n",
       "      <th>146</th>\n",
       "      <td>147</td>\n",
       "      <td>5.0</td>\n",
       "      <td>1.9</td>\n",
       "    </tr>\n",
       "    <tr>\n",
       "      <th>147</th>\n",
       "      <td>148</td>\n",
       "      <td>5.2</td>\n",
       "      <td>2.0</td>\n",
       "    </tr>\n",
       "    <tr>\n",
       "      <th>148</th>\n",
       "      <td>149</td>\n",
       "      <td>5.4</td>\n",
       "      <td>2.3</td>\n",
       "    </tr>\n",
       "    <tr>\n",
       "      <th>149</th>\n",
       "      <td>150</td>\n",
       "      <td>5.1</td>\n",
       "      <td>1.8</td>\n",
       "    </tr>\n",
       "  </tbody>\n",
       "</table>\n",
       "<p>150 rows × 3 columns</p>\n",
       "</div>"
      ],
      "text/plain": [
       "      Id  PetalLengthCm  PetalWidthCm\n",
       "0      1            1.4           0.2\n",
       "1      2            1.4           0.2\n",
       "2      3            1.3           0.2\n",
       "3      4            1.5           0.2\n",
       "4      5            1.4           0.2\n",
       "..   ...            ...           ...\n",
       "145  146            5.2           2.3\n",
       "146  147            5.0           1.9\n",
       "147  148            5.2           2.0\n",
       "148  149            5.4           2.3\n",
       "149  150            5.1           1.8\n",
       "\n",
       "[150 rows x 3 columns]"
      ]
     },
     "execution_count": 2,
     "metadata": {},
     "output_type": "execute_result"
    }
   ],
   "outputs_reference": "s3:deepnote-cell-outputs-production/4982571e-4037-4347-a050-461b2870cda8",
   "source": [
    "df_2 = _deepnote_execute_sql('SELECT * FROM \"Iris\";', 'SQL_DB120E07_2091_462D_9417_E0974C1A18A0', audit_sql_comment='', sql_cache_mode='cache_disabled')\n",
    "df_2"
   ]
  },
  {
   "block_group": "2d317fcc9ce34cb787471d1c80f7712d",
   "cell_type": "markdown",
   "metadata": {
    "cell_id": "f136f1d989794436ad6a47b0bf8acfea",
    "deepnote_cell_type": "text-cell-p",
    "formattedRanges": []
   },
   "source": [
    "Mengimport beberapa library yang dibutuhkan:"
   ]
  },
  {
   "block_group": "0cd4c7d368a348a28d725462209e391b",
   "cell_type": "code",
   "execution_count": 3,
   "metadata": {
    "cell_id": "c0416971e5414b879945936f67feffcd",
    "deepnote_cell_type": "code",
    "deepnote_to_be_reexecuted": false,
    "execution_millis": 4821,
    "execution_start": 1711580375343,
    "source_hash": "958ee73d"
   },
   "outputs": [
    {
     "name": "stdout",
     "output_type": "stream",
     "text": [
      "Collecting mysql-connector-python\n",
      "  Downloading mysql_connector_python-8.3.0-cp39-cp39-manylinux_2_17_x86_64.whl (21.5 MB)\n",
      "\u001b[2K     \u001b[90m━━━━━━━━━━━━━━━━━━━━━━━━━━━━━━━━━━━━━━━━\u001b[0m \u001b[32m21.5/21.5 MB\u001b[0m \u001b[31m53.1 MB/s\u001b[0m eta \u001b[36m0:00:00\u001b[0m\n",
      "\u001b[?25hInstalling collected packages: mysql-connector-python\n",
      "Successfully installed mysql-connector-python-8.3.0\n",
      "\n",
      "\u001b[1m[\u001b[0m\u001b[34;49mnotice\u001b[0m\u001b[1;39;49m]\u001b[0m\u001b[39;49m A new release of pip is available: \u001b[0m\u001b[31;49m23.0.1\u001b[0m\u001b[39;49m -> \u001b[0m\u001b[32;49m24.0\u001b[0m\n",
      "\u001b[1m[\u001b[0m\u001b[34;49mnotice\u001b[0m\u001b[1;39;49m]\u001b[0m\u001b[39;49m To update, run: \u001b[0m\u001b[32;49mpip install --upgrade pip\u001b[0m\n"
     ]
    }
   ],
   "outputs_reference": "dbtable:cell_outputs/6fc0820f-9b64-4c1c-b7f1-4efc5bb51542",
   "source": [
    "import pandas as pd\n",
    "import numpy as np\n",
    "!pip install mysql-connector-python\n",
    "import mysql.connector"
   ]
  },
  {
   "block_group": "72c3e4ff26004ea09a57d693b2858ef6",
   "cell_type": "markdown",
   "metadata": {
    "cell_id": "428e54f181b34cbcbd3a005961fc5d57",
    "deepnote_cell_type": "text-cell-p",
    "formattedRanges": []
   },
   "source": [
    "Menggabungkan 2 dataframe menjadi 1 dataframe dari 2 database yang berbeda"
   ]
  },
  {
   "block_group": "2fb07b5ea5464148aaf8a7b8420d881f",
   "cell_type": "code",
   "execution_count": 4,
   "metadata": {
    "cell_id": "d47e6070a3db4d98ad70852da34314e3",
    "deepnote_cell_type": "code",
    "deepnote_table_loading": false,
    "deepnote_table_state": {
     "filters": [],
     "pageIndex": 0,
     "pageSize": 10,
     "sortBy": []
    },
    "deepnote_to_be_reexecuted": false,
    "execution_millis": 196,
    "execution_start": 1711580391749,
    "source_hash": "317e840"
   },
   "outputs": [
    {
     "data": {
      "application/vnd.deepnote.dataframe.v3+json": {
       "column_count": 6,
       "columns": [
        {
         "dtype": "int64",
         "name": "Id",
         "stats": {
          "histogram": [
           {
            "bin_end": 15.9,
            "bin_start": 1,
            "count": 15
           },
           {
            "bin_end": 30.8,
            "bin_start": 15.9,
            "count": 15
           },
           {
            "bin_end": 45.7,
            "bin_start": 30.8,
            "count": 15
           },
           {
            "bin_end": 60.6,
            "bin_start": 45.7,
            "count": 15
           },
           {
            "bin_end": 75.5,
            "bin_start": 60.6,
            "count": 15
           },
           {
            "bin_end": 90.4,
            "bin_start": 75.5,
            "count": 15
           },
           {
            "bin_end": 105.3,
            "bin_start": 90.4,
            "count": 15
           },
           {
            "bin_end": 120.2,
            "bin_start": 105.3,
            "count": 15
           },
           {
            "bin_end": 135.1,
            "bin_start": 120.2,
            "count": 15
           },
           {
            "bin_end": 150,
            "bin_start": 135.1,
            "count": 15
           }
          ],
          "max": "150",
          "min": "1",
          "nan_count": 0,
          "unique_count": 150
         }
        },
        {
         "dtype": "float64",
         "name": "SepalLengthCm",
         "stats": {
          "histogram": [
           {
            "bin_end": 4.66,
            "bin_start": 4.3,
            "count": 9
           },
           {
            "bin_end": 5.02,
            "bin_start": 4.66,
            "count": 21
           },
           {
            "bin_end": 5.38,
            "bin_start": 5.02,
            "count": 13
           },
           {
            "bin_end": 5.74,
            "bin_start": 5.38,
            "count": 27
           },
           {
            "bin_end": 6.1,
            "bin_start": 5.74,
            "count": 15
           },
           {
            "bin_end": 6.46,
            "bin_start": 6.1,
            "count": 26
           },
           {
            "bin_end": 6.82,
            "bin_start": 6.46,
            "count": 18
           },
           {
            "bin_end": 7.18,
            "bin_start": 6.82,
            "count": 6
           },
           {
            "bin_end": 7.54,
            "bin_start": 7.18,
            "count": 5
           },
           {
            "bin_end": 7.9,
            "bin_start": 7.54,
            "count": 5
           }
          ],
          "max": "7.9",
          "min": "4.3",
          "nan_count": 5,
          "unique_count": 35
         }
        },
        {
         "dtype": "float64",
         "name": "SepalWidthCm",
         "stats": {
          "histogram": [
           {
            "bin_end": 2.24,
            "bin_start": 2,
            "count": 4
           },
           {
            "bin_end": 2.48,
            "bin_start": 2.24,
            "count": 7
           },
           {
            "bin_end": 2.72,
            "bin_start": 2.48,
            "count": 22
           },
           {
            "bin_end": 2.96,
            "bin_start": 2.72,
            "count": 24
           },
           {
            "bin_end": 3.2,
            "bin_start": 2.96,
            "count": 38
           },
           {
            "bin_end": 3.4400000000000004,
            "bin_start": 3.2,
            "count": 31
           },
           {
            "bin_end": 3.6800000000000006,
            "bin_start": 3.4400000000000004,
            "count": 9
           },
           {
            "bin_end": 3.9200000000000004,
            "bin_start": 3.6800000000000006,
            "count": 11
           },
           {
            "bin_end": 4.16,
            "bin_start": 3.9200000000000004,
            "count": 2
           },
           {
            "bin_end": 4.4,
            "bin_start": 4.16,
            "count": 2
           }
          ],
          "max": "4.4",
          "min": "2.0",
          "nan_count": 0,
          "unique_count": 23
         }
        },
        {
         "dtype": "object",
         "name": "Species",
         "stats": {
          "categories": [
           {
            "count": 50,
            "name": "Iris-versicolor"
           },
           {
            "count": 98,
            "name": "2 others"
           },
           {
            "count": 2,
            "name": "Missing"
           }
          ],
          "nan_count": 2,
          "unique_count": 3
         }
        },
        {
         "dtype": "float64",
         "name": "PetalLengthCm",
         "stats": {
          "histogram": [
           {
            "bin_end": 1.59,
            "bin_start": 1,
            "count": 37
           },
           {
            "bin_end": 2.18,
            "bin_start": 1.59,
            "count": 13
           },
           {
            "bin_end": 2.7700000000000005,
            "bin_start": 2.18,
            "count": 0
           },
           {
            "bin_end": 3.3600000000000003,
            "bin_start": 2.7700000000000005,
            "count": 3
           },
           {
            "bin_end": 3.95,
            "bin_start": 3.3600000000000003,
            "count": 8
           },
           {
            "bin_end": 4.540000000000001,
            "bin_start": 3.95,
            "count": 26
           },
           {
            "bin_end": 5.130000000000001,
            "bin_start": 4.540000000000001,
            "count": 29
           },
           {
            "bin_end": 5.720000000000001,
            "bin_start": 5.130000000000001,
            "count": 18
           },
           {
            "bin_end": 6.3100000000000005,
            "bin_start": 5.720000000000001,
            "count": 11
           },
           {
            "bin_end": 6.9,
            "bin_start": 6.3100000000000005,
            "count": 5
           }
          ],
          "max": "6.9",
          "min": "1.0",
          "nan_count": 0,
          "unique_count": 43
         }
        },
        {
         "dtype": "float64",
         "name": "PetalWidthCm",
         "stats": {
          "histogram": [
           {
            "bin_end": 0.33999999999999997,
            "bin_start": 0.1,
            "count": 41
           },
           {
            "bin_end": 0.58,
            "bin_start": 0.33999999999999997,
            "count": 8
           },
           {
            "bin_end": 0.82,
            "bin_start": 0.58,
            "count": 1
           },
           {
            "bin_end": 1.06,
            "bin_start": 0.82,
            "count": 7
           },
           {
            "bin_end": 1.3,
            "bin_start": 1.06,
            "count": 8
           },
           {
            "bin_end": 1.54,
            "bin_start": 1.3,
            "count": 33
           },
           {
            "bin_end": 1.78,
            "bin_start": 1.54,
            "count": 6
           },
           {
            "bin_end": 2.02,
            "bin_start": 1.78,
            "count": 23
           },
           {
            "bin_end": 2.2600000000000002,
            "bin_start": 2.02,
            "count": 9
           },
           {
            "bin_end": 2.5,
            "bin_start": 2.2600000000000002,
            "count": 14
           }
          ],
          "max": "2.5",
          "min": "0.1",
          "nan_count": 0,
          "unique_count": 22
         }
        },
        {
         "dtype": "int64",
         "name": "_deepnote_index_column"
        }
       ],
       "row_count": 150,
       "rows": [
        {
         "Id": 1,
         "PetalLengthCm": 1.4,
         "PetalWidthCm": 0.2,
         "SepalLengthCm": 5.1,
         "SepalWidthCm": 3.5,
         "Species": "Iris-setosa",
         "_deepnote_index_column": 0
        },
        {
         "Id": 2,
         "PetalLengthCm": 1.4,
         "PetalWidthCm": 0.2,
         "SepalLengthCm": 4.9,
         "SepalWidthCm": 3,
         "Species": "Iris-setosa",
         "_deepnote_index_column": 1
        },
        {
         "Id": 3,
         "PetalLengthCm": 1.3,
         "PetalWidthCm": 0.2,
         "SepalLengthCm": 4.7,
         "SepalWidthCm": 3.2,
         "Species": "Iris-setosa",
         "_deepnote_index_column": 2
        },
        {
         "Id": 4,
         "PetalLengthCm": 1.5,
         "PetalWidthCm": 0.2,
         "SepalLengthCm": 4.6,
         "SepalWidthCm": 3.1,
         "Species": "Iris-setosa",
         "_deepnote_index_column": 3
        },
        {
         "Id": 5,
         "PetalLengthCm": 1.4,
         "PetalWidthCm": 0.2,
         "SepalLengthCm": 5,
         "SepalWidthCm": 3.6,
         "Species": "Iris-setosa",
         "_deepnote_index_column": 4
        },
        {
         "Id": 6,
         "PetalLengthCm": 1.7,
         "PetalWidthCm": 0.4,
         "SepalLengthCm": 5.4,
         "SepalWidthCm": 3.9,
         "Species": "Iris-setosa",
         "_deepnote_index_column": 5
        },
        {
         "Id": 7,
         "PetalLengthCm": 1.4,
         "PetalWidthCm": 0.3,
         "SepalLengthCm": 4.6,
         "SepalWidthCm": 3.4,
         "Species": "Iris-setosa",
         "_deepnote_index_column": 6
        },
        {
         "Id": 8,
         "PetalLengthCm": 1.5,
         "PetalWidthCm": 0.2,
         "SepalLengthCm": "nan",
         "SepalWidthCm": 3.4,
         "Species": "None",
         "_deepnote_index_column": 7
        },
        {
         "Id": 9,
         "PetalLengthCm": 1.4,
         "PetalWidthCm": 0.2,
         "SepalLengthCm": 4.4,
         "SepalWidthCm": 2.9,
         "Species": "Iris-setosa",
         "_deepnote_index_column": 8
        },
        {
         "Id": 10,
         "PetalLengthCm": 1.5,
         "PetalWidthCm": 0.1,
         "SepalLengthCm": 4.9,
         "SepalWidthCm": 3.1,
         "Species": "Iris-setosa",
         "_deepnote_index_column": 9
        }
       ]
      },
      "text/html": [
       "<div>\n",
       "<style scoped>\n",
       "    .dataframe tbody tr th:only-of-type {\n",
       "        vertical-align: middle;\n",
       "    }\n",
       "\n",
       "    .dataframe tbody tr th {\n",
       "        vertical-align: top;\n",
       "    }\n",
       "\n",
       "    .dataframe thead th {\n",
       "        text-align: right;\n",
       "    }\n",
       "</style>\n",
       "<table border=\"1\" class=\"dataframe\">\n",
       "  <thead>\n",
       "    <tr style=\"text-align: right;\">\n",
       "      <th></th>\n",
       "      <th>Id</th>\n",
       "      <th>SepalLengthCm</th>\n",
       "      <th>SepalWidthCm</th>\n",
       "      <th>Species</th>\n",
       "      <th>PetalLengthCm</th>\n",
       "      <th>PetalWidthCm</th>\n",
       "    </tr>\n",
       "  </thead>\n",
       "  <tbody>\n",
       "    <tr>\n",
       "      <th>0</th>\n",
       "      <td>1</td>\n",
       "      <td>5.1</td>\n",
       "      <td>3.5</td>\n",
       "      <td>Iris-setosa</td>\n",
       "      <td>1.4</td>\n",
       "      <td>0.2</td>\n",
       "    </tr>\n",
       "    <tr>\n",
       "      <th>1</th>\n",
       "      <td>2</td>\n",
       "      <td>4.9</td>\n",
       "      <td>3.0</td>\n",
       "      <td>Iris-setosa</td>\n",
       "      <td>1.4</td>\n",
       "      <td>0.2</td>\n",
       "    </tr>\n",
       "    <tr>\n",
       "      <th>2</th>\n",
       "      <td>3</td>\n",
       "      <td>4.7</td>\n",
       "      <td>3.2</td>\n",
       "      <td>Iris-setosa</td>\n",
       "      <td>1.3</td>\n",
       "      <td>0.2</td>\n",
       "    </tr>\n",
       "    <tr>\n",
       "      <th>3</th>\n",
       "      <td>4</td>\n",
       "      <td>4.6</td>\n",
       "      <td>3.1</td>\n",
       "      <td>Iris-setosa</td>\n",
       "      <td>1.5</td>\n",
       "      <td>0.2</td>\n",
       "    </tr>\n",
       "    <tr>\n",
       "      <th>4</th>\n",
       "      <td>5</td>\n",
       "      <td>5.0</td>\n",
       "      <td>3.6</td>\n",
       "      <td>Iris-setosa</td>\n",
       "      <td>1.4</td>\n",
       "      <td>0.2</td>\n",
       "    </tr>\n",
       "    <tr>\n",
       "      <th>...</th>\n",
       "      <td>...</td>\n",
       "      <td>...</td>\n",
       "      <td>...</td>\n",
       "      <td>...</td>\n",
       "      <td>...</td>\n",
       "      <td>...</td>\n",
       "    </tr>\n",
       "    <tr>\n",
       "      <th>145</th>\n",
       "      <td>146</td>\n",
       "      <td>6.7</td>\n",
       "      <td>3.0</td>\n",
       "      <td>Iris-virginica</td>\n",
       "      <td>5.2</td>\n",
       "      <td>2.3</td>\n",
       "    </tr>\n",
       "    <tr>\n",
       "      <th>146</th>\n",
       "      <td>147</td>\n",
       "      <td>6.3</td>\n",
       "      <td>2.5</td>\n",
       "      <td>Iris-virginica</td>\n",
       "      <td>5.0</td>\n",
       "      <td>1.9</td>\n",
       "    </tr>\n",
       "    <tr>\n",
       "      <th>147</th>\n",
       "      <td>148</td>\n",
       "      <td>6.5</td>\n",
       "      <td>3.0</td>\n",
       "      <td>Iris-virginica</td>\n",
       "      <td>5.2</td>\n",
       "      <td>2.0</td>\n",
       "    </tr>\n",
       "    <tr>\n",
       "      <th>148</th>\n",
       "      <td>149</td>\n",
       "      <td>6.2</td>\n",
       "      <td>3.4</td>\n",
       "      <td>Iris-virginica</td>\n",
       "      <td>5.4</td>\n",
       "      <td>2.3</td>\n",
       "    </tr>\n",
       "    <tr>\n",
       "      <th>149</th>\n",
       "      <td>150</td>\n",
       "      <td>5.9</td>\n",
       "      <td>3.0</td>\n",
       "      <td>Iris-virginica</td>\n",
       "      <td>5.1</td>\n",
       "      <td>1.8</td>\n",
       "    </tr>\n",
       "  </tbody>\n",
       "</table>\n",
       "<p>150 rows × 6 columns</p>\n",
       "</div>"
      ],
      "text/plain": [
       "      Id  SepalLengthCm  SepalWidthCm         Species  PetalLengthCm  \\\n",
       "0      1            5.1           3.5     Iris-setosa            1.4   \n",
       "1      2            4.9           3.0     Iris-setosa            1.4   \n",
       "2      3            4.7           3.2     Iris-setosa            1.3   \n",
       "3      4            4.6           3.1     Iris-setosa            1.5   \n",
       "4      5            5.0           3.6     Iris-setosa            1.4   \n",
       "..   ...            ...           ...             ...            ...   \n",
       "145  146            6.7           3.0  Iris-virginica            5.2   \n",
       "146  147            6.3           2.5  Iris-virginica            5.0   \n",
       "147  148            6.5           3.0  Iris-virginica            5.2   \n",
       "148  149            6.2           3.4  Iris-virginica            5.4   \n",
       "149  150            5.9           3.0  Iris-virginica            5.1   \n",
       "\n",
       "     PetalWidthCm  \n",
       "0             0.2  \n",
       "1             0.2  \n",
       "2             0.2  \n",
       "3             0.2  \n",
       "4             0.2  \n",
       "..            ...  \n",
       "145           2.3  \n",
       "146           1.9  \n",
       "147           2.0  \n",
       "148           2.3  \n",
       "149           1.8  \n",
       "\n",
       "[150 rows x 6 columns]"
      ]
     },
     "execution_count": 4,
     "metadata": {},
     "output_type": "execute_result"
    }
   ],
   "outputs_reference": "s3:deepnote-cell-outputs-production/174a8e6e-7c35-4a91-aeee-04487fe42b92",
   "source": [
    "df_iris = pd.merge(df_1, df_2, on='Id')\n",
    "df_iris.head(df_iris.shape[0])"
   ]
  },
  {
   "block_group": "b7aaa454c6154d05ab536a8d97f29098",
   "cell_type": "markdown",
   "metadata": {
    "cell_id": "5b952f342b3c4e2cbc189325547a6108",
    "deepnote_app_block_visible": false,
    "deepnote_cell_type": "text-cell-h2",
    "formattedRanges": [],
    "is_collapsed": false
   },
   "source": [
    "## Mendeskripsikan data"
   ]
  },
  {
   "block_group": "bb2351f6f12545738f15692647d6fbb2",
   "cell_type": "markdown",
   "metadata": {
    "cell_id": "6aa8aa95b8d8420d8f23b688db4c70b7",
    "deepnote_cell_type": "text-cell-p",
    "formattedRanges": []
   },
   "source": [
    "Mendeskripsikan data adalah tahapan untuk menjelaskan informasi yang terdapat dalam data pada tabel iris, terdapat beberapa atribut seperti SepalLengthCm, SepalWidthCm, PetalLengthCm, PetalWidthCm, dan Species. Hal ini membantu untuk memahami lebih baik karakteristik dari setiap species iris dalam tabel."
   ]
  },
  {
   "block_group": "5e8470012a6c478190b034c16a6518c9",
   "cell_type": "code",
   "execution_count": 5,
   "metadata": {
    "cell_id": "8924fb2a85314e1caa4fa1b8e9556026",
    "deepnote_cell_type": "code",
    "deepnote_table_loading": false,
    "deepnote_table_state": {
     "filters": [],
     "pageIndex": 0,
     "pageSize": 10,
     "sortBy": []
    },
    "deepnote_to_be_reexecuted": false,
    "execution_millis": 238,
    "execution_start": 1711580407724,
    "source_hash": "1bc0f289"
   },
   "outputs": [
    {
     "data": {
      "application/vnd.deepnote.dataframe.v3+json": {
       "column_count": 6,
       "columns": [
        {
         "dtype": "int64",
         "name": "Id",
         "stats": {
          "histogram": [
           {
            "bin_end": 15.9,
            "bin_start": 1,
            "count": 15
           },
           {
            "bin_end": 30.8,
            "bin_start": 15.9,
            "count": 15
           },
           {
            "bin_end": 45.7,
            "bin_start": 30.8,
            "count": 15
           },
           {
            "bin_end": 60.6,
            "bin_start": 45.7,
            "count": 15
           },
           {
            "bin_end": 75.5,
            "bin_start": 60.6,
            "count": 15
           },
           {
            "bin_end": 90.4,
            "bin_start": 75.5,
            "count": 15
           },
           {
            "bin_end": 105.3,
            "bin_start": 90.4,
            "count": 15
           },
           {
            "bin_end": 120.2,
            "bin_start": 105.3,
            "count": 15
           },
           {
            "bin_end": 135.1,
            "bin_start": 120.2,
            "count": 15
           },
           {
            "bin_end": 150,
            "bin_start": 135.1,
            "count": 15
           }
          ],
          "max": "150",
          "min": "1",
          "nan_count": 0,
          "unique_count": 150
         }
        },
        {
         "dtype": "float64",
         "name": "SepalLengthCm",
         "stats": {
          "histogram": [
           {
            "bin_end": 4.66,
            "bin_start": 4.3,
            "count": 9
           },
           {
            "bin_end": 5.02,
            "bin_start": 4.66,
            "count": 21
           },
           {
            "bin_end": 5.38,
            "bin_start": 5.02,
            "count": 13
           },
           {
            "bin_end": 5.74,
            "bin_start": 5.38,
            "count": 27
           },
           {
            "bin_end": 6.1,
            "bin_start": 5.74,
            "count": 15
           },
           {
            "bin_end": 6.46,
            "bin_start": 6.1,
            "count": 26
           },
           {
            "bin_end": 6.82,
            "bin_start": 6.46,
            "count": 18
           },
           {
            "bin_end": 7.18,
            "bin_start": 6.82,
            "count": 6
           },
           {
            "bin_end": 7.54,
            "bin_start": 7.18,
            "count": 5
           },
           {
            "bin_end": 7.9,
            "bin_start": 7.54,
            "count": 5
           }
          ],
          "max": "7.9",
          "min": "4.3",
          "nan_count": 5,
          "unique_count": 35
         }
        },
        {
         "dtype": "float64",
         "name": "SepalWidthCm",
         "stats": {
          "histogram": [
           {
            "bin_end": 2.24,
            "bin_start": 2,
            "count": 4
           },
           {
            "bin_end": 2.48,
            "bin_start": 2.24,
            "count": 7
           },
           {
            "bin_end": 2.72,
            "bin_start": 2.48,
            "count": 22
           },
           {
            "bin_end": 2.96,
            "bin_start": 2.72,
            "count": 24
           },
           {
            "bin_end": 3.2,
            "bin_start": 2.96,
            "count": 38
           },
           {
            "bin_end": 3.4400000000000004,
            "bin_start": 3.2,
            "count": 31
           },
           {
            "bin_end": 3.6800000000000006,
            "bin_start": 3.4400000000000004,
            "count": 9
           },
           {
            "bin_end": 3.9200000000000004,
            "bin_start": 3.6800000000000006,
            "count": 11
           },
           {
            "bin_end": 4.16,
            "bin_start": 3.9200000000000004,
            "count": 2
           },
           {
            "bin_end": 4.4,
            "bin_start": 4.16,
            "count": 2
           }
          ],
          "max": "4.4",
          "min": "2.0",
          "nan_count": 0,
          "unique_count": 23
         }
        },
        {
         "dtype": "object",
         "name": "Species",
         "stats": {
          "categories": [
           {
            "count": 50,
            "name": "Iris-versicolor"
           },
           {
            "count": 98,
            "name": "2 others"
           },
           {
            "count": 2,
            "name": "Missing"
           }
          ],
          "nan_count": 2,
          "unique_count": 3
         }
        },
        {
         "dtype": "float64",
         "name": "PetalLengthCm",
         "stats": {
          "histogram": [
           {
            "bin_end": 1.59,
            "bin_start": 1,
            "count": 37
           },
           {
            "bin_end": 2.18,
            "bin_start": 1.59,
            "count": 13
           },
           {
            "bin_end": 2.7700000000000005,
            "bin_start": 2.18,
            "count": 0
           },
           {
            "bin_end": 3.3600000000000003,
            "bin_start": 2.7700000000000005,
            "count": 3
           },
           {
            "bin_end": 3.95,
            "bin_start": 3.3600000000000003,
            "count": 8
           },
           {
            "bin_end": 4.540000000000001,
            "bin_start": 3.95,
            "count": 26
           },
           {
            "bin_end": 5.130000000000001,
            "bin_start": 4.540000000000001,
            "count": 29
           },
           {
            "bin_end": 5.720000000000001,
            "bin_start": 5.130000000000001,
            "count": 18
           },
           {
            "bin_end": 6.3100000000000005,
            "bin_start": 5.720000000000001,
            "count": 11
           },
           {
            "bin_end": 6.9,
            "bin_start": 6.3100000000000005,
            "count": 5
           }
          ],
          "max": "6.9",
          "min": "1.0",
          "nan_count": 0,
          "unique_count": 43
         }
        },
        {
         "dtype": "float64",
         "name": "PetalWidthCm",
         "stats": {
          "histogram": [
           {
            "bin_end": 0.33999999999999997,
            "bin_start": 0.1,
            "count": 41
           },
           {
            "bin_end": 0.58,
            "bin_start": 0.33999999999999997,
            "count": 8
           },
           {
            "bin_end": 0.82,
            "bin_start": 0.58,
            "count": 1
           },
           {
            "bin_end": 1.06,
            "bin_start": 0.82,
            "count": 7
           },
           {
            "bin_end": 1.3,
            "bin_start": 1.06,
            "count": 8
           },
           {
            "bin_end": 1.54,
            "bin_start": 1.3,
            "count": 33
           },
           {
            "bin_end": 1.78,
            "bin_start": 1.54,
            "count": 6
           },
           {
            "bin_end": 2.02,
            "bin_start": 1.78,
            "count": 23
           },
           {
            "bin_end": 2.2600000000000002,
            "bin_start": 2.02,
            "count": 9
           },
           {
            "bin_end": 2.5,
            "bin_start": 2.2600000000000002,
            "count": 14
           }
          ],
          "max": "2.5",
          "min": "0.1",
          "nan_count": 0,
          "unique_count": 22
         }
        },
        {
         "dtype": "int64",
         "name": "_deepnote_index_column"
        }
       ],
       "row_count": 150,
       "rows": [
        {
         "Id": 1,
         "PetalLengthCm": 1.4,
         "PetalWidthCm": 0.2,
         "SepalLengthCm": 5.1,
         "SepalWidthCm": 3.5,
         "Species": "Iris-setosa",
         "_deepnote_index_column": 0
        },
        {
         "Id": 2,
         "PetalLengthCm": 1.4,
         "PetalWidthCm": 0.2,
         "SepalLengthCm": 4.9,
         "SepalWidthCm": 3,
         "Species": "Iris-setosa",
         "_deepnote_index_column": 1
        },
        {
         "Id": 3,
         "PetalLengthCm": 1.3,
         "PetalWidthCm": 0.2,
         "SepalLengthCm": 4.7,
         "SepalWidthCm": 3.2,
         "Species": "Iris-setosa",
         "_deepnote_index_column": 2
        },
        {
         "Id": 4,
         "PetalLengthCm": 1.5,
         "PetalWidthCm": 0.2,
         "SepalLengthCm": 4.6,
         "SepalWidthCm": 3.1,
         "Species": "Iris-setosa",
         "_deepnote_index_column": 3
        },
        {
         "Id": 5,
         "PetalLengthCm": 1.4,
         "PetalWidthCm": 0.2,
         "SepalLengthCm": 5,
         "SepalWidthCm": 3.6,
         "Species": "Iris-setosa",
         "_deepnote_index_column": 4
        },
        {
         "Id": 6,
         "PetalLengthCm": 1.7,
         "PetalWidthCm": 0.4,
         "SepalLengthCm": 5.4,
         "SepalWidthCm": 3.9,
         "Species": "Iris-setosa",
         "_deepnote_index_column": 5
        },
        {
         "Id": 7,
         "PetalLengthCm": 1.4,
         "PetalWidthCm": 0.3,
         "SepalLengthCm": 4.6,
         "SepalWidthCm": 3.4,
         "Species": "Iris-setosa",
         "_deepnote_index_column": 6
        },
        {
         "Id": 8,
         "PetalLengthCm": 1.5,
         "PetalWidthCm": 0.2,
         "SepalLengthCm": "nan",
         "SepalWidthCm": 3.4,
         "Species": "None",
         "_deepnote_index_column": 7
        },
        {
         "Id": 9,
         "PetalLengthCm": 1.4,
         "PetalWidthCm": 0.2,
         "SepalLengthCm": 4.4,
         "SepalWidthCm": 2.9,
         "Species": "Iris-setosa",
         "_deepnote_index_column": 8
        },
        {
         "Id": 10,
         "PetalLengthCm": 1.5,
         "PetalWidthCm": 0.1,
         "SepalLengthCm": 4.9,
         "SepalWidthCm": 3.1,
         "Species": "Iris-setosa",
         "_deepnote_index_column": 9
        }
       ]
      },
      "text/html": [
       "<div>\n",
       "<style scoped>\n",
       "    .dataframe tbody tr th:only-of-type {\n",
       "        vertical-align: middle;\n",
       "    }\n",
       "\n",
       "    .dataframe tbody tr th {\n",
       "        vertical-align: top;\n",
       "    }\n",
       "\n",
       "    .dataframe thead th {\n",
       "        text-align: right;\n",
       "    }\n",
       "</style>\n",
       "<table border=\"1\" class=\"dataframe\">\n",
       "  <thead>\n",
       "    <tr style=\"text-align: right;\">\n",
       "      <th></th>\n",
       "      <th>Id</th>\n",
       "      <th>SepalLengthCm</th>\n",
       "      <th>SepalWidthCm</th>\n",
       "      <th>Species</th>\n",
       "      <th>PetalLengthCm</th>\n",
       "      <th>PetalWidthCm</th>\n",
       "    </tr>\n",
       "  </thead>\n",
       "  <tbody>\n",
       "    <tr>\n",
       "      <th>0</th>\n",
       "      <td>1</td>\n",
       "      <td>5.1</td>\n",
       "      <td>3.5</td>\n",
       "      <td>Iris-setosa</td>\n",
       "      <td>1.4</td>\n",
       "      <td>0.2</td>\n",
       "    </tr>\n",
       "    <tr>\n",
       "      <th>1</th>\n",
       "      <td>2</td>\n",
       "      <td>4.9</td>\n",
       "      <td>3.0</td>\n",
       "      <td>Iris-setosa</td>\n",
       "      <td>1.4</td>\n",
       "      <td>0.2</td>\n",
       "    </tr>\n",
       "    <tr>\n",
       "      <th>2</th>\n",
       "      <td>3</td>\n",
       "      <td>4.7</td>\n",
       "      <td>3.2</td>\n",
       "      <td>Iris-setosa</td>\n",
       "      <td>1.3</td>\n",
       "      <td>0.2</td>\n",
       "    </tr>\n",
       "    <tr>\n",
       "      <th>3</th>\n",
       "      <td>4</td>\n",
       "      <td>4.6</td>\n",
       "      <td>3.1</td>\n",
       "      <td>Iris-setosa</td>\n",
       "      <td>1.5</td>\n",
       "      <td>0.2</td>\n",
       "    </tr>\n",
       "    <tr>\n",
       "      <th>4</th>\n",
       "      <td>5</td>\n",
       "      <td>5.0</td>\n",
       "      <td>3.6</td>\n",
       "      <td>Iris-setosa</td>\n",
       "      <td>1.4</td>\n",
       "      <td>0.2</td>\n",
       "    </tr>\n",
       "    <tr>\n",
       "      <th>...</th>\n",
       "      <td>...</td>\n",
       "      <td>...</td>\n",
       "      <td>...</td>\n",
       "      <td>...</td>\n",
       "      <td>...</td>\n",
       "      <td>...</td>\n",
       "    </tr>\n",
       "    <tr>\n",
       "      <th>145</th>\n",
       "      <td>146</td>\n",
       "      <td>6.7</td>\n",
       "      <td>3.0</td>\n",
       "      <td>Iris-virginica</td>\n",
       "      <td>5.2</td>\n",
       "      <td>2.3</td>\n",
       "    </tr>\n",
       "    <tr>\n",
       "      <th>146</th>\n",
       "      <td>147</td>\n",
       "      <td>6.3</td>\n",
       "      <td>2.5</td>\n",
       "      <td>Iris-virginica</td>\n",
       "      <td>5.0</td>\n",
       "      <td>1.9</td>\n",
       "    </tr>\n",
       "    <tr>\n",
       "      <th>147</th>\n",
       "      <td>148</td>\n",
       "      <td>6.5</td>\n",
       "      <td>3.0</td>\n",
       "      <td>Iris-virginica</td>\n",
       "      <td>5.2</td>\n",
       "      <td>2.0</td>\n",
       "    </tr>\n",
       "    <tr>\n",
       "      <th>148</th>\n",
       "      <td>149</td>\n",
       "      <td>6.2</td>\n",
       "      <td>3.4</td>\n",
       "      <td>Iris-virginica</td>\n",
       "      <td>5.4</td>\n",
       "      <td>2.3</td>\n",
       "    </tr>\n",
       "    <tr>\n",
       "      <th>149</th>\n",
       "      <td>150</td>\n",
       "      <td>5.9</td>\n",
       "      <td>3.0</td>\n",
       "      <td>Iris-virginica</td>\n",
       "      <td>5.1</td>\n",
       "      <td>1.8</td>\n",
       "    </tr>\n",
       "  </tbody>\n",
       "</table>\n",
       "<p>150 rows × 6 columns</p>\n",
       "</div>"
      ],
      "text/plain": [
       "      Id  SepalLengthCm  SepalWidthCm         Species  PetalLengthCm  \\\n",
       "0      1            5.1           3.5     Iris-setosa            1.4   \n",
       "1      2            4.9           3.0     Iris-setosa            1.4   \n",
       "2      3            4.7           3.2     Iris-setosa            1.3   \n",
       "3      4            4.6           3.1     Iris-setosa            1.5   \n",
       "4      5            5.0           3.6     Iris-setosa            1.4   \n",
       "..   ...            ...           ...             ...            ...   \n",
       "145  146            6.7           3.0  Iris-virginica            5.2   \n",
       "146  147            6.3           2.5  Iris-virginica            5.0   \n",
       "147  148            6.5           3.0  Iris-virginica            5.2   \n",
       "148  149            6.2           3.4  Iris-virginica            5.4   \n",
       "149  150            5.9           3.0  Iris-virginica            5.1   \n",
       "\n",
       "     PetalWidthCm  \n",
       "0             0.2  \n",
       "1             0.2  \n",
       "2             0.2  \n",
       "3             0.2  \n",
       "4             0.2  \n",
       "..            ...  \n",
       "145           2.3  \n",
       "146           1.9  \n",
       "147           2.0  \n",
       "148           2.3  \n",
       "149           1.8  \n",
       "\n",
       "[150 rows x 6 columns]"
      ]
     },
     "execution_count": 5,
     "metadata": {},
     "output_type": "execute_result"
    }
   ],
   "outputs_reference": "s3:deepnote-cell-outputs-production/fef0d9dd-daa6-4ec1-a779-b9544bff23b6",
   "source": [
    "df_iris.head(df_iris.shape[0])"
   ]
  },
  {
   "block_group": "0c3c4135a2a54cc8a1df1eb369ddbed3",
   "cell_type": "markdown",
   "metadata": {
    "cell_id": "64eaa10022d24d24b3875747248be78d",
    "deepnote_cell_type": "text-cell-p",
    "formattedRanges": []
   },
   "source": [
    "Tabel ini memiliki 150 data yang masing-masing datanya memiliki species yang bermacam-macam. 3 spesies yang ada dalam tabel Iris yaitu: "
   ]
  },
  {
   "block_group": "038f2d8d0f1c4b06a8e5a929f421d5b2",
   "cell_type": "markdown",
   "metadata": {
    "cell_id": "d31441a2d5d7496d91505c728be8d573",
    "deepnote_app_block_visible": false,
    "deepnote_cell_type": "text-cell-bullet",
    "formattedRanges": [
     {
      "fromCodePoint": 0,
      "marks": {
       "italic": true
      },
      "toCodePoint": 11,
      "type": "marks"
     }
    ],
    "is_collapsed": false
   },
   "source": [
    "- Iris-setosa"
   ]
  },
  {
   "block_group": "ddf65ad0d2174b8ab2cb7e5ff7a4223a",
   "cell_type": "markdown",
   "metadata": {
    "cell_id": "66bc8d480f164e38b2b22ca63c8cd96f",
    "deepnote_app_block_visible": false,
    "deepnote_cell_type": "text-cell-bullet",
    "formattedRanges": [
     {
      "fromCodePoint": 0,
      "marks": {
       "italic": true
      },
      "toCodePoint": 15,
      "type": "marks"
     }
    ],
    "is_collapsed": false
   },
   "source": [
    "- Iris-versicolor"
   ]
  },
  {
   "block_group": "4e960d8f9d524e45a39423c639d7abc1",
   "cell_type": "markdown",
   "metadata": {
    "cell_id": "7a52a846e5b84499a3ed59b24fe05df2",
    "deepnote_app_block_visible": false,
    "deepnote_cell_type": "text-cell-bullet",
    "formattedRanges": [
     {
      "fromCodePoint": 0,
      "marks": {
       "italic": true
      },
      "toCodePoint": 14,
      "type": "marks"
     }
    ],
    "is_collapsed": false
   },
   "source": [
    "- Iris-virginica."
   ]
  },
  {
   "block_group": "be6693623e404f21b36a52e830271a24",
   "cell_type": "markdown",
   "metadata": {
    "cell_id": "b6078e80adba4cdf946d42d68fd4c914",
    "deepnote_cell_type": "text-cell-p",
    "formattedRanges": []
   },
   "source": [
    "Dalam tabel Iris terdapat 6 kolom yang dapat mempengaruhi klasifikasi yaitu:"
   ]
  },
  {
   "block_group": "4253b894f01f4390a228d299403d7be5",
   "cell_type": "markdown",
   "metadata": {
    "cell_id": "ed9142f5ee8441e1957c98e048572c54",
    "deepnote_cell_type": "text-cell-bullet",
    "formattedRanges": []
   },
   "source": [
    "- Id -> untuk mengidentifikasi setiap baris data "
   ]
  },
  {
   "block_group": "c70c69740fbe4234b99d7e3368479076",
   "cell_type": "markdown",
   "metadata": {
    "cell_id": "b2e6a36cbb7743de956188217c694118",
    "deepnote_app_block_visible": false,
    "deepnote_cell_type": "text-cell-bullet",
    "formattedRanges": [
     {
      "fromCodePoint": 0,
      "marks": {
       "italic": true
      },
      "toCodePoint": 62,
      "type": "marks"
     }
    ],
    "is_collapsed": false
   },
   "source": [
    "- SepalLengthCm -> untuk menyimpan berbagai nilai panjang Sepal "
   ]
  },
  {
   "block_group": "d369128072944c1f917a01f32c068745",
   "cell_type": "markdown",
   "metadata": {
    "cell_id": "42722aa781d44f4080c9fab96a3bebf4",
    "deepnote_app_block_visible": false,
    "deepnote_cell_type": "text-cell-bullet",
    "formattedRanges": [
     {
      "fromCodePoint": 0,
      "marks": {
       "italic": true
      },
      "toCodePoint": 59,
      "type": "marks"
     }
    ],
    "is_collapsed": false
   },
   "source": [
    "- SepalWidthCm -> untuk menyimpan berbagai nilai lebar Sepal "
   ]
  },
  {
   "block_group": "1a8565a9f4f6427183dfe45e6712ee43",
   "cell_type": "markdown",
   "metadata": {
    "cell_id": "2171824feebe45bab4bcbcff7cbf640d",
    "deepnote_app_block_visible": false,
    "deepnote_cell_type": "text-cell-bullet",
    "formattedRanges": [
     {
      "fromCodePoint": 0,
      "marks": {
       "italic": true
      },
      "toCodePoint": 61,
      "type": "marks"
     }
    ],
    "is_collapsed": false
   },
   "source": [
    "- PetalLengthCm -> untuk menyimpan berbagai nilai panjang Petal"
   ]
  },
  {
   "block_group": "2d917d1be14048a1bb5cb7d056c69374",
   "cell_type": "markdown",
   "metadata": {
    "cell_id": "e2b34210f35347a898ebc8b94c4217ec",
    "deepnote_app_block_visible": false,
    "deepnote_cell_type": "text-cell-bullet",
    "formattedRanges": [
     {
      "fromCodePoint": 0,
      "marks": {
       "italic": true
      },
      "toCodePoint": 58,
      "type": "marks"
     }
    ],
    "is_collapsed": false
   },
   "source": [
    "- PetalWidthCm -> untuk menyimpan berbagai nilai lebar Petal"
   ]
  },
  {
   "block_group": "8adb9dd91f154497b3c2985ee91bb93d",
   "cell_type": "markdown",
   "metadata": {
    "cell_id": "d1f0e9cd20d34789a1d64522d6bec69f",
    "deepnote_app_block_visible": false,
    "deepnote_cell_type": "text-cell-bullet",
    "formattedRanges": [
     {
      "fromCodePoint": 0,
      "marks": {
       "italic": true
      },
      "toCodePoint": 97,
      "type": "marks"
     }
    ],
    "is_collapsed": false
   },
   "source": [
    "- Species -> untuk menyimpan berbagai jenis species tergantung dari hasil pengukuran yang dilakukan"
   ]
  },
  {
   "block_group": "34e2db27959f4e8a9906b0227d59743e",
   "cell_type": "markdown",
   "metadata": {
    "cell_id": "aabca945883146c0bbbfb677511b29aa",
    "deepnote_cell_type": "text-cell-h2",
    "formattedRanges": []
   },
   "source": [
    "## Eksplorasi Data Kotor"
   ]
  },
  {
   "block_group": "3b85fb721fec4bec9c2f67a9896e63af",
   "cell_type": "markdown",
   "metadata": {
    "cell_id": "45d704abfc114ae588a2cd82bcb5a567",
    "deepnote_cell_type": "text-cell-p",
    "formattedRanges": []
   },
   "source": [
    "Eksplorasi data kotor adalah tahap awal untuk mengidentifikasi data kotor atau masalah yang perlu diperbaiki. Tabel di bawah ini menunjukkan bahwa terdapat data yang kotor dengan nilai yang hilang (NULL) di kolom \"SepalLengthCm\" (ID 8, 22, 50, 83, dan 136), serta kolom \"Species\" (ID 8 dan 50) dalam tabel \"iris\"."
   ]
  },
  {
   "block_group": "217b0026aa644b58ad099eaec9fc45b0",
   "cell_type": "code",
   "execution_count": 6,
   "metadata": {
    "cell_id": "0391920d0ad049f4ab5950656499640d",
    "deepnote_cell_type": "code",
    "deepnote_to_be_reexecuted": false,
    "execution_millis": 373,
    "execution_start": 1711580425329,
    "source_hash": "667cd152"
   },
   "outputs": [
    {
     "data": {
      "application/vnd.deepnote.dataframe.v3+json": {
       "column_count": 6,
       "columns": [
        {
         "dtype": "int64",
         "name": "Id",
         "stats": {
          "histogram": [
           {
            "bin_end": 20.8,
            "bin_start": 8,
            "count": 1
           },
           {
            "bin_end": 33.6,
            "bin_start": 20.8,
            "count": 1
           },
           {
            "bin_end": 46.400000000000006,
            "bin_start": 33.6,
            "count": 0
           },
           {
            "bin_end": 59.2,
            "bin_start": 46.400000000000006,
            "count": 1
           },
           {
            "bin_end": 72,
            "bin_start": 59.2,
            "count": 0
           },
           {
            "bin_end": 84.80000000000001,
            "bin_start": 72,
            "count": 1
           },
           {
            "bin_end": 97.60000000000001,
            "bin_start": 84.80000000000001,
            "count": 0
           },
           {
            "bin_end": 110.4,
            "bin_start": 97.60000000000001,
            "count": 0
           },
           {
            "bin_end": 123.2,
            "bin_start": 110.4,
            "count": 0
           },
           {
            "bin_end": 136,
            "bin_start": 123.2,
            "count": 1
           }
          ],
          "max": "136",
          "min": "8",
          "nan_count": 0,
          "unique_count": 5
         }
        },
        {
         "dtype": "float64",
         "name": "SepalLengthCm",
         "stats": {
          "histogram": [
           {
            "bin_end": 0.1,
            "bin_start": 0,
            "count": 0
           },
           {
            "bin_end": 0.2,
            "bin_start": 0.1,
            "count": 0
           },
           {
            "bin_end": 0.30000000000000004,
            "bin_start": 0.2,
            "count": 0
           },
           {
            "bin_end": 0.4,
            "bin_start": 0.30000000000000004,
            "count": 0
           },
           {
            "bin_end": 0.5,
            "bin_start": 0.4,
            "count": 0
           },
           {
            "bin_end": 0.6000000000000001,
            "bin_start": 0.5,
            "count": 0
           },
           {
            "bin_end": 0.7000000000000001,
            "bin_start": 0.6000000000000001,
            "count": 0
           },
           {
            "bin_end": 0.8,
            "bin_start": 0.7000000000000001,
            "count": 0
           },
           {
            "bin_end": 0.9,
            "bin_start": 0.8,
            "count": 0
           },
           {
            "bin_end": 1,
            "bin_start": 0.9,
            "count": 0
           }
          ],
          "max": null,
          "min": null,
          "nan_count": 5,
          "unique_count": 0
         }
        },
        {
         "dtype": "float64",
         "name": "SepalWidthCm",
         "stats": {
          "histogram": [
           {
            "bin_end": 2.8000000000000003,
            "bin_start": 2.7,
            "count": 1
           },
           {
            "bin_end": 2.9000000000000004,
            "bin_start": 2.8000000000000003,
            "count": 0
           },
           {
            "bin_end": 3,
            "bin_start": 2.9000000000000004,
            "count": 0
           },
           {
            "bin_end": 3.1,
            "bin_start": 3,
            "count": 1
           },
           {
            "bin_end": 3.2,
            "bin_start": 3.1,
            "count": 0
           },
           {
            "bin_end": 3.3000000000000003,
            "bin_start": 3.2,
            "count": 1
           },
           {
            "bin_end": 3.4000000000000004,
            "bin_start": 3.3000000000000003,
            "count": 1
           },
           {
            "bin_end": 3.5,
            "bin_start": 3.4000000000000004,
            "count": 0
           },
           {
            "bin_end": 3.6,
            "bin_start": 3.5,
            "count": 0
           },
           {
            "bin_end": 3.7,
            "bin_start": 3.6,
            "count": 1
           }
          ],
          "max": "3.7",
          "min": "2.7",
          "nan_count": 0,
          "unique_count": 5
         }
        },
        {
         "dtype": "object",
         "name": "Species",
         "stats": {
          "categories": [
           {
            "count": 1,
            "name": "Iris-setosa"
           },
           {
            "count": 2,
            "name": "2 others"
           },
           {
            "count": 2,
            "name": "Missing"
           }
          ],
          "nan_count": 2,
          "unique_count": 3
         }
        },
        {
         "dtype": "float64",
         "name": "PetalLengthCm",
         "stats": {
          "histogram": [
           {
            "bin_end": 1.8699999999999999,
            "bin_start": 1.4,
            "count": 3
           },
           {
            "bin_end": 2.34,
            "bin_start": 1.8699999999999999,
            "count": 0
           },
           {
            "bin_end": 2.8099999999999996,
            "bin_start": 2.34,
            "count": 0
           },
           {
            "bin_end": 3.2799999999999994,
            "bin_start": 2.8099999999999996,
            "count": 0
           },
           {
            "bin_end": 3.7499999999999996,
            "bin_start": 3.2799999999999994,
            "count": 0
           },
           {
            "bin_end": 4.219999999999999,
            "bin_start": 3.7499999999999996,
            "count": 1
           },
           {
            "bin_end": 4.6899999999999995,
            "bin_start": 4.219999999999999,
            "count": 0
           },
           {
            "bin_end": 5.159999999999999,
            "bin_start": 4.6899999999999995,
            "count": 0
           },
           {
            "bin_end": 5.629999999999999,
            "bin_start": 5.159999999999999,
            "count": 0
           },
           {
            "bin_end": 6.1,
            "bin_start": 5.629999999999999,
            "count": 1
           }
          ],
          "max": "6.1",
          "min": "1.4",
          "nan_count": 0,
          "unique_count": 4
         }
        },
        {
         "dtype": "float64",
         "name": "PetalWidthCm",
         "stats": {
          "histogram": [
           {
            "bin_end": 0.41,
            "bin_start": 0.2,
            "count": 3
           },
           {
            "bin_end": 0.6199999999999999,
            "bin_start": 0.41,
            "count": 0
           },
           {
            "bin_end": 0.8299999999999998,
            "bin_start": 0.6199999999999999,
            "count": 0
           },
           {
            "bin_end": 1.0399999999999998,
            "bin_start": 0.8299999999999998,
            "count": 0
           },
           {
            "bin_end": 1.2499999999999998,
            "bin_start": 1.0399999999999998,
            "count": 1
           },
           {
            "bin_end": 1.4599999999999997,
            "bin_start": 1.2499999999999998,
            "count": 0
           },
           {
            "bin_end": 1.6699999999999997,
            "bin_start": 1.4599999999999997,
            "count": 0
           },
           {
            "bin_end": 1.8799999999999997,
            "bin_start": 1.6699999999999997,
            "count": 0
           },
           {
            "bin_end": 2.09,
            "bin_start": 1.8799999999999997,
            "count": 0
           },
           {
            "bin_end": 2.3,
            "bin_start": 2.09,
            "count": 1
           }
          ],
          "max": "2.3",
          "min": "0.2",
          "nan_count": 0,
          "unique_count": 4
         }
        },
        {
         "dtype": "int64",
         "name": "_deepnote_index_column"
        }
       ],
       "row_count": 5,
       "rows": [
        {
         "Id": 8,
         "PetalLengthCm": 1.5,
         "PetalWidthCm": 0.2,
         "SepalLengthCm": "nan",
         "SepalWidthCm": 3.4,
         "Species": "None",
         "_deepnote_index_column": 7
        },
        {
         "Id": 22,
         "PetalLengthCm": 1.5,
         "PetalWidthCm": 0.4,
         "SepalLengthCm": "nan",
         "SepalWidthCm": 3.7,
         "Species": "Iris-setosa",
         "_deepnote_index_column": 21
        },
        {
         "Id": 50,
         "PetalLengthCm": 1.4,
         "PetalWidthCm": 0.2,
         "SepalLengthCm": "nan",
         "SepalWidthCm": 3.3,
         "Species": "None",
         "_deepnote_index_column": 49
        },
        {
         "Id": 83,
         "PetalLengthCm": 3.9,
         "PetalWidthCm": 1.2,
         "SepalLengthCm": "nan",
         "SepalWidthCm": 2.7,
         "Species": "Iris-versicolor",
         "_deepnote_index_column": 82
        },
        {
         "Id": 136,
         "PetalLengthCm": 6.1,
         "PetalWidthCm": 2.3,
         "SepalLengthCm": "nan",
         "SepalWidthCm": 3,
         "Species": "Iris-virginica",
         "_deepnote_index_column": 135
        }
       ]
      },
      "text/html": [
       "<div>\n",
       "<style scoped>\n",
       "    .dataframe tbody tr th:only-of-type {\n",
       "        vertical-align: middle;\n",
       "    }\n",
       "\n",
       "    .dataframe tbody tr th {\n",
       "        vertical-align: top;\n",
       "    }\n",
       "\n",
       "    .dataframe thead th {\n",
       "        text-align: right;\n",
       "    }\n",
       "</style>\n",
       "<table border=\"1\" class=\"dataframe\">\n",
       "  <thead>\n",
       "    <tr style=\"text-align: right;\">\n",
       "      <th></th>\n",
       "      <th>Id</th>\n",
       "      <th>SepalLengthCm</th>\n",
       "      <th>SepalWidthCm</th>\n",
       "      <th>Species</th>\n",
       "      <th>PetalLengthCm</th>\n",
       "      <th>PetalWidthCm</th>\n",
       "    </tr>\n",
       "  </thead>\n",
       "  <tbody>\n",
       "    <tr>\n",
       "      <th>7</th>\n",
       "      <td>8</td>\n",
       "      <td>NaN</td>\n",
       "      <td>3.4</td>\n",
       "      <td>None</td>\n",
       "      <td>1.5</td>\n",
       "      <td>0.2</td>\n",
       "    </tr>\n",
       "    <tr>\n",
       "      <th>21</th>\n",
       "      <td>22</td>\n",
       "      <td>NaN</td>\n",
       "      <td>3.7</td>\n",
       "      <td>Iris-setosa</td>\n",
       "      <td>1.5</td>\n",
       "      <td>0.4</td>\n",
       "    </tr>\n",
       "    <tr>\n",
       "      <th>49</th>\n",
       "      <td>50</td>\n",
       "      <td>NaN</td>\n",
       "      <td>3.3</td>\n",
       "      <td>None</td>\n",
       "      <td>1.4</td>\n",
       "      <td>0.2</td>\n",
       "    </tr>\n",
       "    <tr>\n",
       "      <th>82</th>\n",
       "      <td>83</td>\n",
       "      <td>NaN</td>\n",
       "      <td>2.7</td>\n",
       "      <td>Iris-versicolor</td>\n",
       "      <td>3.9</td>\n",
       "      <td>1.2</td>\n",
       "    </tr>\n",
       "    <tr>\n",
       "      <th>135</th>\n",
       "      <td>136</td>\n",
       "      <td>NaN</td>\n",
       "      <td>3.0</td>\n",
       "      <td>Iris-virginica</td>\n",
       "      <td>6.1</td>\n",
       "      <td>2.3</td>\n",
       "    </tr>\n",
       "  </tbody>\n",
       "</table>\n",
       "</div>"
      ],
      "text/plain": [
       "      Id  SepalLengthCm  SepalWidthCm          Species  PetalLengthCm  \\\n",
       "7      8            NaN           3.4             None            1.5   \n",
       "21    22            NaN           3.7      Iris-setosa            1.5   \n",
       "49    50            NaN           3.3             None            1.4   \n",
       "82    83            NaN           2.7  Iris-versicolor            3.9   \n",
       "135  136            NaN           3.0   Iris-virginica            6.1   \n",
       "\n",
       "     PetalWidthCm  \n",
       "7             0.2  \n",
       "21            0.4  \n",
       "49            0.2  \n",
       "82            1.2  \n",
       "135           2.3  "
      ]
     },
     "execution_count": 6,
     "metadata": {},
     "output_type": "execute_result"
    }
   ],
   "outputs_reference": "s3:deepnote-cell-outputs-production/0e7dfa50-96af-4dc8-a063-462cf58628ab",
   "source": [
    "data_kotor = df_iris.query('SepalLengthCm.isnull() or SepalWidthCm.isnull() or PetalLengthCm.isnull() or PetalWidthCm.isnull()')\n",
    "data_kotor.head(data_kotor.shape[0])"
   ]
  },
  {
   "block_group": "9926989d693441ee80c92017f6df39e0",
   "cell_type": "markdown",
   "metadata": {
    "cell_id": "dfdb8def9f01498793776e0f0989768d",
    "deepnote_cell_type": "text-cell-h2",
    "formattedRanges": []
   },
   "source": [
    "## Verifikasi Kualitas Data"
   ]
  },
  {
   "block_group": "f083fa35d173425caa7acdc8a6286013",
   "cell_type": "markdown",
   "metadata": {
    "cell_id": "3822d05e677b4383b61c592c4a7ae869",
    "deepnote_cell_type": "text-cell-p",
    "formattedRanges": []
   },
   "source": [
    "\r\n",
    "Verifikasi kualitas data adalah tahap untuk memastikan data yang tersedia memenuhi standar tertentu dalam hal akurasi, kelengkapan, dan konsistensi. Tujuan dari verifikasi kualitas data adalah untuk memastikan data dapat dipercaya dan digunakan. Dari tahap eksplorasi data kotor yang dilakukan sebelumnya, menunjukkan bahwa terdapat data yang kotor dengan nilai yang hilang (NULL) di kolom \"SepalLengthCm\" (ID 8, 22, 50, 83, dan 136), serta kolom \"Species\" (ID 8 dan 50) dalam tabel \"iris\". Untuk memperbaiki kualitas data, langkah-langkah yang akan dilakukan adalah sebagai berikut:"
   ]
  },
  {
   "block_group": "fd685b2e31b448c2bc518db0136c92d4",
   "cell_type": "markdown",
   "metadata": {
    "cell_id": "a5d958b938ad495699ab02a70a675db0",
    "deepnote_cell_type": "text-cell-bullet",
    "formattedRanges": []
   },
   "source": [
    "- Menghapus baris yang mengandung nilai kosong (NULL) pada kolom \"SepalLengthCm\" dan \"Species\". Langkah ini akan menghilangkan baris yang memiliki nilai NULL dalam kolom \"SepalLengthCm\" dan \"Species\"."
   ]
  },
  {
   "block_group": "44a790a47e1645478ca8cefef4c94491",
   "cell_type": "markdown",
   "metadata": {
    "cell_id": "b12883afd96744a2a3c3dbebb99f5f97",
    "deepnote_cell_type": "text-cell-bullet",
    "formattedRanges": []
   },
   "source": [
    "- Melakukan imputasi nilai kosong untuk baris data yang mengandung nilai kosong (NULL) menggunakan metode Mean (rata-rata). Metode ini menggantikan nilai yang hilang dengan menghitung nilai rata-rata dari kolom \"SepalLengthCm\"."
   ]
  },
  {
   "block_group": "cbdac1db5bbd493db5138357f783db26",
   "cell_type": "markdown",
   "metadata": {
    "cell_id": "3f931b39da034849b2d9e51e8420fb24",
    "deepnote_cell_type": "text-cell-bullet",
    "formattedRanges": []
   },
   "source": [
    "- \r",
    "Melakukan imputasi nilai kosong untuk baris data yang mengandung nilai kosong (NULL) menggunakan metode KNN (K-Nearest Neighbors). Metode KNN bertujuan menemukan K-Nearest Neighbors (tetangga terdekat) dari baris yang memiliki nilai kosong, dan menggunakan nilai-nilai dari KNN untuk mengisi nilai yang hilang."
   ]
  },
  {
   "block_group": "30d2fc6775144e37919119965fa4e82b",
   "cell_type": "markdown",
   "metadata": {
    "cell_id": "b862dbbe813a463299ee30d4bcd646fa",
    "deepnote_cell_type": "text-cell-h1",
    "formattedRanges": []
   },
   "source": [
    "# Persiapan data (Preprocessing Data)"
   ]
  },
  {
   "block_group": "5988a414224543f4a2c273533ae77c95",
   "cell_type": "markdown",
   "metadata": {
    "cell_id": "6c519b5096894b6b9bdb46ad8d1e0815",
    "deepnote_cell_type": "text-cell-p",
    "formattedRanges": []
   },
   "source": [
    "Preprocessing data adalah tahap untuk membersihkan, dan mempersiapkan data. Tujuan utama preprocessing data adalah untuk meningkatkan kualitas data, menghilangkan anomali, dan membuat data menjadi siap untuk dieksplorasi atau digunakan."
   ]
  },
  {
   "block_group": "682cdcacd77f438186497189da83b800",
   "cell_type": "markdown",
   "metadata": {
    "cell_id": "e467c1b359214b178901af47e28a668d",
    "deepnote_cell_type": "text-cell-h1",
    "formattedRanges": []
   },
   "source": [
    "# Penanganan Missing Values"
   ]
  },
  {
   "block_group": "8a6da06c081e45afbedceb04f56b7b64",
   "cell_type": "markdown",
   "metadata": {
    "cell_id": "2955c9ebaebd4179aeb7f1e1866a0078",
    "deepnote_cell_type": "text-cell-h2",
    "formattedRanges": []
   },
   "source": [
    "## Penghapusan baris yang mengandung nilai kosong"
   ]
  },
  {
   "block_group": "156f01ca1d874c0e9c3cb405506b4ebb",
   "cell_type": "markdown",
   "metadata": {
    "cell_id": "b4ea602d388846f0a3954f325cf6ba32",
    "deepnote_cell_type": "text-cell-p",
    "formattedRanges": []
   },
   "source": [
    "Pada tahap ini menampilkan data-data yang mengandung nilai NULL"
   ]
  },
  {
   "block_group": "c85f1c735c31481198286105063b1ebe",
   "cell_type": "code",
   "execution_count": 10,
   "metadata": {
    "cell_id": "c3356acf61554cc5ac0474c86dd9375a",
    "deepnote_cell_type": "code",
    "deepnote_to_be_reexecuted": false,
    "execution_millis": 263,
    "execution_start": 1711580572891,
    "source_hash": "aaf2af52"
   },
   "outputs": [
    {
     "data": {
      "application/vnd.deepnote.dataframe.v3+json": {
       "column_count": 6,
       "columns": [
        {
         "dtype": "int64",
         "name": "Id",
         "stats": {
          "histogram": [
           {
            "bin_end": 20.8,
            "bin_start": 8,
            "count": 1
           },
           {
            "bin_end": 33.6,
            "bin_start": 20.8,
            "count": 1
           },
           {
            "bin_end": 46.400000000000006,
            "bin_start": 33.6,
            "count": 0
           },
           {
            "bin_end": 59.2,
            "bin_start": 46.400000000000006,
            "count": 1
           },
           {
            "bin_end": 72,
            "bin_start": 59.2,
            "count": 0
           },
           {
            "bin_end": 84.80000000000001,
            "bin_start": 72,
            "count": 1
           },
           {
            "bin_end": 97.60000000000001,
            "bin_start": 84.80000000000001,
            "count": 0
           },
           {
            "bin_end": 110.4,
            "bin_start": 97.60000000000001,
            "count": 0
           },
           {
            "bin_end": 123.2,
            "bin_start": 110.4,
            "count": 0
           },
           {
            "bin_end": 136,
            "bin_start": 123.2,
            "count": 1
           }
          ],
          "max": "136",
          "min": "8",
          "nan_count": 0,
          "unique_count": 5
         }
        },
        {
         "dtype": "float64",
         "name": "SepalLengthCm",
         "stats": {
          "histogram": [
           {
            "bin_end": 0.1,
            "bin_start": 0,
            "count": 0
           },
           {
            "bin_end": 0.2,
            "bin_start": 0.1,
            "count": 0
           },
           {
            "bin_end": 0.30000000000000004,
            "bin_start": 0.2,
            "count": 0
           },
           {
            "bin_end": 0.4,
            "bin_start": 0.30000000000000004,
            "count": 0
           },
           {
            "bin_end": 0.5,
            "bin_start": 0.4,
            "count": 0
           },
           {
            "bin_end": 0.6000000000000001,
            "bin_start": 0.5,
            "count": 0
           },
           {
            "bin_end": 0.7000000000000001,
            "bin_start": 0.6000000000000001,
            "count": 0
           },
           {
            "bin_end": 0.8,
            "bin_start": 0.7000000000000001,
            "count": 0
           },
           {
            "bin_end": 0.9,
            "bin_start": 0.8,
            "count": 0
           },
           {
            "bin_end": 1,
            "bin_start": 0.9,
            "count": 0
           }
          ],
          "max": null,
          "min": null,
          "nan_count": 5,
          "unique_count": 0
         }
        },
        {
         "dtype": "float64",
         "name": "SepalWidthCm",
         "stats": {
          "histogram": [
           {
            "bin_end": 2.8000000000000003,
            "bin_start": 2.7,
            "count": 1
           },
           {
            "bin_end": 2.9000000000000004,
            "bin_start": 2.8000000000000003,
            "count": 0
           },
           {
            "bin_end": 3,
            "bin_start": 2.9000000000000004,
            "count": 0
           },
           {
            "bin_end": 3.1,
            "bin_start": 3,
            "count": 1
           },
           {
            "bin_end": 3.2,
            "bin_start": 3.1,
            "count": 0
           },
           {
            "bin_end": 3.3000000000000003,
            "bin_start": 3.2,
            "count": 1
           },
           {
            "bin_end": 3.4000000000000004,
            "bin_start": 3.3000000000000003,
            "count": 1
           },
           {
            "bin_end": 3.5,
            "bin_start": 3.4000000000000004,
            "count": 0
           },
           {
            "bin_end": 3.6,
            "bin_start": 3.5,
            "count": 0
           },
           {
            "bin_end": 3.7,
            "bin_start": 3.6,
            "count": 1
           }
          ],
          "max": "3.7",
          "min": "2.7",
          "nan_count": 0,
          "unique_count": 5
         }
        },
        {
         "dtype": "object",
         "name": "Species",
         "stats": {
          "categories": [
           {
            "count": 1,
            "name": "Iris-setosa"
           },
           {
            "count": 2,
            "name": "2 others"
           },
           {
            "count": 2,
            "name": "Missing"
           }
          ],
          "nan_count": 2,
          "unique_count": 3
         }
        },
        {
         "dtype": "float64",
         "name": "PetalLengthCm",
         "stats": {
          "histogram": [
           {
            "bin_end": 1.8699999999999999,
            "bin_start": 1.4,
            "count": 3
           },
           {
            "bin_end": 2.34,
            "bin_start": 1.8699999999999999,
            "count": 0
           },
           {
            "bin_end": 2.8099999999999996,
            "bin_start": 2.34,
            "count": 0
           },
           {
            "bin_end": 3.2799999999999994,
            "bin_start": 2.8099999999999996,
            "count": 0
           },
           {
            "bin_end": 3.7499999999999996,
            "bin_start": 3.2799999999999994,
            "count": 0
           },
           {
            "bin_end": 4.219999999999999,
            "bin_start": 3.7499999999999996,
            "count": 1
           },
           {
            "bin_end": 4.6899999999999995,
            "bin_start": 4.219999999999999,
            "count": 0
           },
           {
            "bin_end": 5.159999999999999,
            "bin_start": 4.6899999999999995,
            "count": 0
           },
           {
            "bin_end": 5.629999999999999,
            "bin_start": 5.159999999999999,
            "count": 0
           },
           {
            "bin_end": 6.1,
            "bin_start": 5.629999999999999,
            "count": 1
           }
          ],
          "max": "6.1",
          "min": "1.4",
          "nan_count": 0,
          "unique_count": 4
         }
        },
        {
         "dtype": "float64",
         "name": "PetalWidthCm",
         "stats": {
          "histogram": [
           {
            "bin_end": 0.41,
            "bin_start": 0.2,
            "count": 3
           },
           {
            "bin_end": 0.6199999999999999,
            "bin_start": 0.41,
            "count": 0
           },
           {
            "bin_end": 0.8299999999999998,
            "bin_start": 0.6199999999999999,
            "count": 0
           },
           {
            "bin_end": 1.0399999999999998,
            "bin_start": 0.8299999999999998,
            "count": 0
           },
           {
            "bin_end": 1.2499999999999998,
            "bin_start": 1.0399999999999998,
            "count": 1
           },
           {
            "bin_end": 1.4599999999999997,
            "bin_start": 1.2499999999999998,
            "count": 0
           },
           {
            "bin_end": 1.6699999999999997,
            "bin_start": 1.4599999999999997,
            "count": 0
           },
           {
            "bin_end": 1.8799999999999997,
            "bin_start": 1.6699999999999997,
            "count": 0
           },
           {
            "bin_end": 2.09,
            "bin_start": 1.8799999999999997,
            "count": 0
           },
           {
            "bin_end": 2.3,
            "bin_start": 2.09,
            "count": 1
           }
          ],
          "max": "2.3",
          "min": "0.2",
          "nan_count": 0,
          "unique_count": 4
         }
        },
        {
         "dtype": "int64",
         "name": "_deepnote_index_column"
        }
       ],
       "row_count": 5,
       "rows": [
        {
         "Id": 8,
         "PetalLengthCm": 1.5,
         "PetalWidthCm": 0.2,
         "SepalLengthCm": "nan",
         "SepalWidthCm": 3.4,
         "Species": "None",
         "_deepnote_index_column": 7
        },
        {
         "Id": 22,
         "PetalLengthCm": 1.5,
         "PetalWidthCm": 0.4,
         "SepalLengthCm": "nan",
         "SepalWidthCm": 3.7,
         "Species": "Iris-setosa",
         "_deepnote_index_column": 21
        },
        {
         "Id": 50,
         "PetalLengthCm": 1.4,
         "PetalWidthCm": 0.2,
         "SepalLengthCm": "nan",
         "SepalWidthCm": 3.3,
         "Species": "None",
         "_deepnote_index_column": 49
        },
        {
         "Id": 83,
         "PetalLengthCm": 3.9,
         "PetalWidthCm": 1.2,
         "SepalLengthCm": "nan",
         "SepalWidthCm": 2.7,
         "Species": "Iris-versicolor",
         "_deepnote_index_column": 82
        },
        {
         "Id": 136,
         "PetalLengthCm": 6.1,
         "PetalWidthCm": 2.3,
         "SepalLengthCm": "nan",
         "SepalWidthCm": 3,
         "Species": "Iris-virginica",
         "_deepnote_index_column": 135
        }
       ]
      },
      "text/html": [
       "<div>\n",
       "<style scoped>\n",
       "    .dataframe tbody tr th:only-of-type {\n",
       "        vertical-align: middle;\n",
       "    }\n",
       "\n",
       "    .dataframe tbody tr th {\n",
       "        vertical-align: top;\n",
       "    }\n",
       "\n",
       "    .dataframe thead th {\n",
       "        text-align: right;\n",
       "    }\n",
       "</style>\n",
       "<table border=\"1\" class=\"dataframe\">\n",
       "  <thead>\n",
       "    <tr style=\"text-align: right;\">\n",
       "      <th></th>\n",
       "      <th>Id</th>\n",
       "      <th>SepalLengthCm</th>\n",
       "      <th>SepalWidthCm</th>\n",
       "      <th>Species</th>\n",
       "      <th>PetalLengthCm</th>\n",
       "      <th>PetalWidthCm</th>\n",
       "    </tr>\n",
       "  </thead>\n",
       "  <tbody>\n",
       "    <tr>\n",
       "      <th>7</th>\n",
       "      <td>8</td>\n",
       "      <td>NaN</td>\n",
       "      <td>3.4</td>\n",
       "      <td>None</td>\n",
       "      <td>1.5</td>\n",
       "      <td>0.2</td>\n",
       "    </tr>\n",
       "    <tr>\n",
       "      <th>21</th>\n",
       "      <td>22</td>\n",
       "      <td>NaN</td>\n",
       "      <td>3.7</td>\n",
       "      <td>Iris-setosa</td>\n",
       "      <td>1.5</td>\n",
       "      <td>0.4</td>\n",
       "    </tr>\n",
       "    <tr>\n",
       "      <th>49</th>\n",
       "      <td>50</td>\n",
       "      <td>NaN</td>\n",
       "      <td>3.3</td>\n",
       "      <td>None</td>\n",
       "      <td>1.4</td>\n",
       "      <td>0.2</td>\n",
       "    </tr>\n",
       "    <tr>\n",
       "      <th>82</th>\n",
       "      <td>83</td>\n",
       "      <td>NaN</td>\n",
       "      <td>2.7</td>\n",
       "      <td>Iris-versicolor</td>\n",
       "      <td>3.9</td>\n",
       "      <td>1.2</td>\n",
       "    </tr>\n",
       "    <tr>\n",
       "      <th>135</th>\n",
       "      <td>136</td>\n",
       "      <td>NaN</td>\n",
       "      <td>3.0</td>\n",
       "      <td>Iris-virginica</td>\n",
       "      <td>6.1</td>\n",
       "      <td>2.3</td>\n",
       "    </tr>\n",
       "  </tbody>\n",
       "</table>\n",
       "</div>"
      ],
      "text/plain": [
       "      Id  SepalLengthCm  SepalWidthCm          Species  PetalLengthCm  \\\n",
       "7      8            NaN           3.4             None            1.5   \n",
       "21    22            NaN           3.7      Iris-setosa            1.5   \n",
       "49    50            NaN           3.3             None            1.4   \n",
       "82    83            NaN           2.7  Iris-versicolor            3.9   \n",
       "135  136            NaN           3.0   Iris-virginica            6.1   \n",
       "\n",
       "     PetalWidthCm  \n",
       "7             0.2  \n",
       "21            0.4  \n",
       "49            0.2  \n",
       "82            1.2  \n",
       "135           2.3  "
      ]
     },
     "execution_count": 10,
     "metadata": {},
     "output_type": "execute_result"
    }
   ],
   "outputs_reference": "s3:deepnote-cell-outputs-production/2687e4b1-5554-4db9-b3fa-ad2b3ca30b75",
   "source": [
    "df_iris.loc[df_iris['SepalLengthCm'].isnull() | df_iris['SepalWidthCm'].isnull() | df_iris['PetalLengthCm'].isnull() | df_iris['PetalWidthCm'].isnull()]"
   ]
  },
  {
   "block_group": "94bb36e8287f44dcae1dd0ed904ab16d",
   "cell_type": "markdown",
   "metadata": {
    "cell_id": "b96d527b79824a25b02c3b7c3a4591ce",
    "deepnote_cell_type": "text-cell-p",
    "formattedRanges": []
   },
   "source": [
    "Menghapus baris yang mengandung nilai NULL pada kolom SepalLengthCm dan Species di data indeks ke-8 dan 50."
   ]
  },
  {
   "block_group": "adf0fc4671244d078d39c0105d438db1",
   "cell_type": "code",
   "execution_count": 11,
   "metadata": {
    "cell_id": "81078e8bf16c4ecaa632196fb995eff0",
    "deepnote_cell_type": "code",
    "deepnote_to_be_reexecuted": false,
    "execution_millis": 114,
    "execution_start": 1711580592144,
    "source_hash": "93f0af39"
   },
   "outputs": [],
   "outputs_reference": null,
   "source": [
    "df_iris = df_iris.dropna(subset=['SepalLengthCm', 'Species'], how = 'all')"
   ]
  },
  {
   "block_group": "3fafeb3545194c98bebaacefbc48c888",
   "cell_type": "markdown",
   "metadata": {
    "cell_id": "b766991b2c1341629ff54a72d7f16226",
    "deepnote_cell_type": "text-cell-p",
    "formattedRanges": []
   },
   "source": [
    "Untuk mengetahui kolom mana yang masih memiliki missing values dan jumlah missing values yang dimiliki, dapat dilihat pada kode dibawah ini"
   ]
  },
  {
   "block_group": "c5e0bafded2547fb84ddcc2f22f28ae8",
   "cell_type": "code",
   "execution_count": 12,
   "metadata": {
    "cell_id": "d89bc00431b54a298f182a0763d12208",
    "deepnote_cell_type": "code",
    "deepnote_to_be_reexecuted": false,
    "execution_millis": 93,
    "execution_start": 1711580613148,
    "source_hash": "3b9dfc6f"
   },
   "outputs": [
    {
     "data": {
      "text/plain": [
       "Id               0\n",
       "SepalLengthCm    3\n",
       "SepalWidthCm     0\n",
       "Species          0\n",
       "PetalLengthCm    0\n",
       "PetalWidthCm     0\n",
       "dtype: int64"
      ]
     },
     "execution_count": 12,
     "metadata": {},
     "output_type": "execute_result"
    }
   ],
   "outputs_reference": "dbtable:cell_outputs/02f31f51-f49f-419d-85ac-0dba5bd240db",
   "source": [
    "df_iris.isnull().sum()"
   ]
  },
  {
   "block_group": "40f2dcc40d324555969d1f37c30f7edf",
   "cell_type": "markdown",
   "metadata": {
    "cell_id": "1982cada5c4a4ab89913e6263b222f4a",
    "deepnote_cell_type": "text-cell-p",
    "formattedRanges": []
   },
   "source": [
    "Menampilkan kembali kondisi data setelah dilakukan penghapusan pada baris yang memiliki missing values."
   ]
  },
  {
   "block_group": "9cb4600f9c37483da4c6afc21ee23bd5",
   "cell_type": "code",
   "execution_count": 13,
   "metadata": {
    "cell_id": "c8f31b0da52d4d8abf0c7c3ca1611842",
    "deepnote_cell_type": "code",
    "deepnote_to_be_reexecuted": false,
    "execution_millis": 94,
    "execution_start": 1711580629790,
    "source_hash": "1bc0f289"
   },
   "outputs": [
    {
     "data": {
      "application/vnd.deepnote.dataframe.v3+json": {
       "column_count": 6,
       "columns": [
        {
         "dtype": "int64",
         "name": "Id",
         "stats": {
          "histogram": [
           {
            "bin_end": 15.9,
            "bin_start": 1,
            "count": 14
           },
           {
            "bin_end": 30.8,
            "bin_start": 15.9,
            "count": 15
           },
           {
            "bin_end": 45.7,
            "bin_start": 30.8,
            "count": 15
           },
           {
            "bin_end": 60.6,
            "bin_start": 45.7,
            "count": 14
           },
           {
            "bin_end": 75.5,
            "bin_start": 60.6,
            "count": 15
           },
           {
            "bin_end": 90.4,
            "bin_start": 75.5,
            "count": 15
           },
           {
            "bin_end": 105.3,
            "bin_start": 90.4,
            "count": 15
           },
           {
            "bin_end": 120.2,
            "bin_start": 105.3,
            "count": 15
           },
           {
            "bin_end": 135.1,
            "bin_start": 120.2,
            "count": 15
           },
           {
            "bin_end": 150,
            "bin_start": 135.1,
            "count": 15
           }
          ],
          "max": "150",
          "min": "1",
          "nan_count": 0,
          "unique_count": 148
         }
        },
        {
         "dtype": "float64",
         "name": "SepalLengthCm",
         "stats": {
          "histogram": [
           {
            "bin_end": 4.66,
            "bin_start": 4.3,
            "count": 9
           },
           {
            "bin_end": 5.02,
            "bin_start": 4.66,
            "count": 21
           },
           {
            "bin_end": 5.38,
            "bin_start": 5.02,
            "count": 13
           },
           {
            "bin_end": 5.74,
            "bin_start": 5.38,
            "count": 27
           },
           {
            "bin_end": 6.1,
            "bin_start": 5.74,
            "count": 15
           },
           {
            "bin_end": 6.46,
            "bin_start": 6.1,
            "count": 26
           },
           {
            "bin_end": 6.82,
            "bin_start": 6.46,
            "count": 18
           },
           {
            "bin_end": 7.18,
            "bin_start": 6.82,
            "count": 6
           },
           {
            "bin_end": 7.54,
            "bin_start": 7.18,
            "count": 5
           },
           {
            "bin_end": 7.9,
            "bin_start": 7.54,
            "count": 5
           }
          ],
          "max": "7.9",
          "min": "4.3",
          "nan_count": 3,
          "unique_count": 35
         }
        },
        {
         "dtype": "float64",
         "name": "SepalWidthCm",
         "stats": {
          "histogram": [
           {
            "bin_end": 2.24,
            "bin_start": 2,
            "count": 4
           },
           {
            "bin_end": 2.48,
            "bin_start": 2.24,
            "count": 7
           },
           {
            "bin_end": 2.72,
            "bin_start": 2.48,
            "count": 22
           },
           {
            "bin_end": 2.96,
            "bin_start": 2.72,
            "count": 24
           },
           {
            "bin_end": 3.2,
            "bin_start": 2.96,
            "count": 38
           },
           {
            "bin_end": 3.4400000000000004,
            "bin_start": 3.2,
            "count": 29
           },
           {
            "bin_end": 3.6800000000000006,
            "bin_start": 3.4400000000000004,
            "count": 9
           },
           {
            "bin_end": 3.9200000000000004,
            "bin_start": 3.6800000000000006,
            "count": 11
           },
           {
            "bin_end": 4.16,
            "bin_start": 3.9200000000000004,
            "count": 2
           },
           {
            "bin_end": 4.4,
            "bin_start": 4.16,
            "count": 2
           }
          ],
          "max": "4.4",
          "min": "2.0",
          "nan_count": 0,
          "unique_count": 23
         }
        },
        {
         "dtype": "object",
         "name": "Species",
         "stats": {
          "categories": [
           {
            "count": 50,
            "name": "Iris-versicolor"
           },
           {
            "count": 50,
            "name": "Iris-virginica"
           },
           {
            "count": 48,
            "name": "Iris-setosa"
           }
          ],
          "nan_count": 0,
          "unique_count": 3
         }
        },
        {
         "dtype": "float64",
         "name": "PetalLengthCm",
         "stats": {
          "histogram": [
           {
            "bin_end": 1.59,
            "bin_start": 1,
            "count": 35
           },
           {
            "bin_end": 2.18,
            "bin_start": 1.59,
            "count": 13
           },
           {
            "bin_end": 2.7700000000000005,
            "bin_start": 2.18,
            "count": 0
           },
           {
            "bin_end": 3.3600000000000003,
            "bin_start": 2.7700000000000005,
            "count": 3
           },
           {
            "bin_end": 3.95,
            "bin_start": 3.3600000000000003,
            "count": 8
           },
           {
            "bin_end": 4.540000000000001,
            "bin_start": 3.95,
            "count": 26
           },
           {
            "bin_end": 5.130000000000001,
            "bin_start": 4.540000000000001,
            "count": 29
           },
           {
            "bin_end": 5.720000000000001,
            "bin_start": 5.130000000000001,
            "count": 18
           },
           {
            "bin_end": 6.3100000000000005,
            "bin_start": 5.720000000000001,
            "count": 11
           },
           {
            "bin_end": 6.9,
            "bin_start": 6.3100000000000005,
            "count": 5
           }
          ],
          "max": "6.9",
          "min": "1.0",
          "nan_count": 0,
          "unique_count": 43
         }
        },
        {
         "dtype": "float64",
         "name": "PetalWidthCm",
         "stats": {
          "histogram": [
           {
            "bin_end": 0.33999999999999997,
            "bin_start": 0.1,
            "count": 39
           },
           {
            "bin_end": 0.58,
            "bin_start": 0.33999999999999997,
            "count": 8
           },
           {
            "bin_end": 0.82,
            "bin_start": 0.58,
            "count": 1
           },
           {
            "bin_end": 1.06,
            "bin_start": 0.82,
            "count": 7
           },
           {
            "bin_end": 1.3,
            "bin_start": 1.06,
            "count": 8
           },
           {
            "bin_end": 1.54,
            "bin_start": 1.3,
            "count": 33
           },
           {
            "bin_end": 1.78,
            "bin_start": 1.54,
            "count": 6
           },
           {
            "bin_end": 2.02,
            "bin_start": 1.78,
            "count": 23
           },
           {
            "bin_end": 2.2600000000000002,
            "bin_start": 2.02,
            "count": 9
           },
           {
            "bin_end": 2.5,
            "bin_start": 2.2600000000000002,
            "count": 14
           }
          ],
          "max": "2.5",
          "min": "0.1",
          "nan_count": 0,
          "unique_count": 22
         }
        },
        {
         "dtype": "int64",
         "name": "_deepnote_index_column"
        }
       ],
       "row_count": 148,
       "rows": [
        {
         "Id": 1,
         "PetalLengthCm": 1.4,
         "PetalWidthCm": 0.2,
         "SepalLengthCm": 5.1,
         "SepalWidthCm": 3.5,
         "Species": "Iris-setosa",
         "_deepnote_index_column": 0
        },
        {
         "Id": 2,
         "PetalLengthCm": 1.4,
         "PetalWidthCm": 0.2,
         "SepalLengthCm": 4.9,
         "SepalWidthCm": 3,
         "Species": "Iris-setosa",
         "_deepnote_index_column": 1
        },
        {
         "Id": 3,
         "PetalLengthCm": 1.3,
         "PetalWidthCm": 0.2,
         "SepalLengthCm": 4.7,
         "SepalWidthCm": 3.2,
         "Species": "Iris-setosa",
         "_deepnote_index_column": 2
        },
        {
         "Id": 4,
         "PetalLengthCm": 1.5,
         "PetalWidthCm": 0.2,
         "SepalLengthCm": 4.6,
         "SepalWidthCm": 3.1,
         "Species": "Iris-setosa",
         "_deepnote_index_column": 3
        },
        {
         "Id": 5,
         "PetalLengthCm": 1.4,
         "PetalWidthCm": 0.2,
         "SepalLengthCm": 5,
         "SepalWidthCm": 3.6,
         "Species": "Iris-setosa",
         "_deepnote_index_column": 4
        },
        {
         "Id": 6,
         "PetalLengthCm": 1.7,
         "PetalWidthCm": 0.4,
         "SepalLengthCm": 5.4,
         "SepalWidthCm": 3.9,
         "Species": "Iris-setosa",
         "_deepnote_index_column": 5
        },
        {
         "Id": 7,
         "PetalLengthCm": 1.4,
         "PetalWidthCm": 0.3,
         "SepalLengthCm": 4.6,
         "SepalWidthCm": 3.4,
         "Species": "Iris-setosa",
         "_deepnote_index_column": 6
        },
        {
         "Id": 9,
         "PetalLengthCm": 1.4,
         "PetalWidthCm": 0.2,
         "SepalLengthCm": 4.4,
         "SepalWidthCm": 2.9,
         "Species": "Iris-setosa",
         "_deepnote_index_column": 8
        },
        {
         "Id": 10,
         "PetalLengthCm": 1.5,
         "PetalWidthCm": 0.1,
         "SepalLengthCm": 4.9,
         "SepalWidthCm": 3.1,
         "Species": "Iris-setosa",
         "_deepnote_index_column": 9
        },
        {
         "Id": 11,
         "PetalLengthCm": 1.5,
         "PetalWidthCm": 0.2,
         "SepalLengthCm": 5.4,
         "SepalWidthCm": 3.7,
         "Species": "Iris-setosa",
         "_deepnote_index_column": 10
        }
       ]
      },
      "text/html": [
       "<div>\n",
       "<style scoped>\n",
       "    .dataframe tbody tr th:only-of-type {\n",
       "        vertical-align: middle;\n",
       "    }\n",
       "\n",
       "    .dataframe tbody tr th {\n",
       "        vertical-align: top;\n",
       "    }\n",
       "\n",
       "    .dataframe thead th {\n",
       "        text-align: right;\n",
       "    }\n",
       "</style>\n",
       "<table border=\"1\" class=\"dataframe\">\n",
       "  <thead>\n",
       "    <tr style=\"text-align: right;\">\n",
       "      <th></th>\n",
       "      <th>Id</th>\n",
       "      <th>SepalLengthCm</th>\n",
       "      <th>SepalWidthCm</th>\n",
       "      <th>Species</th>\n",
       "      <th>PetalLengthCm</th>\n",
       "      <th>PetalWidthCm</th>\n",
       "    </tr>\n",
       "  </thead>\n",
       "  <tbody>\n",
       "    <tr>\n",
       "      <th>0</th>\n",
       "      <td>1</td>\n",
       "      <td>5.1</td>\n",
       "      <td>3.5</td>\n",
       "      <td>Iris-setosa</td>\n",
       "      <td>1.4</td>\n",
       "      <td>0.2</td>\n",
       "    </tr>\n",
       "    <tr>\n",
       "      <th>1</th>\n",
       "      <td>2</td>\n",
       "      <td>4.9</td>\n",
       "      <td>3.0</td>\n",
       "      <td>Iris-setosa</td>\n",
       "      <td>1.4</td>\n",
       "      <td>0.2</td>\n",
       "    </tr>\n",
       "    <tr>\n",
       "      <th>2</th>\n",
       "      <td>3</td>\n",
       "      <td>4.7</td>\n",
       "      <td>3.2</td>\n",
       "      <td>Iris-setosa</td>\n",
       "      <td>1.3</td>\n",
       "      <td>0.2</td>\n",
       "    </tr>\n",
       "    <tr>\n",
       "      <th>3</th>\n",
       "      <td>4</td>\n",
       "      <td>4.6</td>\n",
       "      <td>3.1</td>\n",
       "      <td>Iris-setosa</td>\n",
       "      <td>1.5</td>\n",
       "      <td>0.2</td>\n",
       "    </tr>\n",
       "    <tr>\n",
       "      <th>4</th>\n",
       "      <td>5</td>\n",
       "      <td>5.0</td>\n",
       "      <td>3.6</td>\n",
       "      <td>Iris-setosa</td>\n",
       "      <td>1.4</td>\n",
       "      <td>0.2</td>\n",
       "    </tr>\n",
       "    <tr>\n",
       "      <th>...</th>\n",
       "      <td>...</td>\n",
       "      <td>...</td>\n",
       "      <td>...</td>\n",
       "      <td>...</td>\n",
       "      <td>...</td>\n",
       "      <td>...</td>\n",
       "    </tr>\n",
       "    <tr>\n",
       "      <th>145</th>\n",
       "      <td>146</td>\n",
       "      <td>6.7</td>\n",
       "      <td>3.0</td>\n",
       "      <td>Iris-virginica</td>\n",
       "      <td>5.2</td>\n",
       "      <td>2.3</td>\n",
       "    </tr>\n",
       "    <tr>\n",
       "      <th>146</th>\n",
       "      <td>147</td>\n",
       "      <td>6.3</td>\n",
       "      <td>2.5</td>\n",
       "      <td>Iris-virginica</td>\n",
       "      <td>5.0</td>\n",
       "      <td>1.9</td>\n",
       "    </tr>\n",
       "    <tr>\n",
       "      <th>147</th>\n",
       "      <td>148</td>\n",
       "      <td>6.5</td>\n",
       "      <td>3.0</td>\n",
       "      <td>Iris-virginica</td>\n",
       "      <td>5.2</td>\n",
       "      <td>2.0</td>\n",
       "    </tr>\n",
       "    <tr>\n",
       "      <th>148</th>\n",
       "      <td>149</td>\n",
       "      <td>6.2</td>\n",
       "      <td>3.4</td>\n",
       "      <td>Iris-virginica</td>\n",
       "      <td>5.4</td>\n",
       "      <td>2.3</td>\n",
       "    </tr>\n",
       "    <tr>\n",
       "      <th>149</th>\n",
       "      <td>150</td>\n",
       "      <td>5.9</td>\n",
       "      <td>3.0</td>\n",
       "      <td>Iris-virginica</td>\n",
       "      <td>5.1</td>\n",
       "      <td>1.8</td>\n",
       "    </tr>\n",
       "  </tbody>\n",
       "</table>\n",
       "<p>148 rows × 6 columns</p>\n",
       "</div>"
      ],
      "text/plain": [
       "      Id  SepalLengthCm  SepalWidthCm         Species  PetalLengthCm  \\\n",
       "0      1            5.1           3.5     Iris-setosa            1.4   \n",
       "1      2            4.9           3.0     Iris-setosa            1.4   \n",
       "2      3            4.7           3.2     Iris-setosa            1.3   \n",
       "3      4            4.6           3.1     Iris-setosa            1.5   \n",
       "4      5            5.0           3.6     Iris-setosa            1.4   \n",
       "..   ...            ...           ...             ...            ...   \n",
       "145  146            6.7           3.0  Iris-virginica            5.2   \n",
       "146  147            6.3           2.5  Iris-virginica            5.0   \n",
       "147  148            6.5           3.0  Iris-virginica            5.2   \n",
       "148  149            6.2           3.4  Iris-virginica            5.4   \n",
       "149  150            5.9           3.0  Iris-virginica            5.1   \n",
       "\n",
       "     PetalWidthCm  \n",
       "0             0.2  \n",
       "1             0.2  \n",
       "2             0.2  \n",
       "3             0.2  \n",
       "4             0.2  \n",
       "..            ...  \n",
       "145           2.3  \n",
       "146           1.9  \n",
       "147           2.0  \n",
       "148           2.3  \n",
       "149           1.8  \n",
       "\n",
       "[148 rows x 6 columns]"
      ]
     },
     "execution_count": 13,
     "metadata": {},
     "output_type": "execute_result"
    }
   ],
   "outputs_reference": "s3:deepnote-cell-outputs-production/5f3f7638-abea-49ca-b592-9dcd6bb41efd",
   "source": [
    "df_iris.head(df_iris.shape[0])"
   ]
  },
  {
   "block_group": "07548c53eb344039bb5bd900bf3e5f81",
   "cell_type": "markdown",
   "metadata": {
    "cell_id": "2b9526545f3649f2b82659158077c338",
    "deepnote_cell_type": "text-cell-h2",
    "formattedRanges": []
   },
   "source": [
    "## Pengisian missing values menggunakan nilai mean"
   ]
  },
  {
   "block_group": "53f555b4a91d411ba037035f8da0f432",
   "cell_type": "markdown",
   "metadata": {
    "cell_id": "20ee7d5e4bfe4b1d877145cbd8b57862",
    "deepnote_cell_type": "text-cell-p",
    "formattedRanges": []
   },
   "source": [
    "Melakukan duplikasi isi dataframe df_iris ke dalam dataframe baru bernama df_mean untuk melakukan imputasi missing values dengan menggunakan rata-rata tanpa mengubah dataframe asli, kemudian menampilkan kondisi data pada df_mean."
   ]
  },
  {
   "block_group": "4393e0716d0a4cee908ca91746717736",
   "cell_type": "code",
   "execution_count": 14,
   "metadata": {
    "cell_id": "44fff6f56437454d918c0f6194b279d9",
    "deepnote_cell_type": "code",
    "deepnote_to_be_reexecuted": false,
    "execution_millis": 250,
    "execution_start": 1711580666589,
    "source_hash": "96ed1ea5"
   },
   "outputs": [
    {
     "data": {
      "application/vnd.deepnote.dataframe.v3+json": {
       "column_count": 6,
       "columns": [
        {
         "dtype": "int64",
         "name": "Id",
         "stats": {
          "histogram": [
           {
            "bin_end": 15.9,
            "bin_start": 1,
            "count": 14
           },
           {
            "bin_end": 30.8,
            "bin_start": 15.9,
            "count": 15
           },
           {
            "bin_end": 45.7,
            "bin_start": 30.8,
            "count": 15
           },
           {
            "bin_end": 60.6,
            "bin_start": 45.7,
            "count": 14
           },
           {
            "bin_end": 75.5,
            "bin_start": 60.6,
            "count": 15
           },
           {
            "bin_end": 90.4,
            "bin_start": 75.5,
            "count": 15
           },
           {
            "bin_end": 105.3,
            "bin_start": 90.4,
            "count": 15
           },
           {
            "bin_end": 120.2,
            "bin_start": 105.3,
            "count": 15
           },
           {
            "bin_end": 135.1,
            "bin_start": 120.2,
            "count": 15
           },
           {
            "bin_end": 150,
            "bin_start": 135.1,
            "count": 15
           }
          ],
          "max": "150",
          "min": "1",
          "nan_count": 0,
          "unique_count": 148
         }
        },
        {
         "dtype": "float64",
         "name": "SepalLengthCm",
         "stats": {
          "histogram": [
           {
            "bin_end": 4.66,
            "bin_start": 4.3,
            "count": 9
           },
           {
            "bin_end": 5.02,
            "bin_start": 4.66,
            "count": 21
           },
           {
            "bin_end": 5.38,
            "bin_start": 5.02,
            "count": 13
           },
           {
            "bin_end": 5.74,
            "bin_start": 5.38,
            "count": 27
           },
           {
            "bin_end": 6.1,
            "bin_start": 5.74,
            "count": 15
           },
           {
            "bin_end": 6.46,
            "bin_start": 6.1,
            "count": 26
           },
           {
            "bin_end": 6.82,
            "bin_start": 6.46,
            "count": 18
           },
           {
            "bin_end": 7.18,
            "bin_start": 6.82,
            "count": 6
           },
           {
            "bin_end": 7.54,
            "bin_start": 7.18,
            "count": 5
           },
           {
            "bin_end": 7.9,
            "bin_start": 7.54,
            "count": 5
           }
          ],
          "max": "7.9",
          "min": "4.3",
          "nan_count": 3,
          "unique_count": 35
         }
        },
        {
         "dtype": "float64",
         "name": "SepalWidthCm",
         "stats": {
          "histogram": [
           {
            "bin_end": 2.24,
            "bin_start": 2,
            "count": 4
           },
           {
            "bin_end": 2.48,
            "bin_start": 2.24,
            "count": 7
           },
           {
            "bin_end": 2.72,
            "bin_start": 2.48,
            "count": 22
           },
           {
            "bin_end": 2.96,
            "bin_start": 2.72,
            "count": 24
           },
           {
            "bin_end": 3.2,
            "bin_start": 2.96,
            "count": 38
           },
           {
            "bin_end": 3.4400000000000004,
            "bin_start": 3.2,
            "count": 29
           },
           {
            "bin_end": 3.6800000000000006,
            "bin_start": 3.4400000000000004,
            "count": 9
           },
           {
            "bin_end": 3.9200000000000004,
            "bin_start": 3.6800000000000006,
            "count": 11
           },
           {
            "bin_end": 4.16,
            "bin_start": 3.9200000000000004,
            "count": 2
           },
           {
            "bin_end": 4.4,
            "bin_start": 4.16,
            "count": 2
           }
          ],
          "max": "4.4",
          "min": "2.0",
          "nan_count": 0,
          "unique_count": 23
         }
        },
        {
         "dtype": "object",
         "name": "Species",
         "stats": {
          "categories": [
           {
            "count": 50,
            "name": "Iris-versicolor"
           },
           {
            "count": 50,
            "name": "Iris-virginica"
           },
           {
            "count": 48,
            "name": "Iris-setosa"
           }
          ],
          "nan_count": 0,
          "unique_count": 3
         }
        },
        {
         "dtype": "float64",
         "name": "PetalLengthCm",
         "stats": {
          "histogram": [
           {
            "bin_end": 1.59,
            "bin_start": 1,
            "count": 35
           },
           {
            "bin_end": 2.18,
            "bin_start": 1.59,
            "count": 13
           },
           {
            "bin_end": 2.7700000000000005,
            "bin_start": 2.18,
            "count": 0
           },
           {
            "bin_end": 3.3600000000000003,
            "bin_start": 2.7700000000000005,
            "count": 3
           },
           {
            "bin_end": 3.95,
            "bin_start": 3.3600000000000003,
            "count": 8
           },
           {
            "bin_end": 4.540000000000001,
            "bin_start": 3.95,
            "count": 26
           },
           {
            "bin_end": 5.130000000000001,
            "bin_start": 4.540000000000001,
            "count": 29
           },
           {
            "bin_end": 5.720000000000001,
            "bin_start": 5.130000000000001,
            "count": 18
           },
           {
            "bin_end": 6.3100000000000005,
            "bin_start": 5.720000000000001,
            "count": 11
           },
           {
            "bin_end": 6.9,
            "bin_start": 6.3100000000000005,
            "count": 5
           }
          ],
          "max": "6.9",
          "min": "1.0",
          "nan_count": 0,
          "unique_count": 43
         }
        },
        {
         "dtype": "float64",
         "name": "PetalWidthCm",
         "stats": {
          "histogram": [
           {
            "bin_end": 0.33999999999999997,
            "bin_start": 0.1,
            "count": 39
           },
           {
            "bin_end": 0.58,
            "bin_start": 0.33999999999999997,
            "count": 8
           },
           {
            "bin_end": 0.82,
            "bin_start": 0.58,
            "count": 1
           },
           {
            "bin_end": 1.06,
            "bin_start": 0.82,
            "count": 7
           },
           {
            "bin_end": 1.3,
            "bin_start": 1.06,
            "count": 8
           },
           {
            "bin_end": 1.54,
            "bin_start": 1.3,
            "count": 33
           },
           {
            "bin_end": 1.78,
            "bin_start": 1.54,
            "count": 6
           },
           {
            "bin_end": 2.02,
            "bin_start": 1.78,
            "count": 23
           },
           {
            "bin_end": 2.2600000000000002,
            "bin_start": 2.02,
            "count": 9
           },
           {
            "bin_end": 2.5,
            "bin_start": 2.2600000000000002,
            "count": 14
           }
          ],
          "max": "2.5",
          "min": "0.1",
          "nan_count": 0,
          "unique_count": 22
         }
        },
        {
         "dtype": "int64",
         "name": "_deepnote_index_column"
        }
       ],
       "row_count": 148,
       "rows": [
        {
         "Id": 1,
         "PetalLengthCm": 1.4,
         "PetalWidthCm": 0.2,
         "SepalLengthCm": 5.1,
         "SepalWidthCm": 3.5,
         "Species": "Iris-setosa",
         "_deepnote_index_column": 0
        },
        {
         "Id": 2,
         "PetalLengthCm": 1.4,
         "PetalWidthCm": 0.2,
         "SepalLengthCm": 4.9,
         "SepalWidthCm": 3,
         "Species": "Iris-setosa",
         "_deepnote_index_column": 1
        },
        {
         "Id": 3,
         "PetalLengthCm": 1.3,
         "PetalWidthCm": 0.2,
         "SepalLengthCm": 4.7,
         "SepalWidthCm": 3.2,
         "Species": "Iris-setosa",
         "_deepnote_index_column": 2
        },
        {
         "Id": 4,
         "PetalLengthCm": 1.5,
         "PetalWidthCm": 0.2,
         "SepalLengthCm": 4.6,
         "SepalWidthCm": 3.1,
         "Species": "Iris-setosa",
         "_deepnote_index_column": 3
        },
        {
         "Id": 5,
         "PetalLengthCm": 1.4,
         "PetalWidthCm": 0.2,
         "SepalLengthCm": 5,
         "SepalWidthCm": 3.6,
         "Species": "Iris-setosa",
         "_deepnote_index_column": 4
        },
        {
         "Id": 6,
         "PetalLengthCm": 1.7,
         "PetalWidthCm": 0.4,
         "SepalLengthCm": 5.4,
         "SepalWidthCm": 3.9,
         "Species": "Iris-setosa",
         "_deepnote_index_column": 5
        },
        {
         "Id": 7,
         "PetalLengthCm": 1.4,
         "PetalWidthCm": 0.3,
         "SepalLengthCm": 4.6,
         "SepalWidthCm": 3.4,
         "Species": "Iris-setosa",
         "_deepnote_index_column": 6
        },
        {
         "Id": 9,
         "PetalLengthCm": 1.4,
         "PetalWidthCm": 0.2,
         "SepalLengthCm": 4.4,
         "SepalWidthCm": 2.9,
         "Species": "Iris-setosa",
         "_deepnote_index_column": 8
        },
        {
         "Id": 10,
         "PetalLengthCm": 1.5,
         "PetalWidthCm": 0.1,
         "SepalLengthCm": 4.9,
         "SepalWidthCm": 3.1,
         "Species": "Iris-setosa",
         "_deepnote_index_column": 9
        },
        {
         "Id": 11,
         "PetalLengthCm": 1.5,
         "PetalWidthCm": 0.2,
         "SepalLengthCm": 5.4,
         "SepalWidthCm": 3.7,
         "Species": "Iris-setosa",
         "_deepnote_index_column": 10
        }
       ]
      },
      "text/html": [
       "<div>\n",
       "<style scoped>\n",
       "    .dataframe tbody tr th:only-of-type {\n",
       "        vertical-align: middle;\n",
       "    }\n",
       "\n",
       "    .dataframe tbody tr th {\n",
       "        vertical-align: top;\n",
       "    }\n",
       "\n",
       "    .dataframe thead th {\n",
       "        text-align: right;\n",
       "    }\n",
       "</style>\n",
       "<table border=\"1\" class=\"dataframe\">\n",
       "  <thead>\n",
       "    <tr style=\"text-align: right;\">\n",
       "      <th></th>\n",
       "      <th>Id</th>\n",
       "      <th>SepalLengthCm</th>\n",
       "      <th>SepalWidthCm</th>\n",
       "      <th>Species</th>\n",
       "      <th>PetalLengthCm</th>\n",
       "      <th>PetalWidthCm</th>\n",
       "    </tr>\n",
       "  </thead>\n",
       "  <tbody>\n",
       "    <tr>\n",
       "      <th>0</th>\n",
       "      <td>1</td>\n",
       "      <td>5.1</td>\n",
       "      <td>3.5</td>\n",
       "      <td>Iris-setosa</td>\n",
       "      <td>1.4</td>\n",
       "      <td>0.2</td>\n",
       "    </tr>\n",
       "    <tr>\n",
       "      <th>1</th>\n",
       "      <td>2</td>\n",
       "      <td>4.9</td>\n",
       "      <td>3.0</td>\n",
       "      <td>Iris-setosa</td>\n",
       "      <td>1.4</td>\n",
       "      <td>0.2</td>\n",
       "    </tr>\n",
       "    <tr>\n",
       "      <th>2</th>\n",
       "      <td>3</td>\n",
       "      <td>4.7</td>\n",
       "      <td>3.2</td>\n",
       "      <td>Iris-setosa</td>\n",
       "      <td>1.3</td>\n",
       "      <td>0.2</td>\n",
       "    </tr>\n",
       "    <tr>\n",
       "      <th>3</th>\n",
       "      <td>4</td>\n",
       "      <td>4.6</td>\n",
       "      <td>3.1</td>\n",
       "      <td>Iris-setosa</td>\n",
       "      <td>1.5</td>\n",
       "      <td>0.2</td>\n",
       "    </tr>\n",
       "    <tr>\n",
       "      <th>4</th>\n",
       "      <td>5</td>\n",
       "      <td>5.0</td>\n",
       "      <td>3.6</td>\n",
       "      <td>Iris-setosa</td>\n",
       "      <td>1.4</td>\n",
       "      <td>0.2</td>\n",
       "    </tr>\n",
       "    <tr>\n",
       "      <th>...</th>\n",
       "      <td>...</td>\n",
       "      <td>...</td>\n",
       "      <td>...</td>\n",
       "      <td>...</td>\n",
       "      <td>...</td>\n",
       "      <td>...</td>\n",
       "    </tr>\n",
       "    <tr>\n",
       "      <th>145</th>\n",
       "      <td>146</td>\n",
       "      <td>6.7</td>\n",
       "      <td>3.0</td>\n",
       "      <td>Iris-virginica</td>\n",
       "      <td>5.2</td>\n",
       "      <td>2.3</td>\n",
       "    </tr>\n",
       "    <tr>\n",
       "      <th>146</th>\n",
       "      <td>147</td>\n",
       "      <td>6.3</td>\n",
       "      <td>2.5</td>\n",
       "      <td>Iris-virginica</td>\n",
       "      <td>5.0</td>\n",
       "      <td>1.9</td>\n",
       "    </tr>\n",
       "    <tr>\n",
       "      <th>147</th>\n",
       "      <td>148</td>\n",
       "      <td>6.5</td>\n",
       "      <td>3.0</td>\n",
       "      <td>Iris-virginica</td>\n",
       "      <td>5.2</td>\n",
       "      <td>2.0</td>\n",
       "    </tr>\n",
       "    <tr>\n",
       "      <th>148</th>\n",
       "      <td>149</td>\n",
       "      <td>6.2</td>\n",
       "      <td>3.4</td>\n",
       "      <td>Iris-virginica</td>\n",
       "      <td>5.4</td>\n",
       "      <td>2.3</td>\n",
       "    </tr>\n",
       "    <tr>\n",
       "      <th>149</th>\n",
       "      <td>150</td>\n",
       "      <td>5.9</td>\n",
       "      <td>3.0</td>\n",
       "      <td>Iris-virginica</td>\n",
       "      <td>5.1</td>\n",
       "      <td>1.8</td>\n",
       "    </tr>\n",
       "  </tbody>\n",
       "</table>\n",
       "<p>148 rows × 6 columns</p>\n",
       "</div>"
      ],
      "text/plain": [
       "      Id  SepalLengthCm  SepalWidthCm         Species  PetalLengthCm  \\\n",
       "0      1            5.1           3.5     Iris-setosa            1.4   \n",
       "1      2            4.9           3.0     Iris-setosa            1.4   \n",
       "2      3            4.7           3.2     Iris-setosa            1.3   \n",
       "3      4            4.6           3.1     Iris-setosa            1.5   \n",
       "4      5            5.0           3.6     Iris-setosa            1.4   \n",
       "..   ...            ...           ...             ...            ...   \n",
       "145  146            6.7           3.0  Iris-virginica            5.2   \n",
       "146  147            6.3           2.5  Iris-virginica            5.0   \n",
       "147  148            6.5           3.0  Iris-virginica            5.2   \n",
       "148  149            6.2           3.4  Iris-virginica            5.4   \n",
       "149  150            5.9           3.0  Iris-virginica            5.1   \n",
       "\n",
       "     PetalWidthCm  \n",
       "0             0.2  \n",
       "1             0.2  \n",
       "2             0.2  \n",
       "3             0.2  \n",
       "4             0.2  \n",
       "..            ...  \n",
       "145           2.3  \n",
       "146           1.9  \n",
       "147           2.0  \n",
       "148           2.3  \n",
       "149           1.8  \n",
       "\n",
       "[148 rows x 6 columns]"
      ]
     },
     "execution_count": 14,
     "metadata": {},
     "output_type": "execute_result"
    }
   ],
   "outputs_reference": "s3:deepnote-cell-outputs-production/595060a1-6446-4441-958a-0954fc253434",
   "source": [
    "df_mean = df_iris.copy()\n",
    "\n",
    "df_mean.head(df_mean.shape[0])"
   ]
  },
  {
   "block_group": "b86aa017521f45d68ca11e48ab95562a",
   "cell_type": "markdown",
   "metadata": {
    "cell_id": "85baaa2897df4679a423ec0fe3020697",
    "deepnote_cell_type": "text-cell-p",
    "formattedRanges": []
   },
   "source": [
    "Menampilkan informasi kolom yang mengandung missing values"
   ]
  },
  {
   "block_group": "abc87eb603ec486f8cfcda0304da6768",
   "cell_type": "code",
   "execution_count": 15,
   "metadata": {
    "cell_id": "61308874f06749408873bd34eaecb1af",
    "deepnote_cell_type": "code",
    "deepnote_to_be_reexecuted": false,
    "execution_millis": 66,
    "execution_start": 1711580690904,
    "source_hash": "cb09af8"
   },
   "outputs": [
    {
     "data": {
      "text/plain": [
       "Id               0\n",
       "SepalLengthCm    3\n",
       "SepalWidthCm     0\n",
       "Species          0\n",
       "PetalLengthCm    0\n",
       "PetalWidthCm     0\n",
       "dtype: int64"
      ]
     },
     "execution_count": 15,
     "metadata": {},
     "output_type": "execute_result"
    }
   ],
   "outputs_reference": "dbtable:cell_outputs/88ad353b-2d6c-4f92-8043-5e65a6604a24",
   "source": [
    "df_mean.isnull().sum()"
   ]
  },
  {
   "block_group": "b21e84c8b33f42d9b297b3b3af811898",
   "cell_type": "markdown",
   "metadata": {
    "cell_id": "331332feef974680b01f80d9e91bee60",
    "deepnote_cell_type": "text-cell-p",
    "formattedRanges": []
   },
   "source": [
    "Menghitung nilai rata-rata SepalLengthCm yang di kelompokkan berdasarkan Species"
   ]
  },
  {
   "block_group": "6881eaff83474008825a554a9e092157",
   "cell_type": "code",
   "execution_count": 17,
   "metadata": {
    "cell_id": "6518590e645f4dd0a72b0ff7f6ecab1e",
    "deepnote_cell_type": "code",
    "deepnote_to_be_reexecuted": false,
    "execution_millis": 69,
    "execution_start": 1711580728576,
    "source_hash": "1038e9bc"
   },
   "outputs": [
    {
     "name": "stdout",
     "output_type": "stream",
     "text": [
      "Species\n",
      "Iris-setosa        5.004255\n",
      "Iris-versicolor    5.938776\n",
      "Iris-virginica     6.565306\n",
      "Name: SepalLengthCm, dtype: float64\n"
     ]
    }
   ],
   "outputs_reference": "dbtable:cell_outputs/597eb98a-95f4-48c6-8fc7-8393ac612cf6",
   "source": [
    "mean_sepal_length = df_mean.groupby('Species')['SepalLengthCm'].mean()\n",
    "print(mean_sepal_length)"
   ]
  },
  {
   "block_group": "488640c9cc194a4f92b4f6afd99c1d81",
   "cell_type": "markdown",
   "metadata": {
    "cell_id": "645c8634f0654056b07e3a34f642f422",
    "deepnote_cell_type": "text-cell-p",
    "formattedRanges": []
   },
   "source": [
    "Menghitung nilai rata-rata SepalLengthCm yang di kelompokkan berdasarkan Species dan dibulatkan ke bentuk desimal dengan 1 angka di belakang koma"
   ]
  },
  {
   "block_group": "4fbf4c5d1fd940938d3a86200bcb2009",
   "cell_type": "code",
   "execution_count": 18,
   "metadata": {
    "cell_id": "89f516f8a975405eb64f75f0b3f9ce86",
    "deepnote_cell_type": "code",
    "deepnote_to_be_reexecuted": false,
    "execution_millis": 108,
    "execution_start": 1711580744630,
    "source_hash": "6027db55"
   },
   "outputs": [
    {
     "name": "stdout",
     "output_type": "stream",
     "text": [
      "Species\n",
      "Iris-setosa        5.0\n",
      "Iris-versicolor    5.9\n",
      "Iris-virginica     6.6\n",
      "Name: SepalLengthCm, dtype: float64\n"
     ]
    }
   ],
   "outputs_reference": "dbtable:cell_outputs/c7075eef-db2f-4333-8b3b-71e6feb975c9",
   "source": [
    "mean_sepal_length = df_mean.groupby('Species')['SepalLengthCm'].mean().round(1)\n",
    "print(mean_sepal_length)"
   ]
  },
  {
   "block_group": "9a9c3f0f4426494eb47747f7bf3f470a",
   "cell_type": "markdown",
   "metadata": {
    "cell_id": "23eec0132ffa4bdd82df8c4683215a9a",
    "deepnote_cell_type": "text-cell-p",
    "formattedRanges": []
   },
   "source": [
    "Melakukan imputasi terhadap missing values dengan rata-rata yang telah dihitung berdasarkan species"
   ]
  },
  {
   "block_group": "50b3f5eea5d1425c8b8a0669aabc836e",
   "cell_type": "code",
   "execution_count": 19,
   "metadata": {
    "cell_id": "2613c7d32be74944ae2afa662a3dea29",
    "deepnote_cell_type": "code",
    "deepnote_to_be_reexecuted": false,
    "execution_millis": 82,
    "execution_start": 1711580756053,
    "source_hash": "30b06692"
   },
   "outputs": [],
   "outputs_reference": null,
   "source": [
    "for species, mean_length in mean_sepal_length.items():\n",
    "    df_mean.loc[(df_mean['SepalLengthCm'].isnull()) & (df_mean['Species'] == species), 'SepalLengthCm'] = mean_length"
   ]
  },
  {
   "block_group": "7611fa169fa74a07bbfc811a22c99c72",
   "cell_type": "markdown",
   "metadata": {
    "cell_id": "4c6dd2747c2640e5b5ae42a9649675c5",
    "deepnote_cell_type": "text-cell-p",
    "formattedRanges": []
   },
   "source": [
    "Menampilkan kembali kondisi kolom setelah dilakukan pengisian missing values menggunakan nilai mean"
   ]
  },
  {
   "block_group": "e0019c628de744248988ae1b6aadf2b1",
   "cell_type": "code",
   "execution_count": 20,
   "metadata": {
    "cell_id": "b652b65f6f974b1a95ff2ca1247d3ef7",
    "deepnote_cell_type": "code",
    "deepnote_to_be_reexecuted": false,
    "execution_millis": 50,
    "execution_start": 1711580765896,
    "source_hash": "cb09af8"
   },
   "outputs": [
    {
     "data": {
      "text/plain": [
       "Id               0\n",
       "SepalLengthCm    0\n",
       "SepalWidthCm     0\n",
       "Species          0\n",
       "PetalLengthCm    0\n",
       "PetalWidthCm     0\n",
       "dtype: int64"
      ]
     },
     "execution_count": 20,
     "metadata": {},
     "output_type": "execute_result"
    }
   ],
   "outputs_reference": "dbtable:cell_outputs/d8fee56e-f687-4f0c-89ff-e53ff0f52fdd",
   "source": [
    "df_mean.isnull().sum()"
   ]
  },
  {
   "block_group": "6f72999bee4e4c61b4bb7ac7f4b9ab82",
   "cell_type": "markdown",
   "metadata": {
    "cell_id": "75208b0e77264ed8970c3cdea28529b0",
    "deepnote_cell_type": "text-cell-p",
    "formattedRanges": []
   },
   "source": [
    "Menampilkan kembali kondisi data pada df_mean setelah dilakukan pengisian missing values menggunakan metode mean"
   ]
  },
  {
   "block_group": "2f26af01261040c695f6ef9279480702",
   "cell_type": "code",
   "execution_count": 21,
   "metadata": {
    "cell_id": "c9aec10069f641bf8f999eea261ecf55",
    "deepnote_cell_type": "code",
    "deepnote_to_be_reexecuted": false,
    "execution_millis": 205,
    "execution_start": 1711580773975,
    "source_hash": "98555180"
   },
   "outputs": [
    {
     "data": {
      "application/vnd.deepnote.dataframe.v3+json": {
       "column_count": 6,
       "columns": [
        {
         "dtype": "int64",
         "name": "Id",
         "stats": {
          "histogram": [
           {
            "bin_end": 15.9,
            "bin_start": 1,
            "count": 14
           },
           {
            "bin_end": 30.8,
            "bin_start": 15.9,
            "count": 15
           },
           {
            "bin_end": 45.7,
            "bin_start": 30.8,
            "count": 15
           },
           {
            "bin_end": 60.6,
            "bin_start": 45.7,
            "count": 14
           },
           {
            "bin_end": 75.5,
            "bin_start": 60.6,
            "count": 15
           },
           {
            "bin_end": 90.4,
            "bin_start": 75.5,
            "count": 15
           },
           {
            "bin_end": 105.3,
            "bin_start": 90.4,
            "count": 15
           },
           {
            "bin_end": 120.2,
            "bin_start": 105.3,
            "count": 15
           },
           {
            "bin_end": 135.1,
            "bin_start": 120.2,
            "count": 15
           },
           {
            "bin_end": 150,
            "bin_start": 135.1,
            "count": 15
           }
          ],
          "max": "150",
          "min": "1",
          "nan_count": 0,
          "unique_count": 148
         }
        },
        {
         "dtype": "float64",
         "name": "SepalLengthCm",
         "stats": {
          "histogram": [
           {
            "bin_end": 4.66,
            "bin_start": 4.3,
            "count": 9
           },
           {
            "bin_end": 5.02,
            "bin_start": 4.66,
            "count": 22
           },
           {
            "bin_end": 5.38,
            "bin_start": 5.02,
            "count": 13
           },
           {
            "bin_end": 5.74,
            "bin_start": 5.38,
            "count": 27
           },
           {
            "bin_end": 6.1,
            "bin_start": 5.74,
            "count": 16
           },
           {
            "bin_end": 6.46,
            "bin_start": 6.1,
            "count": 26
           },
           {
            "bin_end": 6.82,
            "bin_start": 6.46,
            "count": 19
           },
           {
            "bin_end": 7.18,
            "bin_start": 6.82,
            "count": 6
           },
           {
            "bin_end": 7.54,
            "bin_start": 7.18,
            "count": 5
           },
           {
            "bin_end": 7.9,
            "bin_start": 7.54,
            "count": 5
           }
          ],
          "max": "7.9",
          "min": "4.3",
          "nan_count": 0,
          "unique_count": 35
         }
        },
        {
         "dtype": "float64",
         "name": "SepalWidthCm",
         "stats": {
          "histogram": [
           {
            "bin_end": 2.24,
            "bin_start": 2,
            "count": 4
           },
           {
            "bin_end": 2.48,
            "bin_start": 2.24,
            "count": 7
           },
           {
            "bin_end": 2.72,
            "bin_start": 2.48,
            "count": 22
           },
           {
            "bin_end": 2.96,
            "bin_start": 2.72,
            "count": 24
           },
           {
            "bin_end": 3.2,
            "bin_start": 2.96,
            "count": 38
           },
           {
            "bin_end": 3.4400000000000004,
            "bin_start": 3.2,
            "count": 29
           },
           {
            "bin_end": 3.6800000000000006,
            "bin_start": 3.4400000000000004,
            "count": 9
           },
           {
            "bin_end": 3.9200000000000004,
            "bin_start": 3.6800000000000006,
            "count": 11
           },
           {
            "bin_end": 4.16,
            "bin_start": 3.9200000000000004,
            "count": 2
           },
           {
            "bin_end": 4.4,
            "bin_start": 4.16,
            "count": 2
           }
          ],
          "max": "4.4",
          "min": "2.0",
          "nan_count": 0,
          "unique_count": 23
         }
        },
        {
         "dtype": "object",
         "name": "Species",
         "stats": {
          "categories": [
           {
            "count": 50,
            "name": "Iris-versicolor"
           },
           {
            "count": 50,
            "name": "Iris-virginica"
           },
           {
            "count": 48,
            "name": "Iris-setosa"
           }
          ],
          "nan_count": 0,
          "unique_count": 3
         }
        },
        {
         "dtype": "float64",
         "name": "PetalLengthCm",
         "stats": {
          "histogram": [
           {
            "bin_end": 1.59,
            "bin_start": 1,
            "count": 35
           },
           {
            "bin_end": 2.18,
            "bin_start": 1.59,
            "count": 13
           },
           {
            "bin_end": 2.7700000000000005,
            "bin_start": 2.18,
            "count": 0
           },
           {
            "bin_end": 3.3600000000000003,
            "bin_start": 2.7700000000000005,
            "count": 3
           },
           {
            "bin_end": 3.95,
            "bin_start": 3.3600000000000003,
            "count": 8
           },
           {
            "bin_end": 4.540000000000001,
            "bin_start": 3.95,
            "count": 26
           },
           {
            "bin_end": 5.130000000000001,
            "bin_start": 4.540000000000001,
            "count": 29
           },
           {
            "bin_end": 5.720000000000001,
            "bin_start": 5.130000000000001,
            "count": 18
           },
           {
            "bin_end": 6.3100000000000005,
            "bin_start": 5.720000000000001,
            "count": 11
           },
           {
            "bin_end": 6.9,
            "bin_start": 6.3100000000000005,
            "count": 5
           }
          ],
          "max": "6.9",
          "min": "1.0",
          "nan_count": 0,
          "unique_count": 43
         }
        },
        {
         "dtype": "float64",
         "name": "PetalWidthCm",
         "stats": {
          "histogram": [
           {
            "bin_end": 0.33999999999999997,
            "bin_start": 0.1,
            "count": 39
           },
           {
            "bin_end": 0.58,
            "bin_start": 0.33999999999999997,
            "count": 8
           },
           {
            "bin_end": 0.82,
            "bin_start": 0.58,
            "count": 1
           },
           {
            "bin_end": 1.06,
            "bin_start": 0.82,
            "count": 7
           },
           {
            "bin_end": 1.3,
            "bin_start": 1.06,
            "count": 8
           },
           {
            "bin_end": 1.54,
            "bin_start": 1.3,
            "count": 33
           },
           {
            "bin_end": 1.78,
            "bin_start": 1.54,
            "count": 6
           },
           {
            "bin_end": 2.02,
            "bin_start": 1.78,
            "count": 23
           },
           {
            "bin_end": 2.2600000000000002,
            "bin_start": 2.02,
            "count": 9
           },
           {
            "bin_end": 2.5,
            "bin_start": 2.2600000000000002,
            "count": 14
           }
          ],
          "max": "2.5",
          "min": "0.1",
          "nan_count": 0,
          "unique_count": 22
         }
        },
        {
         "dtype": "int64",
         "name": "_deepnote_index_column"
        }
       ],
       "row_count": 148,
       "rows": [
        {
         "Id": 1,
         "PetalLengthCm": 1.4,
         "PetalWidthCm": 0.2,
         "SepalLengthCm": 5.1,
         "SepalWidthCm": 3.5,
         "Species": "Iris-setosa",
         "_deepnote_index_column": 0
        },
        {
         "Id": 2,
         "PetalLengthCm": 1.4,
         "PetalWidthCm": 0.2,
         "SepalLengthCm": 4.9,
         "SepalWidthCm": 3,
         "Species": "Iris-setosa",
         "_deepnote_index_column": 1
        },
        {
         "Id": 3,
         "PetalLengthCm": 1.3,
         "PetalWidthCm": 0.2,
         "SepalLengthCm": 4.7,
         "SepalWidthCm": 3.2,
         "Species": "Iris-setosa",
         "_deepnote_index_column": 2
        },
        {
         "Id": 4,
         "PetalLengthCm": 1.5,
         "PetalWidthCm": 0.2,
         "SepalLengthCm": 4.6,
         "SepalWidthCm": 3.1,
         "Species": "Iris-setosa",
         "_deepnote_index_column": 3
        },
        {
         "Id": 5,
         "PetalLengthCm": 1.4,
         "PetalWidthCm": 0.2,
         "SepalLengthCm": 5,
         "SepalWidthCm": 3.6,
         "Species": "Iris-setosa",
         "_deepnote_index_column": 4
        },
        {
         "Id": 6,
         "PetalLengthCm": 1.7,
         "PetalWidthCm": 0.4,
         "SepalLengthCm": 5.4,
         "SepalWidthCm": 3.9,
         "Species": "Iris-setosa",
         "_deepnote_index_column": 5
        },
        {
         "Id": 7,
         "PetalLengthCm": 1.4,
         "PetalWidthCm": 0.3,
         "SepalLengthCm": 4.6,
         "SepalWidthCm": 3.4,
         "Species": "Iris-setosa",
         "_deepnote_index_column": 6
        },
        {
         "Id": 9,
         "PetalLengthCm": 1.4,
         "PetalWidthCm": 0.2,
         "SepalLengthCm": 4.4,
         "SepalWidthCm": 2.9,
         "Species": "Iris-setosa",
         "_deepnote_index_column": 8
        },
        {
         "Id": 10,
         "PetalLengthCm": 1.5,
         "PetalWidthCm": 0.1,
         "SepalLengthCm": 4.9,
         "SepalWidthCm": 3.1,
         "Species": "Iris-setosa",
         "_deepnote_index_column": 9
        },
        {
         "Id": 11,
         "PetalLengthCm": 1.5,
         "PetalWidthCm": 0.2,
         "SepalLengthCm": 5.4,
         "SepalWidthCm": 3.7,
         "Species": "Iris-setosa",
         "_deepnote_index_column": 10
        }
       ]
      },
      "text/html": [
       "<div>\n",
       "<style scoped>\n",
       "    .dataframe tbody tr th:only-of-type {\n",
       "        vertical-align: middle;\n",
       "    }\n",
       "\n",
       "    .dataframe tbody tr th {\n",
       "        vertical-align: top;\n",
       "    }\n",
       "\n",
       "    .dataframe thead th {\n",
       "        text-align: right;\n",
       "    }\n",
       "</style>\n",
       "<table border=\"1\" class=\"dataframe\">\n",
       "  <thead>\n",
       "    <tr style=\"text-align: right;\">\n",
       "      <th></th>\n",
       "      <th>Id</th>\n",
       "      <th>SepalLengthCm</th>\n",
       "      <th>SepalWidthCm</th>\n",
       "      <th>Species</th>\n",
       "      <th>PetalLengthCm</th>\n",
       "      <th>PetalWidthCm</th>\n",
       "    </tr>\n",
       "  </thead>\n",
       "  <tbody>\n",
       "    <tr>\n",
       "      <th>0</th>\n",
       "      <td>1</td>\n",
       "      <td>5.1</td>\n",
       "      <td>3.5</td>\n",
       "      <td>Iris-setosa</td>\n",
       "      <td>1.4</td>\n",
       "      <td>0.2</td>\n",
       "    </tr>\n",
       "    <tr>\n",
       "      <th>1</th>\n",
       "      <td>2</td>\n",
       "      <td>4.9</td>\n",
       "      <td>3.0</td>\n",
       "      <td>Iris-setosa</td>\n",
       "      <td>1.4</td>\n",
       "      <td>0.2</td>\n",
       "    </tr>\n",
       "    <tr>\n",
       "      <th>2</th>\n",
       "      <td>3</td>\n",
       "      <td>4.7</td>\n",
       "      <td>3.2</td>\n",
       "      <td>Iris-setosa</td>\n",
       "      <td>1.3</td>\n",
       "      <td>0.2</td>\n",
       "    </tr>\n",
       "    <tr>\n",
       "      <th>3</th>\n",
       "      <td>4</td>\n",
       "      <td>4.6</td>\n",
       "      <td>3.1</td>\n",
       "      <td>Iris-setosa</td>\n",
       "      <td>1.5</td>\n",
       "      <td>0.2</td>\n",
       "    </tr>\n",
       "    <tr>\n",
       "      <th>4</th>\n",
       "      <td>5</td>\n",
       "      <td>5.0</td>\n",
       "      <td>3.6</td>\n",
       "      <td>Iris-setosa</td>\n",
       "      <td>1.4</td>\n",
       "      <td>0.2</td>\n",
       "    </tr>\n",
       "    <tr>\n",
       "      <th>...</th>\n",
       "      <td>...</td>\n",
       "      <td>...</td>\n",
       "      <td>...</td>\n",
       "      <td>...</td>\n",
       "      <td>...</td>\n",
       "      <td>...</td>\n",
       "    </tr>\n",
       "    <tr>\n",
       "      <th>145</th>\n",
       "      <td>146</td>\n",
       "      <td>6.7</td>\n",
       "      <td>3.0</td>\n",
       "      <td>Iris-virginica</td>\n",
       "      <td>5.2</td>\n",
       "      <td>2.3</td>\n",
       "    </tr>\n",
       "    <tr>\n",
       "      <th>146</th>\n",
       "      <td>147</td>\n",
       "      <td>6.3</td>\n",
       "      <td>2.5</td>\n",
       "      <td>Iris-virginica</td>\n",
       "      <td>5.0</td>\n",
       "      <td>1.9</td>\n",
       "    </tr>\n",
       "    <tr>\n",
       "      <th>147</th>\n",
       "      <td>148</td>\n",
       "      <td>6.5</td>\n",
       "      <td>3.0</td>\n",
       "      <td>Iris-virginica</td>\n",
       "      <td>5.2</td>\n",
       "      <td>2.0</td>\n",
       "    </tr>\n",
       "    <tr>\n",
       "      <th>148</th>\n",
       "      <td>149</td>\n",
       "      <td>6.2</td>\n",
       "      <td>3.4</td>\n",
       "      <td>Iris-virginica</td>\n",
       "      <td>5.4</td>\n",
       "      <td>2.3</td>\n",
       "    </tr>\n",
       "    <tr>\n",
       "      <th>149</th>\n",
       "      <td>150</td>\n",
       "      <td>5.9</td>\n",
       "      <td>3.0</td>\n",
       "      <td>Iris-virginica</td>\n",
       "      <td>5.1</td>\n",
       "      <td>1.8</td>\n",
       "    </tr>\n",
       "  </tbody>\n",
       "</table>\n",
       "<p>148 rows × 6 columns</p>\n",
       "</div>"
      ],
      "text/plain": [
       "      Id  SepalLengthCm  SepalWidthCm         Species  PetalLengthCm  \\\n",
       "0      1            5.1           3.5     Iris-setosa            1.4   \n",
       "1      2            4.9           3.0     Iris-setosa            1.4   \n",
       "2      3            4.7           3.2     Iris-setosa            1.3   \n",
       "3      4            4.6           3.1     Iris-setosa            1.5   \n",
       "4      5            5.0           3.6     Iris-setosa            1.4   \n",
       "..   ...            ...           ...             ...            ...   \n",
       "145  146            6.7           3.0  Iris-virginica            5.2   \n",
       "146  147            6.3           2.5  Iris-virginica            5.0   \n",
       "147  148            6.5           3.0  Iris-virginica            5.2   \n",
       "148  149            6.2           3.4  Iris-virginica            5.4   \n",
       "149  150            5.9           3.0  Iris-virginica            5.1   \n",
       "\n",
       "     PetalWidthCm  \n",
       "0             0.2  \n",
       "1             0.2  \n",
       "2             0.2  \n",
       "3             0.2  \n",
       "4             0.2  \n",
       "..            ...  \n",
       "145           2.3  \n",
       "146           1.9  \n",
       "147           2.0  \n",
       "148           2.3  \n",
       "149           1.8  \n",
       "\n",
       "[148 rows x 6 columns]"
      ]
     },
     "execution_count": 21,
     "metadata": {},
     "output_type": "execute_result"
    }
   ],
   "outputs_reference": "s3:deepnote-cell-outputs-production/5f5e78f7-8e76-419b-840c-b4315057f50d",
   "source": [
    "df_mean.head(df_mean.shape[0])"
   ]
  },
  {
   "block_group": "4b6ad9d3e2d64880a65f569df7690323",
   "cell_type": "markdown",
   "metadata": {
    "cell_id": "b78462a72ff64e98a30447dac43f4d18",
    "deepnote_cell_type": "text-cell-p",
    "formattedRanges": []
   },
   "source": [
    "Menyiapkan informasi untuk melakukan koneksi ke database dan melakukan koneksi ke database MySQL dengan informasi yang sudah di sediakan"
   ]
  },
  {
   "block_group": "bf62587f26e64a3f92887d85e03bdbd4",
   "cell_type": "code",
   "execution_count": 22,
   "metadata": {
    "cell_id": "45e5edd7ff954c98b1e1be70d3d7773e",
    "deepnote_cell_type": "code",
    "deepnote_to_be_reexecuted": false,
    "execution_millis": 2683,
    "execution_start": 1711580794846,
    "source_hash": "66c416e8"
   },
   "outputs": [],
   "outputs_reference": null,
   "source": [
    "db_user = 'avnadmin'\n",
    "db_password = 'AVNS_-BT-PwGcDR5U4FAWLyo'\n",
    "db_host = 'mysql-datamining-rizka22136.a.aivencloud.com'\n",
    "db_port = '27850'\n",
    "db_database = 'mysql-datamining'\n",
    "\n",
    "conn = mysql.connector.connect(user=db_user, password=db_password, host=db_host, port=db_port, database=db_database)\n",
    "cursor = conn.cursor()"
   ]
  },
  {
   "block_group": "f75a9886d7b24f5f925b05171734844e",
   "cell_type": "markdown",
   "metadata": {
    "cell_id": "beb1bfe5f9164eecadd8290ee6697c2f",
    "deepnote_cell_type": "text-cell-p",
    "formattedRanges": []
   },
   "source": [
    "Membuat tabel baru bernama mean_iris yang berisi Id, SepalLengthCm, SepalWidthCm, dan Species"
   ]
  },
  {
   "block_group": "407f9fea13e04d76994d63642f8e6be0",
   "cell_type": "code",
   "execution_count": 23,
   "metadata": {
    "cell_id": "76d8045a9f144517ace0b184b4f8dacf",
    "deepnote_cell_type": "code",
    "deepnote_to_be_reexecuted": false,
    "execution_millis": 213,
    "execution_start": 1711580823904,
    "source_hash": "9335b1c6"
   },
   "outputs": [],
   "outputs_reference": null,
   "source": [
    "create_table_query = \"\"\"\n",
    "CREATE TABLE mean_iris (\n",
    "    Id INT AUTO_INCREMENT PRIMARY KEY,\n",
    "    SepalLengthCm DOUBLE,\n",
    "    SepalWidthCm DOUBLE,\n",
    "    Species TEXT\n",
    ")\n",
    "\"\"\"\n",
    "\n",
    "cursor.execute(create_table_query)"
   ]
  },
  {
   "block_group": "25d81c2f9a2349738dadf46ffdab3e64",
   "cell_type": "markdown",
   "metadata": {
    "cell_id": "aaee8bae44f04baf8c25b1af4ed3a946",
    "deepnote_cell_type": "text-cell-p",
    "formattedRanges": []
   },
   "source": [
    "Menyimpan data pada df_mean ke dalam tabel mean_iris yang berada di database MySQL. Menyimpan perubahan yang dilakukan dan menutup koneksi ke database. Menampilkan pesan berhasil sebagai tanda bahwa data sudah berhasil disimpan ke dalam tabel mean_iris yang terdapat di dalam database MySQL."
   ]
  },
  {
   "block_group": "223347f4cef342fabe00cc16da149d51",
   "cell_type": "code",
   "execution_count": 24,
   "metadata": {
    "cell_id": "e6f3f7171ef94d3bb927a06d44523b6c",
    "deepnote_cell_type": "code",
    "deepnote_to_be_reexecuted": false,
    "execution_millis": 31962,
    "execution_start": 1711580842624,
    "source_hash": "5366e83f"
   },
   "outputs": [
    {
     "name": "stdout",
     "output_type": "stream",
     "text": [
      "df_mean tersimpan ke tabel mean_iris pada database MySQL.\n"
     ]
    }
   ],
   "outputs_reference": "dbtable:cell_outputs/3c704994-b91f-43cf-af4e-5a0422b1da20",
   "source": [
    "for index, row in df_mean.iterrows():\n",
    "    insert_query = \"\"\"\n",
    "    INSERT INTO mean_iris (SepalLengthCm, SepalWidthCm, Species)\n",
    "    VALUES (%s, %s, %s)\n",
    "    \"\"\"\n",
    "    cursor.execute(insert_query, (row['SepalLengthCm'], row['SepalWidthCm'], row['Species']))\n",
    "\n",
    "conn.commit()\n",
    "conn.close()\n",
    "\n",
    "print(\"df_mean tersimpan ke tabel mean_iris pada database MySQL.\")"
   ]
  },
  {
   "block_group": "de76af1b70104da0ab6a10c8f10cb093",
   "cell_type": "markdown",
   "metadata": {
    "cell_id": "ab9480c92d9c4ad8aa87377882292fdf",
    "deepnote_cell_type": "text-cell-p",
    "formattedRanges": []
   },
   "source": [
    "Menampilkan data keseluruhan pada tabel mean_iris yang ada di dalam database MySQL setelah disimpan nya data pada dataframe df_mean ke tabel mean_iris di MySQL."
   ]
  },
  {
   "block_group": "896971491de34c82b25984b829fca344",
   "cell_type": "code",
   "execution_count": 25,
   "metadata": {
    "cell_id": "c87896408a634664adf24b49dd8c5463",
    "deepnote_cell_type": "sql",
    "deepnote_sql_source": "SELECT * FROM mean_iris;",
    "deepnote_to_be_reexecuted": false,
    "deepnote_variable_name": "df_3",
    "execution_millis": 3264,
    "execution_start": 1711580889538,
    "source_hash": "c1c7d5b1",
    "sql_integration_id": "e0cde1ba-8707-4487-b543-e6f453ce52e0"
   },
   "outputs": [
    {
     "data": {
      "application/vnd.deepnote.sql-output-metadata+json": {
       "size_in_bytes": 14094,
       "status": "success_no_cache"
      }
     },
     "metadata": {},
     "output_type": "display_data"
    },
    {
     "data": {
      "application/vnd.deepnote.dataframe.v3+json": {
       "column_count": 4,
       "columns": [
        {
         "dtype": "int64",
         "name": "Id",
         "stats": {
          "histogram": [
           {
            "bin_end": 15.7,
            "bin_start": 1,
            "count": 15
           },
           {
            "bin_end": 30.4,
            "bin_start": 15.7,
            "count": 15
           },
           {
            "bin_end": 45.099999999999994,
            "bin_start": 30.4,
            "count": 15
           },
           {
            "bin_end": 59.8,
            "bin_start": 45.099999999999994,
            "count": 14
           },
           {
            "bin_end": 74.5,
            "bin_start": 59.8,
            "count": 15
           },
           {
            "bin_end": 89.19999999999999,
            "bin_start": 74.5,
            "count": 15
           },
           {
            "bin_end": 103.89999999999999,
            "bin_start": 89.19999999999999,
            "count": 14
           },
           {
            "bin_end": 118.6,
            "bin_start": 103.89999999999999,
            "count": 15
           },
           {
            "bin_end": 133.29999999999998,
            "bin_start": 118.6,
            "count": 15
           },
           {
            "bin_end": 148,
            "bin_start": 133.29999999999998,
            "count": 15
           }
          ],
          "max": "148",
          "min": "1",
          "nan_count": 0,
          "unique_count": 148
         }
        },
        {
         "dtype": "float64",
         "name": "SepalLengthCm",
         "stats": {
          "histogram": [
           {
            "bin_end": 4.66,
            "bin_start": 4.3,
            "count": 9
           },
           {
            "bin_end": 5.02,
            "bin_start": 4.66,
            "count": 22
           },
           {
            "bin_end": 5.38,
            "bin_start": 5.02,
            "count": 13
           },
           {
            "bin_end": 5.74,
            "bin_start": 5.38,
            "count": 27
           },
           {
            "bin_end": 6.1,
            "bin_start": 5.74,
            "count": 16
           },
           {
            "bin_end": 6.46,
            "bin_start": 6.1,
            "count": 26
           },
           {
            "bin_end": 6.82,
            "bin_start": 6.46,
            "count": 19
           },
           {
            "bin_end": 7.18,
            "bin_start": 6.82,
            "count": 6
           },
           {
            "bin_end": 7.54,
            "bin_start": 7.18,
            "count": 5
           },
           {
            "bin_end": 7.9,
            "bin_start": 7.54,
            "count": 5
           }
          ],
          "max": "7.9",
          "min": "4.3",
          "nan_count": 0,
          "unique_count": 35
         }
        },
        {
         "dtype": "float64",
         "name": "SepalWidthCm",
         "stats": {
          "histogram": [
           {
            "bin_end": 2.24,
            "bin_start": 2,
            "count": 4
           },
           {
            "bin_end": 2.48,
            "bin_start": 2.24,
            "count": 7
           },
           {
            "bin_end": 2.72,
            "bin_start": 2.48,
            "count": 22
           },
           {
            "bin_end": 2.96,
            "bin_start": 2.72,
            "count": 24
           },
           {
            "bin_end": 3.2,
            "bin_start": 2.96,
            "count": 38
           },
           {
            "bin_end": 3.4400000000000004,
            "bin_start": 3.2,
            "count": 29
           },
           {
            "bin_end": 3.6800000000000006,
            "bin_start": 3.4400000000000004,
            "count": 9
           },
           {
            "bin_end": 3.9200000000000004,
            "bin_start": 3.6800000000000006,
            "count": 11
           },
           {
            "bin_end": 4.16,
            "bin_start": 3.9200000000000004,
            "count": 2
           },
           {
            "bin_end": 4.4,
            "bin_start": 4.16,
            "count": 2
           }
          ],
          "max": "4.4",
          "min": "2.0",
          "nan_count": 0,
          "unique_count": 23
         }
        },
        {
         "dtype": "object",
         "name": "Species",
         "stats": {
          "categories": [
           {
            "count": 50,
            "name": "Iris-versicolor"
           },
           {
            "count": 50,
            "name": "Iris-virginica"
           },
           {
            "count": 48,
            "name": "Iris-setosa"
           }
          ],
          "nan_count": 0,
          "unique_count": 3
         }
        },
        {
         "dtype": "int64",
         "name": "_deepnote_index_column"
        }
       ],
       "row_count": 148,
       "rows": [
        {
         "Id": 1,
         "SepalLengthCm": 5.1,
         "SepalWidthCm": 3.5,
         "Species": "Iris-setosa",
         "_deepnote_index_column": 0
        },
        {
         "Id": 2,
         "SepalLengthCm": 4.9,
         "SepalWidthCm": 3,
         "Species": "Iris-setosa",
         "_deepnote_index_column": 1
        },
        {
         "Id": 3,
         "SepalLengthCm": 4.7,
         "SepalWidthCm": 3.2,
         "Species": "Iris-setosa",
         "_deepnote_index_column": 2
        },
        {
         "Id": 4,
         "SepalLengthCm": 4.6,
         "SepalWidthCm": 3.1,
         "Species": "Iris-setosa",
         "_deepnote_index_column": 3
        },
        {
         "Id": 5,
         "SepalLengthCm": 5,
         "SepalWidthCm": 3.6,
         "Species": "Iris-setosa",
         "_deepnote_index_column": 4
        },
        {
         "Id": 6,
         "SepalLengthCm": 5.4,
         "SepalWidthCm": 3.9,
         "Species": "Iris-setosa",
         "_deepnote_index_column": 5
        },
        {
         "Id": 7,
         "SepalLengthCm": 4.6,
         "SepalWidthCm": 3.4,
         "Species": "Iris-setosa",
         "_deepnote_index_column": 6
        },
        {
         "Id": 8,
         "SepalLengthCm": 4.4,
         "SepalWidthCm": 2.9,
         "Species": "Iris-setosa",
         "_deepnote_index_column": 7
        },
        {
         "Id": 9,
         "SepalLengthCm": 4.9,
         "SepalWidthCm": 3.1,
         "Species": "Iris-setosa",
         "_deepnote_index_column": 8
        },
        {
         "Id": 10,
         "SepalLengthCm": 5.4,
         "SepalWidthCm": 3.7,
         "Species": "Iris-setosa",
         "_deepnote_index_column": 9
        }
       ]
      },
      "text/html": [
       "<div>\n",
       "<style scoped>\n",
       "    .dataframe tbody tr th:only-of-type {\n",
       "        vertical-align: middle;\n",
       "    }\n",
       "\n",
       "    .dataframe tbody tr th {\n",
       "        vertical-align: top;\n",
       "    }\n",
       "\n",
       "    .dataframe thead th {\n",
       "        text-align: right;\n",
       "    }\n",
       "</style>\n",
       "<table border=\"1\" class=\"dataframe\">\n",
       "  <thead>\n",
       "    <tr style=\"text-align: right;\">\n",
       "      <th></th>\n",
       "      <th>Id</th>\n",
       "      <th>SepalLengthCm</th>\n",
       "      <th>SepalWidthCm</th>\n",
       "      <th>Species</th>\n",
       "    </tr>\n",
       "  </thead>\n",
       "  <tbody>\n",
       "    <tr>\n",
       "      <th>0</th>\n",
       "      <td>1</td>\n",
       "      <td>5.1</td>\n",
       "      <td>3.5</td>\n",
       "      <td>Iris-setosa</td>\n",
       "    </tr>\n",
       "    <tr>\n",
       "      <th>1</th>\n",
       "      <td>2</td>\n",
       "      <td>4.9</td>\n",
       "      <td>3.0</td>\n",
       "      <td>Iris-setosa</td>\n",
       "    </tr>\n",
       "    <tr>\n",
       "      <th>2</th>\n",
       "      <td>3</td>\n",
       "      <td>4.7</td>\n",
       "      <td>3.2</td>\n",
       "      <td>Iris-setosa</td>\n",
       "    </tr>\n",
       "    <tr>\n",
       "      <th>3</th>\n",
       "      <td>4</td>\n",
       "      <td>4.6</td>\n",
       "      <td>3.1</td>\n",
       "      <td>Iris-setosa</td>\n",
       "    </tr>\n",
       "    <tr>\n",
       "      <th>4</th>\n",
       "      <td>5</td>\n",
       "      <td>5.0</td>\n",
       "      <td>3.6</td>\n",
       "      <td>Iris-setosa</td>\n",
       "    </tr>\n",
       "    <tr>\n",
       "      <th>...</th>\n",
       "      <td>...</td>\n",
       "      <td>...</td>\n",
       "      <td>...</td>\n",
       "      <td>...</td>\n",
       "    </tr>\n",
       "    <tr>\n",
       "      <th>143</th>\n",
       "      <td>144</td>\n",
       "      <td>6.7</td>\n",
       "      <td>3.0</td>\n",
       "      <td>Iris-virginica</td>\n",
       "    </tr>\n",
       "    <tr>\n",
       "      <th>144</th>\n",
       "      <td>145</td>\n",
       "      <td>6.3</td>\n",
       "      <td>2.5</td>\n",
       "      <td>Iris-virginica</td>\n",
       "    </tr>\n",
       "    <tr>\n",
       "      <th>145</th>\n",
       "      <td>146</td>\n",
       "      <td>6.5</td>\n",
       "      <td>3.0</td>\n",
       "      <td>Iris-virginica</td>\n",
       "    </tr>\n",
       "    <tr>\n",
       "      <th>146</th>\n",
       "      <td>147</td>\n",
       "      <td>6.2</td>\n",
       "      <td>3.4</td>\n",
       "      <td>Iris-virginica</td>\n",
       "    </tr>\n",
       "    <tr>\n",
       "      <th>147</th>\n",
       "      <td>148</td>\n",
       "      <td>5.9</td>\n",
       "      <td>3.0</td>\n",
       "      <td>Iris-virginica</td>\n",
       "    </tr>\n",
       "  </tbody>\n",
       "</table>\n",
       "<p>148 rows × 4 columns</p>\n",
       "</div>"
      ],
      "text/plain": [
       "      Id  SepalLengthCm  SepalWidthCm         Species\n",
       "0      1            5.1           3.5     Iris-setosa\n",
       "1      2            4.9           3.0     Iris-setosa\n",
       "2      3            4.7           3.2     Iris-setosa\n",
       "3      4            4.6           3.1     Iris-setosa\n",
       "4      5            5.0           3.6     Iris-setosa\n",
       "..   ...            ...           ...             ...\n",
       "143  144            6.7           3.0  Iris-virginica\n",
       "144  145            6.3           2.5  Iris-virginica\n",
       "145  146            6.5           3.0  Iris-virginica\n",
       "146  147            6.2           3.4  Iris-virginica\n",
       "147  148            5.9           3.0  Iris-virginica\n",
       "\n",
       "[148 rows x 4 columns]"
      ]
     },
     "execution_count": 25,
     "metadata": {},
     "output_type": "execute_result"
    }
   ],
   "outputs_reference": "s3:deepnote-cell-outputs-production/d91c43c3-8a23-4cba-a420-1135f28fdedd",
   "source": [
    "df_3 = _deepnote_execute_sql('SELECT * FROM mean_iris;', 'SQL_E0CDE1BA_8707_4487_B543_E6F453CE52E0', audit_sql_comment='', sql_cache_mode='cache_disabled')\n",
    "df_3"
   ]
  },
  {
   "block_group": "6c2edff9f4e0497daf167a07cf9fad18",
   "cell_type": "markdown",
   "metadata": {
    "cell_id": "bfb237e86a2f41bba4492b275a9b70d6",
    "deepnote_cell_type": "text-cell-p",
    "formattedRanges": []
   },
   "source": [
    "Melakukan import library yang dibutuhkan untuk proses input data ke database PostgreSQL"
   ]
  },
  {
   "block_group": "b0ed52cd54e347929f7d67fb4d08200d",
   "cell_type": "code",
   "execution_count": 26,
   "metadata": {
    "cell_id": "bcb2211e3f9c4fed80e645081913e763",
    "deepnote_cell_type": "code",
    "deepnote_to_be_reexecuted": false,
    "execution_millis": 38,
    "execution_start": 1711580912149,
    "source_hash": "9f91ef74"
   },
   "outputs": [],
   "outputs_reference": null,
   "source": [
    "import pandas as pd\n",
    "import psycopg2"
   ]
  },
  {
   "block_group": "0faf8d3900b74b66b728d6884c7b9ec3",
   "cell_type": "markdown",
   "metadata": {
    "cell_id": "038777a8440147a6aec79f47be7df83d",
    "deepnote_cell_type": "text-cell-p",
    "formattedRanges": []
   },
   "source": [
    "Menyiapkan informasi untuk melakukan koneksi ke database dan melakukan koneksi ke database PostgreSQL dengan informasi yang sudah di sediakan"
   ]
  },
  {
   "block_group": "16411d59926840fc8ce133c21399d576",
   "cell_type": "code",
   "execution_count": 27,
   "metadata": {
    "cell_id": "f1f7d69e2e3d4176aa5ea9ff8530967f",
    "deepnote_cell_type": "code",
    "deepnote_to_be_reexecuted": false,
    "execution_millis": 1324,
    "execution_start": 1711580949644,
    "source_hash": "e3387bee"
   },
   "outputs": [],
   "outputs_reference": null,
   "source": [
    "db_user = 'avnadmin'\n",
    "db_password = 'AVNS_8cpYQzVhLkb8plt9O2v'\n",
    "db_host = 'pg-datamining-rizka22136.a.aivencloud.com'\n",
    "db_port = '27850'\n",
    "db_name = 'defaultdb'\n",
    "\n",
    "conn = psycopg2.connect(dbname=db_name, user=db_user, password=db_password, host=db_host, port=db_port)\n",
    "cursor = conn.cursor()"
   ]
  },
  {
   "block_group": "c4b5ff6c05e34b10b7b78aa8ba5327ae",
   "cell_type": "markdown",
   "metadata": {
    "cell_id": "ee30be428f144f25954568ba59f2c2e5",
    "deepnote_cell_type": "text-cell-p",
    "formattedRanges": []
   },
   "source": [
    "Membuat tabel baru bernama mean_iris yang berisi Id, PetalLengthCm, dan PetalWidthCm"
   ]
  },
  {
   "block_group": "7c3780db699746dcafd08bc992f61dfe",
   "cell_type": "code",
   "execution_count": 28,
   "metadata": {
    "cell_id": "8f6cacfde3754d5da68f2ca6c1f17031",
    "deepnote_cell_type": "code",
    "deepnote_to_be_reexecuted": false,
    "execution_millis": 425,
    "execution_start": 1711580965864,
    "source_hash": "81a3c90"
   },
   "outputs": [],
   "outputs_reference": null,
   "source": [
    "create_table_query = \"\"\"\n",
    "CREATE TABLE \"mean_iris\" (\n",
    "    Id INT PRIMARY KEY,\n",
    "    PetalLengthCm DOUBLE PRECISION,\n",
    "    PetalWidthCm DOUBLE PRECISION\n",
    ")\n",
    "\"\"\"\n",
    "cursor.execute(create_table_query)"
   ]
  },
  {
   "block_group": "28ce9746ab054b5280630a3585537fff",
   "cell_type": "markdown",
   "metadata": {
    "cell_id": "c14ece65c16a4bbaa8354f6ce5f27956",
    "deepnote_cell_type": "text-cell-p",
    "formattedRanges": []
   },
   "source": [
    "Menyimpan data pada df_mean ke dalam tabel mean_iris yang berada di database PostgreSQL. Menyimpan perubahan yang dilakukan dan menutup koneksi ke database. Menampilkan pesan berhasil sebagai tanda bahwa data sudah berhasil disimpan ke dalam tabel mean_iris yang terdapat di dalam database PostgreSQL."
   ]
  },
  {
   "block_group": "c46c78940d4b4e738e6f76f80ed40d25",
   "cell_type": "code",
   "execution_count": 29,
   "metadata": {
    "cell_id": "b8530f196b8b4435bb079c7c32e911bd",
    "deepnote_cell_type": "code",
    "deepnote_to_be_reexecuted": false,
    "execution_millis": 33188,
    "execution_start": 1711581004116,
    "source_hash": "7d1d1c9f"
   },
   "outputs": [
    {
     "name": "stdout",
     "output_type": "stream",
     "text": [
      "df_mean tersimpan ke tabel mean_iris pada database PostgreSQL.\n"
     ]
    }
   ],
   "outputs_reference": "dbtable:cell_outputs/20b2792b-26eb-4f27-a88e-4916d87dcac7",
   "source": [
    "for index, row in df_mean.iterrows():\n",
    "    insert_query = \"\"\"\n",
    "    INSERT INTO \"mean_iris\" (Id, PetalLengthCm, PetalWidthCm)\n",
    "    VALUES (%s, %s, %s)\n",
    "    \"\"\"\n",
    "    cursor.execute(insert_query, (row['Id'], row['PetalLengthCm'], row['PetalWidthCm']))\n",
    "\n",
    "conn.commit()\n",
    "conn.close()\n",
    "\n",
    "print(\"df_mean tersimpan ke tabel mean_iris pada database PostgreSQL.\")"
   ]
  },
  {
   "block_group": "54b1b246302b4c43add5211365312f8d",
   "cell_type": "markdown",
   "metadata": {
    "cell_id": "309cc4da4f734c42be4013e5d7333c7a",
    "deepnote_cell_type": "text-cell-p",
    "formattedRanges": []
   },
   "source": [
    "Menampilkan data keseluruhan pada tabel mean_iris yang ada di dalam database PostgreSQL setelah disimpan nya data pada dataframe df_mean ke tabel mean_iris di PostgreSQL."
   ]
  },
  {
   "block_group": "fa8918c5a49749dd8b02268848eb34f6",
   "cell_type": "code",
   "execution_count": 30,
   "metadata": {
    "cell_id": "a61f522a13514282ba41bfbacacf0f28",
    "deepnote_cell_type": "sql",
    "deepnote_sql_source": "SELECT * FROM mean_iris;",
    "deepnote_to_be_reexecuted": false,
    "deepnote_variable_name": "df_7",
    "execution_millis": 3832,
    "execution_start": 1711581050886,
    "source_hash": "72225c8c",
    "sql_integration_id": "db120e07-2091-462d-9417-e0974c1a18a0"
   },
   "outputs": [
    {
     "data": {
      "application/vnd.deepnote.sql-output-metadata+json": {
       "size_in_bytes": 3680,
       "status": "success_no_cache"
      }
     },
     "metadata": {},
     "output_type": "display_data"
    },
    {
     "data": {
      "application/vnd.deepnote.dataframe.v3+json": {
       "column_count": 3,
       "columns": [
        {
         "dtype": "int64",
         "name": "id",
         "stats": {
          "histogram": [
           {
            "bin_end": 15.9,
            "bin_start": 1,
            "count": 14
           },
           {
            "bin_end": 30.8,
            "bin_start": 15.9,
            "count": 15
           },
           {
            "bin_end": 45.7,
            "bin_start": 30.8,
            "count": 15
           },
           {
            "bin_end": 60.6,
            "bin_start": 45.7,
            "count": 14
           },
           {
            "bin_end": 75.5,
            "bin_start": 60.6,
            "count": 15
           },
           {
            "bin_end": 90.4,
            "bin_start": 75.5,
            "count": 15
           },
           {
            "bin_end": 105.3,
            "bin_start": 90.4,
            "count": 15
           },
           {
            "bin_end": 120.2,
            "bin_start": 105.3,
            "count": 15
           },
           {
            "bin_end": 135.1,
            "bin_start": 120.2,
            "count": 15
           },
           {
            "bin_end": 150,
            "bin_start": 135.1,
            "count": 15
           }
          ],
          "max": "150",
          "min": "1",
          "nan_count": 0,
          "unique_count": 148
         }
        },
        {
         "dtype": "float64",
         "name": "petallengthcm",
         "stats": {
          "histogram": [
           {
            "bin_end": 1.59,
            "bin_start": 1,
            "count": 35
           },
           {
            "bin_end": 2.18,
            "bin_start": 1.59,
            "count": 13
           },
           {
            "bin_end": 2.7700000000000005,
            "bin_start": 2.18,
            "count": 0
           },
           {
            "bin_end": 3.3600000000000003,
            "bin_start": 2.7700000000000005,
            "count": 3
           },
           {
            "bin_end": 3.95,
            "bin_start": 3.3600000000000003,
            "count": 8
           },
           {
            "bin_end": 4.540000000000001,
            "bin_start": 3.95,
            "count": 26
           },
           {
            "bin_end": 5.130000000000001,
            "bin_start": 4.540000000000001,
            "count": 29
           },
           {
            "bin_end": 5.720000000000001,
            "bin_start": 5.130000000000001,
            "count": 18
           },
           {
            "bin_end": 6.3100000000000005,
            "bin_start": 5.720000000000001,
            "count": 11
           },
           {
            "bin_end": 6.9,
            "bin_start": 6.3100000000000005,
            "count": 5
           }
          ],
          "max": "6.9",
          "min": "1.0",
          "nan_count": 0,
          "unique_count": 43
         }
        },
        {
         "dtype": "float64",
         "name": "petalwidthcm",
         "stats": {
          "histogram": [
           {
            "bin_end": 0.33999999999999997,
            "bin_start": 0.1,
            "count": 39
           },
           {
            "bin_end": 0.58,
            "bin_start": 0.33999999999999997,
            "count": 8
           },
           {
            "bin_end": 0.82,
            "bin_start": 0.58,
            "count": 1
           },
           {
            "bin_end": 1.06,
            "bin_start": 0.82,
            "count": 7
           },
           {
            "bin_end": 1.3,
            "bin_start": 1.06,
            "count": 8
           },
           {
            "bin_end": 1.54,
            "bin_start": 1.3,
            "count": 33
           },
           {
            "bin_end": 1.78,
            "bin_start": 1.54,
            "count": 6
           },
           {
            "bin_end": 2.02,
            "bin_start": 1.78,
            "count": 23
           },
           {
            "bin_end": 2.2600000000000002,
            "bin_start": 2.02,
            "count": 9
           },
           {
            "bin_end": 2.5,
            "bin_start": 2.2600000000000002,
            "count": 14
           }
          ],
          "max": "2.5",
          "min": "0.1",
          "nan_count": 0,
          "unique_count": 22
         }
        },
        {
         "dtype": "int64",
         "name": "_deepnote_index_column"
        }
       ],
       "row_count": 148,
       "rows": [
        {
         "_deepnote_index_column": 0,
         "id": 1,
         "petallengthcm": 1.4,
         "petalwidthcm": 0.2
        },
        {
         "_deepnote_index_column": 1,
         "id": 2,
         "petallengthcm": 1.4,
         "petalwidthcm": 0.2
        },
        {
         "_deepnote_index_column": 2,
         "id": 3,
         "petallengthcm": 1.3,
         "petalwidthcm": 0.2
        },
        {
         "_deepnote_index_column": 3,
         "id": 4,
         "petallengthcm": 1.5,
         "petalwidthcm": 0.2
        },
        {
         "_deepnote_index_column": 4,
         "id": 5,
         "petallengthcm": 1.4,
         "petalwidthcm": 0.2
        },
        {
         "_deepnote_index_column": 5,
         "id": 6,
         "petallengthcm": 1.7,
         "petalwidthcm": 0.4
        },
        {
         "_deepnote_index_column": 6,
         "id": 7,
         "petallengthcm": 1.4,
         "petalwidthcm": 0.3
        },
        {
         "_deepnote_index_column": 7,
         "id": 9,
         "petallengthcm": 1.4,
         "petalwidthcm": 0.2
        },
        {
         "_deepnote_index_column": 8,
         "id": 10,
         "petallengthcm": 1.5,
         "petalwidthcm": 0.1
        },
        {
         "_deepnote_index_column": 9,
         "id": 11,
         "petallengthcm": 1.5,
         "petalwidthcm": 0.2
        }
       ]
      },
      "text/html": [
       "<div>\n",
       "<style scoped>\n",
       "    .dataframe tbody tr th:only-of-type {\n",
       "        vertical-align: middle;\n",
       "    }\n",
       "\n",
       "    .dataframe tbody tr th {\n",
       "        vertical-align: top;\n",
       "    }\n",
       "\n",
       "    .dataframe thead th {\n",
       "        text-align: right;\n",
       "    }\n",
       "</style>\n",
       "<table border=\"1\" class=\"dataframe\">\n",
       "  <thead>\n",
       "    <tr style=\"text-align: right;\">\n",
       "      <th></th>\n",
       "      <th>id</th>\n",
       "      <th>petallengthcm</th>\n",
       "      <th>petalwidthcm</th>\n",
       "    </tr>\n",
       "  </thead>\n",
       "  <tbody>\n",
       "    <tr>\n",
       "      <th>0</th>\n",
       "      <td>1</td>\n",
       "      <td>1.4</td>\n",
       "      <td>0.2</td>\n",
       "    </tr>\n",
       "    <tr>\n",
       "      <th>1</th>\n",
       "      <td>2</td>\n",
       "      <td>1.4</td>\n",
       "      <td>0.2</td>\n",
       "    </tr>\n",
       "    <tr>\n",
       "      <th>2</th>\n",
       "      <td>3</td>\n",
       "      <td>1.3</td>\n",
       "      <td>0.2</td>\n",
       "    </tr>\n",
       "    <tr>\n",
       "      <th>3</th>\n",
       "      <td>4</td>\n",
       "      <td>1.5</td>\n",
       "      <td>0.2</td>\n",
       "    </tr>\n",
       "    <tr>\n",
       "      <th>4</th>\n",
       "      <td>5</td>\n",
       "      <td>1.4</td>\n",
       "      <td>0.2</td>\n",
       "    </tr>\n",
       "    <tr>\n",
       "      <th>...</th>\n",
       "      <td>...</td>\n",
       "      <td>...</td>\n",
       "      <td>...</td>\n",
       "    </tr>\n",
       "    <tr>\n",
       "      <th>143</th>\n",
       "      <td>146</td>\n",
       "      <td>5.2</td>\n",
       "      <td>2.3</td>\n",
       "    </tr>\n",
       "    <tr>\n",
       "      <th>144</th>\n",
       "      <td>147</td>\n",
       "      <td>5.0</td>\n",
       "      <td>1.9</td>\n",
       "    </tr>\n",
       "    <tr>\n",
       "      <th>145</th>\n",
       "      <td>148</td>\n",
       "      <td>5.2</td>\n",
       "      <td>2.0</td>\n",
       "    </tr>\n",
       "    <tr>\n",
       "      <th>146</th>\n",
       "      <td>149</td>\n",
       "      <td>5.4</td>\n",
       "      <td>2.3</td>\n",
       "    </tr>\n",
       "    <tr>\n",
       "      <th>147</th>\n",
       "      <td>150</td>\n",
       "      <td>5.1</td>\n",
       "      <td>1.8</td>\n",
       "    </tr>\n",
       "  </tbody>\n",
       "</table>\n",
       "<p>148 rows × 3 columns</p>\n",
       "</div>"
      ],
      "text/plain": [
       "      id  petallengthcm  petalwidthcm\n",
       "0      1            1.4           0.2\n",
       "1      2            1.4           0.2\n",
       "2      3            1.3           0.2\n",
       "3      4            1.5           0.2\n",
       "4      5            1.4           0.2\n",
       "..   ...            ...           ...\n",
       "143  146            5.2           2.3\n",
       "144  147            5.0           1.9\n",
       "145  148            5.2           2.0\n",
       "146  149            5.4           2.3\n",
       "147  150            5.1           1.8\n",
       "\n",
       "[148 rows x 3 columns]"
      ]
     },
     "execution_count": 30,
     "metadata": {},
     "output_type": "execute_result"
    }
   ],
   "outputs_reference": "s3:deepnote-cell-outputs-production/48fb9768-491b-4f2f-9bd6-595c87fb8d95",
   "source": [
    "df_7 = _deepnote_execute_sql('SELECT * FROM mean_iris;', 'SQL_DB120E07_2091_462D_9417_E0974C1A18A0', audit_sql_comment='', sql_cache_mode='cache_disabled')\n",
    "df_7"
   ]
  },
  {
   "block_group": "462984c5e1824fe69b8cf16b8b5b7bca",
   "cell_type": "markdown",
   "metadata": {
    "cell_id": "54dc508f27634a17bd54d988f13c6f57",
    "deepnote_cell_type": "text-cell-h2",
    "formattedRanges": []
   },
   "source": [
    "## Pengisian missing values menggunakan metode KNN"
   ]
  },
  {
   "block_group": "89686a38f26546f2a83a3562e2481ba6",
   "cell_type": "code",
   "execution_count": 31,
   "metadata": {
    "cell_id": "eb24849f6b9c4ac5ba0fa745f24d55ba",
    "deepnote_cell_type": "code",
    "deepnote_to_be_reexecuted": false,
    "execution_millis": 1391,
    "execution_start": 1711581069861,
    "source_hash": "a3b400dc"
   },
   "outputs": [],
   "outputs_reference": null,
   "source": [
    "import matplotlib.pyplot as plt\n",
    "from sklearn.impute import KNNImputer\n",
    "from sklearn.model_selection import train_test_split\n",
    "from sklearn.neighbors import KNeighborsRegressor\n",
    "from sklearn.metrics import mean_squared_error"
   ]
  },
  {
   "block_group": "6269d1fdcc324928b1590566ae1981da",
   "cell_type": "markdown",
   "metadata": {
    "cell_id": "976d2352b5e44f62818028480574a71e",
    "deepnote_cell_type": "text-cell-p",
    "formattedRanges": []
   },
   "source": [
    "Melakukan duplikasi isi dataframe df_iris ke dalam dataframe baru bernama df_knn untuk melakukan imputasi missing values dengan menggunakan metode KNN tanpa mengubah dataframe asli, kemudian menampilkan kondisi data pada df_knn."
   ]
  },
  {
   "block_group": "4e919c2872ab4888b7d5251bb50ef81a",
   "cell_type": "code",
   "execution_count": 32,
   "metadata": {
    "cell_id": "03be5e18a7a34f4990e5d03c1fc386dd",
    "deepnote_cell_type": "code",
    "deepnote_to_be_reexecuted": false,
    "execution_millis": 218,
    "execution_start": 1711581081002,
    "source_hash": "1b4e4255"
   },
   "outputs": [
    {
     "data": {
      "application/vnd.deepnote.dataframe.v3+json": {
       "column_count": 6,
       "columns": [
        {
         "dtype": "int64",
         "name": "Id",
         "stats": {
          "histogram": [
           {
            "bin_end": 15.9,
            "bin_start": 1,
            "count": 14
           },
           {
            "bin_end": 30.8,
            "bin_start": 15.9,
            "count": 15
           },
           {
            "bin_end": 45.7,
            "bin_start": 30.8,
            "count": 15
           },
           {
            "bin_end": 60.6,
            "bin_start": 45.7,
            "count": 14
           },
           {
            "bin_end": 75.5,
            "bin_start": 60.6,
            "count": 15
           },
           {
            "bin_end": 90.4,
            "bin_start": 75.5,
            "count": 15
           },
           {
            "bin_end": 105.3,
            "bin_start": 90.4,
            "count": 15
           },
           {
            "bin_end": 120.2,
            "bin_start": 105.3,
            "count": 15
           },
           {
            "bin_end": 135.1,
            "bin_start": 120.2,
            "count": 15
           },
           {
            "bin_end": 150,
            "bin_start": 135.1,
            "count": 15
           }
          ],
          "max": "150",
          "min": "1",
          "nan_count": 0,
          "unique_count": 148
         }
        },
        {
         "dtype": "float64",
         "name": "SepalLengthCm",
         "stats": {
          "histogram": [
           {
            "bin_end": 4.66,
            "bin_start": 4.3,
            "count": 9
           },
           {
            "bin_end": 5.02,
            "bin_start": 4.66,
            "count": 21
           },
           {
            "bin_end": 5.38,
            "bin_start": 5.02,
            "count": 13
           },
           {
            "bin_end": 5.74,
            "bin_start": 5.38,
            "count": 27
           },
           {
            "bin_end": 6.1,
            "bin_start": 5.74,
            "count": 15
           },
           {
            "bin_end": 6.46,
            "bin_start": 6.1,
            "count": 26
           },
           {
            "bin_end": 6.82,
            "bin_start": 6.46,
            "count": 18
           },
           {
            "bin_end": 7.18,
            "bin_start": 6.82,
            "count": 6
           },
           {
            "bin_end": 7.54,
            "bin_start": 7.18,
            "count": 5
           },
           {
            "bin_end": 7.9,
            "bin_start": 7.54,
            "count": 5
           }
          ],
          "max": "7.9",
          "min": "4.3",
          "nan_count": 3,
          "unique_count": 35
         }
        },
        {
         "dtype": "float64",
         "name": "SepalWidthCm",
         "stats": {
          "histogram": [
           {
            "bin_end": 2.24,
            "bin_start": 2,
            "count": 4
           },
           {
            "bin_end": 2.48,
            "bin_start": 2.24,
            "count": 7
           },
           {
            "bin_end": 2.72,
            "bin_start": 2.48,
            "count": 22
           },
           {
            "bin_end": 2.96,
            "bin_start": 2.72,
            "count": 24
           },
           {
            "bin_end": 3.2,
            "bin_start": 2.96,
            "count": 38
           },
           {
            "bin_end": 3.4400000000000004,
            "bin_start": 3.2,
            "count": 29
           },
           {
            "bin_end": 3.6800000000000006,
            "bin_start": 3.4400000000000004,
            "count": 9
           },
           {
            "bin_end": 3.9200000000000004,
            "bin_start": 3.6800000000000006,
            "count": 11
           },
           {
            "bin_end": 4.16,
            "bin_start": 3.9200000000000004,
            "count": 2
           },
           {
            "bin_end": 4.4,
            "bin_start": 4.16,
            "count": 2
           }
          ],
          "max": "4.4",
          "min": "2.0",
          "nan_count": 0,
          "unique_count": 23
         }
        },
        {
         "dtype": "object",
         "name": "Species",
         "stats": {
          "categories": [
           {
            "count": 50,
            "name": "Iris-versicolor"
           },
           {
            "count": 50,
            "name": "Iris-virginica"
           },
           {
            "count": 48,
            "name": "Iris-setosa"
           }
          ],
          "nan_count": 0,
          "unique_count": 3
         }
        },
        {
         "dtype": "float64",
         "name": "PetalLengthCm",
         "stats": {
          "histogram": [
           {
            "bin_end": 1.59,
            "bin_start": 1,
            "count": 35
           },
           {
            "bin_end": 2.18,
            "bin_start": 1.59,
            "count": 13
           },
           {
            "bin_end": 2.7700000000000005,
            "bin_start": 2.18,
            "count": 0
           },
           {
            "bin_end": 3.3600000000000003,
            "bin_start": 2.7700000000000005,
            "count": 3
           },
           {
            "bin_end": 3.95,
            "bin_start": 3.3600000000000003,
            "count": 8
           },
           {
            "bin_end": 4.540000000000001,
            "bin_start": 3.95,
            "count": 26
           },
           {
            "bin_end": 5.130000000000001,
            "bin_start": 4.540000000000001,
            "count": 29
           },
           {
            "bin_end": 5.720000000000001,
            "bin_start": 5.130000000000001,
            "count": 18
           },
           {
            "bin_end": 6.3100000000000005,
            "bin_start": 5.720000000000001,
            "count": 11
           },
           {
            "bin_end": 6.9,
            "bin_start": 6.3100000000000005,
            "count": 5
           }
          ],
          "max": "6.9",
          "min": "1.0",
          "nan_count": 0,
          "unique_count": 43
         }
        },
        {
         "dtype": "float64",
         "name": "PetalWidthCm",
         "stats": {
          "histogram": [
           {
            "bin_end": 0.33999999999999997,
            "bin_start": 0.1,
            "count": 39
           },
           {
            "bin_end": 0.58,
            "bin_start": 0.33999999999999997,
            "count": 8
           },
           {
            "bin_end": 0.82,
            "bin_start": 0.58,
            "count": 1
           },
           {
            "bin_end": 1.06,
            "bin_start": 0.82,
            "count": 7
           },
           {
            "bin_end": 1.3,
            "bin_start": 1.06,
            "count": 8
           },
           {
            "bin_end": 1.54,
            "bin_start": 1.3,
            "count": 33
           },
           {
            "bin_end": 1.78,
            "bin_start": 1.54,
            "count": 6
           },
           {
            "bin_end": 2.02,
            "bin_start": 1.78,
            "count": 23
           },
           {
            "bin_end": 2.2600000000000002,
            "bin_start": 2.02,
            "count": 9
           },
           {
            "bin_end": 2.5,
            "bin_start": 2.2600000000000002,
            "count": 14
           }
          ],
          "max": "2.5",
          "min": "0.1",
          "nan_count": 0,
          "unique_count": 22
         }
        },
        {
         "dtype": "int64",
         "name": "_deepnote_index_column"
        }
       ],
       "row_count": 148,
       "rows": [
        {
         "Id": 1,
         "PetalLengthCm": 1.4,
         "PetalWidthCm": 0.2,
         "SepalLengthCm": 5.1,
         "SepalWidthCm": 3.5,
         "Species": "Iris-setosa",
         "_deepnote_index_column": 0
        },
        {
         "Id": 2,
         "PetalLengthCm": 1.4,
         "PetalWidthCm": 0.2,
         "SepalLengthCm": 4.9,
         "SepalWidthCm": 3,
         "Species": "Iris-setosa",
         "_deepnote_index_column": 1
        },
        {
         "Id": 3,
         "PetalLengthCm": 1.3,
         "PetalWidthCm": 0.2,
         "SepalLengthCm": 4.7,
         "SepalWidthCm": 3.2,
         "Species": "Iris-setosa",
         "_deepnote_index_column": 2
        },
        {
         "Id": 4,
         "PetalLengthCm": 1.5,
         "PetalWidthCm": 0.2,
         "SepalLengthCm": 4.6,
         "SepalWidthCm": 3.1,
         "Species": "Iris-setosa",
         "_deepnote_index_column": 3
        },
        {
         "Id": 5,
         "PetalLengthCm": 1.4,
         "PetalWidthCm": 0.2,
         "SepalLengthCm": 5,
         "SepalWidthCm": 3.6,
         "Species": "Iris-setosa",
         "_deepnote_index_column": 4
        },
        {
         "Id": 6,
         "PetalLengthCm": 1.7,
         "PetalWidthCm": 0.4,
         "SepalLengthCm": 5.4,
         "SepalWidthCm": 3.9,
         "Species": "Iris-setosa",
         "_deepnote_index_column": 5
        },
        {
         "Id": 7,
         "PetalLengthCm": 1.4,
         "PetalWidthCm": 0.3,
         "SepalLengthCm": 4.6,
         "SepalWidthCm": 3.4,
         "Species": "Iris-setosa",
         "_deepnote_index_column": 6
        },
        {
         "Id": 9,
         "PetalLengthCm": 1.4,
         "PetalWidthCm": 0.2,
         "SepalLengthCm": 4.4,
         "SepalWidthCm": 2.9,
         "Species": "Iris-setosa",
         "_deepnote_index_column": 8
        },
        {
         "Id": 10,
         "PetalLengthCm": 1.5,
         "PetalWidthCm": 0.1,
         "SepalLengthCm": 4.9,
         "SepalWidthCm": 3.1,
         "Species": "Iris-setosa",
         "_deepnote_index_column": 9
        },
        {
         "Id": 11,
         "PetalLengthCm": 1.5,
         "PetalWidthCm": 0.2,
         "SepalLengthCm": 5.4,
         "SepalWidthCm": 3.7,
         "Species": "Iris-setosa",
         "_deepnote_index_column": 10
        }
       ]
      },
      "text/html": [
       "<div>\n",
       "<style scoped>\n",
       "    .dataframe tbody tr th:only-of-type {\n",
       "        vertical-align: middle;\n",
       "    }\n",
       "\n",
       "    .dataframe tbody tr th {\n",
       "        vertical-align: top;\n",
       "    }\n",
       "\n",
       "    .dataframe thead th {\n",
       "        text-align: right;\n",
       "    }\n",
       "</style>\n",
       "<table border=\"1\" class=\"dataframe\">\n",
       "  <thead>\n",
       "    <tr style=\"text-align: right;\">\n",
       "      <th></th>\n",
       "      <th>Id</th>\n",
       "      <th>SepalLengthCm</th>\n",
       "      <th>SepalWidthCm</th>\n",
       "      <th>Species</th>\n",
       "      <th>PetalLengthCm</th>\n",
       "      <th>PetalWidthCm</th>\n",
       "    </tr>\n",
       "  </thead>\n",
       "  <tbody>\n",
       "    <tr>\n",
       "      <th>0</th>\n",
       "      <td>1</td>\n",
       "      <td>5.1</td>\n",
       "      <td>3.5</td>\n",
       "      <td>Iris-setosa</td>\n",
       "      <td>1.4</td>\n",
       "      <td>0.2</td>\n",
       "    </tr>\n",
       "    <tr>\n",
       "      <th>1</th>\n",
       "      <td>2</td>\n",
       "      <td>4.9</td>\n",
       "      <td>3.0</td>\n",
       "      <td>Iris-setosa</td>\n",
       "      <td>1.4</td>\n",
       "      <td>0.2</td>\n",
       "    </tr>\n",
       "    <tr>\n",
       "      <th>2</th>\n",
       "      <td>3</td>\n",
       "      <td>4.7</td>\n",
       "      <td>3.2</td>\n",
       "      <td>Iris-setosa</td>\n",
       "      <td>1.3</td>\n",
       "      <td>0.2</td>\n",
       "    </tr>\n",
       "    <tr>\n",
       "      <th>3</th>\n",
       "      <td>4</td>\n",
       "      <td>4.6</td>\n",
       "      <td>3.1</td>\n",
       "      <td>Iris-setosa</td>\n",
       "      <td>1.5</td>\n",
       "      <td>0.2</td>\n",
       "    </tr>\n",
       "    <tr>\n",
       "      <th>4</th>\n",
       "      <td>5</td>\n",
       "      <td>5.0</td>\n",
       "      <td>3.6</td>\n",
       "      <td>Iris-setosa</td>\n",
       "      <td>1.4</td>\n",
       "      <td>0.2</td>\n",
       "    </tr>\n",
       "    <tr>\n",
       "      <th>...</th>\n",
       "      <td>...</td>\n",
       "      <td>...</td>\n",
       "      <td>...</td>\n",
       "      <td>...</td>\n",
       "      <td>...</td>\n",
       "      <td>...</td>\n",
       "    </tr>\n",
       "    <tr>\n",
       "      <th>145</th>\n",
       "      <td>146</td>\n",
       "      <td>6.7</td>\n",
       "      <td>3.0</td>\n",
       "      <td>Iris-virginica</td>\n",
       "      <td>5.2</td>\n",
       "      <td>2.3</td>\n",
       "    </tr>\n",
       "    <tr>\n",
       "      <th>146</th>\n",
       "      <td>147</td>\n",
       "      <td>6.3</td>\n",
       "      <td>2.5</td>\n",
       "      <td>Iris-virginica</td>\n",
       "      <td>5.0</td>\n",
       "      <td>1.9</td>\n",
       "    </tr>\n",
       "    <tr>\n",
       "      <th>147</th>\n",
       "      <td>148</td>\n",
       "      <td>6.5</td>\n",
       "      <td>3.0</td>\n",
       "      <td>Iris-virginica</td>\n",
       "      <td>5.2</td>\n",
       "      <td>2.0</td>\n",
       "    </tr>\n",
       "    <tr>\n",
       "      <th>148</th>\n",
       "      <td>149</td>\n",
       "      <td>6.2</td>\n",
       "      <td>3.4</td>\n",
       "      <td>Iris-virginica</td>\n",
       "      <td>5.4</td>\n",
       "      <td>2.3</td>\n",
       "    </tr>\n",
       "    <tr>\n",
       "      <th>149</th>\n",
       "      <td>150</td>\n",
       "      <td>5.9</td>\n",
       "      <td>3.0</td>\n",
       "      <td>Iris-virginica</td>\n",
       "      <td>5.1</td>\n",
       "      <td>1.8</td>\n",
       "    </tr>\n",
       "  </tbody>\n",
       "</table>\n",
       "<p>148 rows × 6 columns</p>\n",
       "</div>"
      ],
      "text/plain": [
       "      Id  SepalLengthCm  SepalWidthCm         Species  PetalLengthCm  \\\n",
       "0      1            5.1           3.5     Iris-setosa            1.4   \n",
       "1      2            4.9           3.0     Iris-setosa            1.4   \n",
       "2      3            4.7           3.2     Iris-setosa            1.3   \n",
       "3      4            4.6           3.1     Iris-setosa            1.5   \n",
       "4      5            5.0           3.6     Iris-setosa            1.4   \n",
       "..   ...            ...           ...             ...            ...   \n",
       "145  146            6.7           3.0  Iris-virginica            5.2   \n",
       "146  147            6.3           2.5  Iris-virginica            5.0   \n",
       "147  148            6.5           3.0  Iris-virginica            5.2   \n",
       "148  149            6.2           3.4  Iris-virginica            5.4   \n",
       "149  150            5.9           3.0  Iris-virginica            5.1   \n",
       "\n",
       "     PetalWidthCm  \n",
       "0             0.2  \n",
       "1             0.2  \n",
       "2             0.2  \n",
       "3             0.2  \n",
       "4             0.2  \n",
       "..            ...  \n",
       "145           2.3  \n",
       "146           1.9  \n",
       "147           2.0  \n",
       "148           2.3  \n",
       "149           1.8  \n",
       "\n",
       "[148 rows x 6 columns]"
      ]
     },
     "execution_count": 32,
     "metadata": {},
     "output_type": "execute_result"
    }
   ],
   "outputs_reference": "s3:deepnote-cell-outputs-production/bbd13c02-9201-427b-a24f-01d072f3f246",
   "source": [
    "df_knn = df_iris.copy()\n",
    "df_knn.head(df_knn.shape[0])"
   ]
  },
  {
   "block_group": "45c95308673c4f20a6c2036f5a42757c",
   "cell_type": "markdown",
   "metadata": {
    "cell_id": "e45d7fef66484247a4140bcc0b7acf3f",
    "deepnote_cell_type": "text-cell-p",
    "formattedRanges": []
   },
   "source": [
    "Menampilkan informasi kolom yang mengandung missing values"
   ]
  },
  {
   "block_group": "863adf8e88014c5fa9606497d5b9ef87",
   "cell_type": "code",
   "execution_count": 33,
   "metadata": {
    "cell_id": "5a8f1781c2b743b3a1dd00b9371b4639",
    "deepnote_cell_type": "code",
    "deepnote_to_be_reexecuted": false,
    "execution_millis": 178,
    "execution_start": 1711581101580,
    "source_hash": "76398967"
   },
   "outputs": [
    {
     "data": {
      "text/plain": [
       "Id               0\n",
       "SepalLengthCm    3\n",
       "SepalWidthCm     0\n",
       "Species          0\n",
       "PetalLengthCm    0\n",
       "PetalWidthCm     0\n",
       "dtype: int64"
      ]
     },
     "execution_count": 33,
     "metadata": {},
     "output_type": "execute_result"
    }
   ],
   "outputs_reference": "dbtable:cell_outputs/9eccf7d0-3e52-49c7-9cfe-e061b1a28614",
   "source": [
    "df_knn.isnull().sum()"
   ]
  },
  {
   "block_group": "b6ac7448f7a94ba2a346d5ba63f3f7c2",
   "cell_type": "markdown",
   "metadata": {
    "cell_id": "bc4b8a272f644ef5b4ed980c2d8df8cc",
    "deepnote_cell_type": "text-cell-p",
    "formattedRanges": []
   },
   "source": [
    "Memilih kolom yang akan digunakan untuk mencari nilai KNN. Menggunakan library KNNImputer untuk mengisi missing values menggunakan nilai KNN desimal dengan 1 angka di belakang koma. Memisahkan data menjadi 2 bagian yaitu data latihan dan validasi."
   ]
  },
  {
   "block_group": "5c7ad7a00dd3433cb81ae1bcce7ca779",
   "cell_type": "code",
   "execution_count": 34,
   "metadata": {
    "cell_id": "9ad30aef847c4f49b5898fb9d7e3f982",
    "deepnote_cell_type": "code",
    "deepnote_to_be_reexecuted": false,
    "execution_millis": 60,
    "execution_start": 1711581144932,
    "source_hash": "90f1e022"
   },
   "outputs": [],
   "outputs_reference": null,
   "source": [
    "kolom = ['SepalLengthCm', 'SepalWidthCm', 'PetalLengthCm', 'PetalWidthCm']\n",
    "\n",
    "imputer = KNNImputer(n_neighbors=5)\n",
    "df_knn[kolom] = imputer.fit_transform(df_knn[kolom]).round(1)\n",
    "\n",
    "x_train, x_valid, y_train, y_valid = train_test_split(\n",
    "    df_knn[kolom], df_knn['SepalLengthCm'], test_size = 0.25, random_state = 42\n",
    ")"
   ]
  },
  {
   "block_group": "ef3d8c209aa04120accd0024b20b0e50",
   "cell_type": "markdown",
   "metadata": {
    "cell_id": "beb066614c414e1bb228dfc5f79c26af",
    "deepnote_cell_type": "text-cell-p",
    "formattedRanges": []
   },
   "source": [
    "Menginisialisasi model KNN dengan menentukan jumlah tetangga terdekat adalah 5 tetangga terdekat. Melatih model KNN dan memprediksi data validasi"
   ]
  },
  {
   "block_group": "ac76a154c9774bd39f49f00228eac842",
   "cell_type": "code",
   "execution_count": 35,
   "metadata": {
    "cell_id": "0db7f0dab2cf4f32b95ed23f13d41719",
    "deepnote_cell_type": "code",
    "deepnote_to_be_reexecuted": false,
    "execution_millis": 87,
    "execution_start": 1711581159258,
    "source_hash": "c894b561"
   },
   "outputs": [],
   "outputs_reference": null,
   "source": [
    "knn_model = KNeighborsRegressor(n_neighbors = 5)\n",
    "\n",
    "knn_model.fit(x_train, y_train)\n",
    "\n",
    "y_pred = knn_model.predict(x_valid)"
   ]
  },
  {
   "block_group": "638de04b3b8548efa06879006a92baec",
   "cell_type": "markdown",
   "metadata": {
    "cell_id": "ffdd050e2e164a6fa41afc9a5c1ea5a5",
    "deepnote_cell_type": "text-cell-p",
    "formattedRanges": []
   },
   "source": [
    "Menghitung mean squared error (MSE) atau metrik untuk mengevaluasi kinerja model prediksi, terutama dalam konteks regresi. MSE mengukur rata-rata dari kuadrat perbedaan antara nilai yang diprediksi oleh model dengan nilai yang sebenarnya dari data. Lalu, menampilkan nilai mse yang telah dicari"
   ]
  },
  {
   "block_group": "c054727bc2cd4fd5a475a9d2a7a9bbbe",
   "cell_type": "code",
   "execution_count": 36,
   "metadata": {
    "cell_id": "cbf456586bf8435b858d06eaa3782729",
    "deepnote_cell_type": "code",
    "deepnote_to_be_reexecuted": false,
    "execution_millis": 61,
    "execution_start": 1711581174644,
    "source_hash": "26d788a5"
   },
   "outputs": [
    {
     "name": "stdout",
     "output_type": "stream",
     "text": [
      "Mean Squared Error (MSE) dari model KNN: 0.026702702702702686\n"
     ]
    }
   ],
   "outputs_reference": "dbtable:cell_outputs/4a6e1232-613c-4486-8fd9-0f4f2a499830",
   "source": [
    "mse = mean_squared_error(y_valid, y_pred)\n",
    "print(\"Mean Squared Error (MSE) dari model KNN:\", mse)"
   ]
  },
  {
   "block_group": "70d127a598234c69b6e21e2a5363e7ac",
   "cell_type": "markdown",
   "metadata": {
    "cell_id": "0d05583738f349cf9980fb790b84c821",
    "deepnote_cell_type": "text-cell-p",
    "formattedRanges": []
   },
   "source": [
    "Menampilkan perbandingan nilai yang diimputasi dengan nilai yang sebenarnya dalam bentuk grafik"
   ]
  },
  {
   "block_group": "5986af13b7c343e8be655beb1bc0c83e",
   "cell_type": "code",
   "execution_count": 37,
   "metadata": {
    "cell_id": "bc0b722a42804f348e8c4a46ba57eb1d",
    "deepnote_cell_type": "code",
    "deepnote_to_be_reexecuted": false,
    "execution_millis": 505,
    "execution_start": 1711581192896,
    "source_hash": "88b13e95"
   },
   "outputs": [
    {
     "data": {
      "image/png": "[encoded data removed]",
      "text/plain": [
       "<Figure size 1500x600 with 1 Axes>"
      ]
     },
     "metadata": {
      "image/png": {
       "height": 590,
       "width": 772
      }
     },
     "output_type": "display_data"
    }
   ],
   "outputs_reference": "s3:deepnote-cell-outputs-production/1bcc90d5-1b33-492b-aba1-182aaf9aeabc",
   "source": [
    "plt.figure(figsize = (15, 6))\n",
    "plt.subplot(1, 2, 2)\n",
    "plt.scatter(df_knn.loc[df_1['SepalLengthCm'].notnull(), 'SepalLengthCm'],\n",
    "            df_knn.loc[df_1['SepalLengthCm'].notnull(), 'PetalWidthCm'],\n",
    "            c ='green', label = 'Data yang diketahui')\n",
    "plt.scatter(df_knn.loc[df_1['SepalLengthCm'].isnull(), 'SepalLengthCm'],\n",
    "            df_knn.loc[df_1['SepalLengthCm'].isnull(), 'PetalWidthCm'],\n",
    "            c = 'red', label = 'Data yang diimputasi')\n",
    "plt.xlabel('SepalLengthCm')\n",
    "plt.ylabel('PetalWidthCm')\n",
    "plt.title('Perbandingan Data yang diketahui dan yang diimputasi (SepalLength vs PetalWidth')\n",
    "plt.legend()\n",
    "\n",
    "plt.tight_layout()\n",
    "plt.show()"
   ]
  },
  {
   "block_group": "1d0f36861cba4287aff5ebe1d041a714",
   "cell_type": "markdown",
   "metadata": {
    "cell_id": "3b03009b319b4c76a1a6cdbc7866b832",
    "deepnote_cell_type": "text-cell-p",
    "formattedRanges": []
   },
   "source": [
    "Menampilkan informasi kolom yang mengandung missing values"
   ]
  },
  {
   "block_group": "ccb8ed9b0ec34ca38caf59c5e8e2b824",
   "cell_type": "code",
   "execution_count": 38,
   "metadata": {
    "cell_id": "7b8504d9bf8f4814a0990e030daef234",
    "deepnote_cell_type": "code",
    "deepnote_to_be_reexecuted": false,
    "execution_millis": 58,
    "execution_start": 1711581212820,
    "source_hash": "76398967"
   },
   "outputs": [
    {
     "data": {
      "text/plain": [
       "Id               0\n",
       "SepalLengthCm    0\n",
       "SepalWidthCm     0\n",
       "Species          0\n",
       "PetalLengthCm    0\n",
       "PetalWidthCm     0\n",
       "dtype: int64"
      ]
     },
     "execution_count": 38,
     "metadata": {},
     "output_type": "execute_result"
    }
   ],
   "outputs_reference": "dbtable:cell_outputs/4c288fd8-01d5-4489-9eb7-eaeae2e8a68f",
   "source": [
    "df_knn.isnull().sum()"
   ]
  },
  {
   "block_group": "474c61e0f605465691ebd868bd6df870",
   "cell_type": "markdown",
   "metadata": {
    "cell_id": "b372eed996f14493899294feab20c78f",
    "deepnote_cell_type": "text-cell-p",
    "formattedRanges": []
   },
   "source": [
    "Menampilkan kondisi data saat ini dari df_knn setelah dilakukan pengisian missing values"
   ]
  },
  {
   "block_group": "38318e5401f7404ea3edb329b5d4dcce",
   "cell_type": "code",
   "execution_count": 39,
   "metadata": {
    "cell_id": "20712890d5d344bab4378aa5719431a3",
    "deepnote_cell_type": "code",
    "deepnote_to_be_reexecuted": false,
    "execution_millis": 197,
    "execution_start": 1711581220956,
    "source_hash": "4e214896"
   },
   "outputs": [
    {
     "data": {
      "application/vnd.deepnote.dataframe.v3+json": {
       "column_count": 6,
       "columns": [
        {
         "dtype": "int64",
         "name": "Id",
         "stats": {
          "histogram": [
           {
            "bin_end": 15.9,
            "bin_start": 1,
            "count": 14
           },
           {
            "bin_end": 30.8,
            "bin_start": 15.9,
            "count": 15
           },
           {
            "bin_end": 45.7,
            "bin_start": 30.8,
            "count": 15
           },
           {
            "bin_end": 60.6,
            "bin_start": 45.7,
            "count": 14
           },
           {
            "bin_end": 75.5,
            "bin_start": 60.6,
            "count": 15
           },
           {
            "bin_end": 90.4,
            "bin_start": 75.5,
            "count": 15
           },
           {
            "bin_end": 105.3,
            "bin_start": 90.4,
            "count": 15
           },
           {
            "bin_end": 120.2,
            "bin_start": 105.3,
            "count": 15
           },
           {
            "bin_end": 135.1,
            "bin_start": 120.2,
            "count": 15
           },
           {
            "bin_end": 150,
            "bin_start": 135.1,
            "count": 15
           }
          ],
          "max": "150",
          "min": "1",
          "nan_count": 0,
          "unique_count": 148
         }
        },
        {
         "dtype": "float64",
         "name": "SepalLengthCm",
         "stats": {
          "histogram": [
           {
            "bin_end": 4.66,
            "bin_start": 4.3,
            "count": 9
           },
           {
            "bin_end": 5.02,
            "bin_start": 4.66,
            "count": 21
           },
           {
            "bin_end": 5.38,
            "bin_start": 5.02,
            "count": 14
           },
           {
            "bin_end": 5.74,
            "bin_start": 5.38,
            "count": 28
           },
           {
            "bin_end": 6.1,
            "bin_start": 5.74,
            "count": 15
           },
           {
            "bin_end": 6.46,
            "bin_start": 6.1,
            "count": 26
           },
           {
            "bin_end": 6.82,
            "bin_start": 6.46,
            "count": 19
           },
           {
            "bin_end": 7.18,
            "bin_start": 6.82,
            "count": 6
           },
           {
            "bin_end": 7.54,
            "bin_start": 7.18,
            "count": 5
           },
           {
            "bin_end": 7.9,
            "bin_start": 7.54,
            "count": 5
           }
          ],
          "max": "7.9",
          "min": "4.3",
          "nan_count": 0,
          "unique_count": 35
         }
        },
        {
         "dtype": "float64",
         "name": "SepalWidthCm",
         "stats": {
          "histogram": [
           {
            "bin_end": 2.24,
            "bin_start": 2,
            "count": 4
           },
           {
            "bin_end": 2.48,
            "bin_start": 2.24,
            "count": 7
           },
           {
            "bin_end": 2.72,
            "bin_start": 2.48,
            "count": 22
           },
           {
            "bin_end": 2.96,
            "bin_start": 2.72,
            "count": 24
           },
           {
            "bin_end": 3.2,
            "bin_start": 2.96,
            "count": 38
           },
           {
            "bin_end": 3.4400000000000004,
            "bin_start": 3.2,
            "count": 29
           },
           {
            "bin_end": 3.6800000000000006,
            "bin_start": 3.4400000000000004,
            "count": 9
           },
           {
            "bin_end": 3.9200000000000004,
            "bin_start": 3.6800000000000006,
            "count": 11
           },
           {
            "bin_end": 4.16,
            "bin_start": 3.9200000000000004,
            "count": 2
           },
           {
            "bin_end": 4.4,
            "bin_start": 4.16,
            "count": 2
           }
          ],
          "max": "4.4",
          "min": "2.0",
          "nan_count": 0,
          "unique_count": 23
         }
        },
        {
         "dtype": "object",
         "name": "Species",
         "stats": {
          "categories": [
           {
            "count": 50,
            "name": "Iris-versicolor"
           },
           {
            "count": 50,
            "name": "Iris-virginica"
           },
           {
            "count": 48,
            "name": "Iris-setosa"
           }
          ],
          "nan_count": 0,
          "unique_count": 3
         }
        },
        {
         "dtype": "float64",
         "name": "PetalLengthCm",
         "stats": {
          "histogram": [
           {
            "bin_end": 1.59,
            "bin_start": 1,
            "count": 35
           },
           {
            "bin_end": 2.18,
            "bin_start": 1.59,
            "count": 13
           },
           {
            "bin_end": 2.7700000000000005,
            "bin_start": 2.18,
            "count": 0
           },
           {
            "bin_end": 3.3600000000000003,
            "bin_start": 2.7700000000000005,
            "count": 3
           },
           {
            "bin_end": 3.95,
            "bin_start": 3.3600000000000003,
            "count": 8
           },
           {
            "bin_end": 4.540000000000001,
            "bin_start": 3.95,
            "count": 26
           },
           {
            "bin_end": 5.130000000000001,
            "bin_start": 4.540000000000001,
            "count": 29
           },
           {
            "bin_end": 5.720000000000001,
            "bin_start": 5.130000000000001,
            "count": 18
           },
           {
            "bin_end": 6.3100000000000005,
            "bin_start": 5.720000000000001,
            "count": 11
           },
           {
            "bin_end": 6.9,
            "bin_start": 6.3100000000000005,
            "count": 5
           }
          ],
          "max": "6.9",
          "min": "1.0",
          "nan_count": 0,
          "unique_count": 43
         }
        },
        {
         "dtype": "float64",
         "name": "PetalWidthCm",
         "stats": {
          "histogram": [
           {
            "bin_end": 0.33999999999999997,
            "bin_start": 0.1,
            "count": 39
           },
           {
            "bin_end": 0.58,
            "bin_start": 0.33999999999999997,
            "count": 8
           },
           {
            "bin_end": 0.82,
            "bin_start": 0.58,
            "count": 1
           },
           {
            "bin_end": 1.06,
            "bin_start": 0.82,
            "count": 7
           },
           {
            "bin_end": 1.3,
            "bin_start": 1.06,
            "count": 8
           },
           {
            "bin_end": 1.54,
            "bin_start": 1.3,
            "count": 33
           },
           {
            "bin_end": 1.78,
            "bin_start": 1.54,
            "count": 6
           },
           {
            "bin_end": 2.02,
            "bin_start": 1.78,
            "count": 23
           },
           {
            "bin_end": 2.2600000000000002,
            "bin_start": 2.02,
            "count": 9
           },
           {
            "bin_end": 2.5,
            "bin_start": 2.2600000000000002,
            "count": 14
           }
          ],
          "max": "2.5",
          "min": "0.1",
          "nan_count": 0,
          "unique_count": 22
         }
        },
        {
         "dtype": "int64",
         "name": "_deepnote_index_column"
        }
       ],
       "row_count": 148,
       "rows": [
        {
         "Id": 1,
         "PetalLengthCm": 1.4,
         "PetalWidthCm": 0.2,
         "SepalLengthCm": 5.1,
         "SepalWidthCm": 3.5,
         "Species": "Iris-setosa",
         "_deepnote_index_column": 0
        },
        {
         "Id": 2,
         "PetalLengthCm": 1.4,
         "PetalWidthCm": 0.2,
         "SepalLengthCm": 4.9,
         "SepalWidthCm": 3,
         "Species": "Iris-setosa",
         "_deepnote_index_column": 1
        },
        {
         "Id": 3,
         "PetalLengthCm": 1.3,
         "PetalWidthCm": 0.2,
         "SepalLengthCm": 4.7,
         "SepalWidthCm": 3.2,
         "Species": "Iris-setosa",
         "_deepnote_index_column": 2
        },
        {
         "Id": 4,
         "PetalLengthCm": 1.5,
         "PetalWidthCm": 0.2,
         "SepalLengthCm": 4.6,
         "SepalWidthCm": 3.1,
         "Species": "Iris-setosa",
         "_deepnote_index_column": 3
        },
        {
         "Id": 5,
         "PetalLengthCm": 1.4,
         "PetalWidthCm": 0.2,
         "SepalLengthCm": 5,
         "SepalWidthCm": 3.6,
         "Species": "Iris-setosa",
         "_deepnote_index_column": 4
        },
        {
         "Id": 6,
         "PetalLengthCm": 1.7,
         "PetalWidthCm": 0.4,
         "SepalLengthCm": 5.4,
         "SepalWidthCm": 3.9,
         "Species": "Iris-setosa",
         "_deepnote_index_column": 5
        },
        {
         "Id": 7,
         "PetalLengthCm": 1.4,
         "PetalWidthCm": 0.3,
         "SepalLengthCm": 4.6,
         "SepalWidthCm": 3.4,
         "Species": "Iris-setosa",
         "_deepnote_index_column": 6
        },
        {
         "Id": 9,
         "PetalLengthCm": 1.4,
         "PetalWidthCm": 0.2,
         "SepalLengthCm": 4.4,
         "SepalWidthCm": 2.9,
         "Species": "Iris-setosa",
         "_deepnote_index_column": 8
        },
        {
         "Id": 10,
         "PetalLengthCm": 1.5,
         "PetalWidthCm": 0.1,
         "SepalLengthCm": 4.9,
         "SepalWidthCm": 3.1,
         "Species": "Iris-setosa",
         "_deepnote_index_column": 9
        },
        {
         "Id": 11,
         "PetalLengthCm": 1.5,
         "PetalWidthCm": 0.2,
         "SepalLengthCm": 5.4,
         "SepalWidthCm": 3.7,
         "Species": "Iris-setosa",
         "_deepnote_index_column": 10
        }
       ]
      },
      "text/html": [
       "<div>\n",
       "<style scoped>\n",
       "    .dataframe tbody tr th:only-of-type {\n",
       "        vertical-align: middle;\n",
       "    }\n",
       "\n",
       "    .dataframe tbody tr th {\n",
       "        vertical-align: top;\n",
       "    }\n",
       "\n",
       "    .dataframe thead th {\n",
       "        text-align: right;\n",
       "    }\n",
       "</style>\n",
       "<table border=\"1\" class=\"dataframe\">\n",
       "  <thead>\n",
       "    <tr style=\"text-align: right;\">\n",
       "      <th></th>\n",
       "      <th>Id</th>\n",
       "      <th>SepalLengthCm</th>\n",
       "      <th>SepalWidthCm</th>\n",
       "      <th>Species</th>\n",
       "      <th>PetalLengthCm</th>\n",
       "      <th>PetalWidthCm</th>\n",
       "    </tr>\n",
       "  </thead>\n",
       "  <tbody>\n",
       "    <tr>\n",
       "      <th>0</th>\n",
       "      <td>1</td>\n",
       "      <td>5.1</td>\n",
       "      <td>3.5</td>\n",
       "      <td>Iris-setosa</td>\n",
       "      <td>1.4</td>\n",
       "      <td>0.2</td>\n",
       "    </tr>\n",
       "    <tr>\n",
       "      <th>1</th>\n",
       "      <td>2</td>\n",
       "      <td>4.9</td>\n",
       "      <td>3.0</td>\n",
       "      <td>Iris-setosa</td>\n",
       "      <td>1.4</td>\n",
       "      <td>0.2</td>\n",
       "    </tr>\n",
       "    <tr>\n",
       "      <th>2</th>\n",
       "      <td>3</td>\n",
       "      <td>4.7</td>\n",
       "      <td>3.2</td>\n",
       "      <td>Iris-setosa</td>\n",
       "      <td>1.3</td>\n",
       "      <td>0.2</td>\n",
       "    </tr>\n",
       "    <tr>\n",
       "      <th>3</th>\n",
       "      <td>4</td>\n",
       "      <td>4.6</td>\n",
       "      <td>3.1</td>\n",
       "      <td>Iris-setosa</td>\n",
       "      <td>1.5</td>\n",
       "      <td>0.2</td>\n",
       "    </tr>\n",
       "    <tr>\n",
       "      <th>4</th>\n",
       "      <td>5</td>\n",
       "      <td>5.0</td>\n",
       "      <td>3.6</td>\n",
       "      <td>Iris-setosa</td>\n",
       "      <td>1.4</td>\n",
       "      <td>0.2</td>\n",
       "    </tr>\n",
       "    <tr>\n",
       "      <th>...</th>\n",
       "      <td>...</td>\n",
       "      <td>...</td>\n",
       "      <td>...</td>\n",
       "      <td>...</td>\n",
       "      <td>...</td>\n",
       "      <td>...</td>\n",
       "    </tr>\n",
       "    <tr>\n",
       "      <th>145</th>\n",
       "      <td>146</td>\n",
       "      <td>6.7</td>\n",
       "      <td>3.0</td>\n",
       "      <td>Iris-virginica</td>\n",
       "      <td>5.2</td>\n",
       "      <td>2.3</td>\n",
       "    </tr>\n",
       "    <tr>\n",
       "      <th>146</th>\n",
       "      <td>147</td>\n",
       "      <td>6.3</td>\n",
       "      <td>2.5</td>\n",
       "      <td>Iris-virginica</td>\n",
       "      <td>5.0</td>\n",
       "      <td>1.9</td>\n",
       "    </tr>\n",
       "    <tr>\n",
       "      <th>147</th>\n",
       "      <td>148</td>\n",
       "      <td>6.5</td>\n",
       "      <td>3.0</td>\n",
       "      <td>Iris-virginica</td>\n",
       "      <td>5.2</td>\n",
       "      <td>2.0</td>\n",
       "    </tr>\n",
       "    <tr>\n",
       "      <th>148</th>\n",
       "      <td>149</td>\n",
       "      <td>6.2</td>\n",
       "      <td>3.4</td>\n",
       "      <td>Iris-virginica</td>\n",
       "      <td>5.4</td>\n",
       "      <td>2.3</td>\n",
       "    </tr>\n",
       "    <tr>\n",
       "      <th>149</th>\n",
       "      <td>150</td>\n",
       "      <td>5.9</td>\n",
       "      <td>3.0</td>\n",
       "      <td>Iris-virginica</td>\n",
       "      <td>5.1</td>\n",
       "      <td>1.8</td>\n",
       "    </tr>\n",
       "  </tbody>\n",
       "</table>\n",
       "<p>148 rows × 6 columns</p>\n",
       "</div>"
      ],
      "text/plain": [
       "      Id  SepalLengthCm  SepalWidthCm         Species  PetalLengthCm  \\\n",
       "0      1            5.1           3.5     Iris-setosa            1.4   \n",
       "1      2            4.9           3.0     Iris-setosa            1.4   \n",
       "2      3            4.7           3.2     Iris-setosa            1.3   \n",
       "3      4            4.6           3.1     Iris-setosa            1.5   \n",
       "4      5            5.0           3.6     Iris-setosa            1.4   \n",
       "..   ...            ...           ...             ...            ...   \n",
       "145  146            6.7           3.0  Iris-virginica            5.2   \n",
       "146  147            6.3           2.5  Iris-virginica            5.0   \n",
       "147  148            6.5           3.0  Iris-virginica            5.2   \n",
       "148  149            6.2           3.4  Iris-virginica            5.4   \n",
       "149  150            5.9           3.0  Iris-virginica            5.1   \n",
       "\n",
       "     PetalWidthCm  \n",
       "0             0.2  \n",
       "1             0.2  \n",
       "2             0.2  \n",
       "3             0.2  \n",
       "4             0.2  \n",
       "..            ...  \n",
       "145           2.3  \n",
       "146           1.9  \n",
       "147           2.0  \n",
       "148           2.3  \n",
       "149           1.8  \n",
       "\n",
       "[148 rows x 6 columns]"
      ]
     },
     "execution_count": 39,
     "metadata": {},
     "output_type": "execute_result"
    }
   ],
   "outputs_reference": "s3:deepnote-cell-outputs-production/6c08d129-8ac4-43e0-a855-acbfb167e528",
   "source": [
    "df_knn.head(df_knn.shape[0])"
   ]
  },
  {
   "block_group": "4b391c26a09c4ff2b1c76d3d0c6265cb",
   "cell_type": "markdown",
   "metadata": {
    "cell_id": "5d062af5f4294ea2b9b6dfb4500b353d",
    "deepnote_cell_type": "text-cell-p",
    "formattedRanges": []
   },
   "source": [
    "Menyiapkan informasi untuk melakukan koneksi ke database dan melakukan koneksi ke database MySQL dengan informasi yang sudah di sediakan"
   ]
  },
  {
   "block_group": "2fdacd38562d477aa04c7b88e9c836fd",
   "cell_type": "code",
   "execution_count": 40,
   "metadata": {
    "cell_id": "9a3302bf11e5410183167964848ad5ec",
    "deepnote_cell_type": "code",
    "deepnote_to_be_reexecuted": false,
    "execution_millis": 1655,
    "execution_start": 1711581236716,
    "source_hash": "66c416e8"
   },
   "outputs": [],
   "outputs_reference": null,
   "source": [
    "db_user = 'avnadmin'\n",
    "db_password = 'AVNS_-BT-PwGcDR5U4FAWLyo'\n",
    "db_host = 'mysql-datamining-rizka22136.a.aivencloud.com'\n",
    "db_port = '27850'\n",
    "db_database = 'mysql-datamining'\n",
    "\n",
    "conn = mysql.connector.connect(user=db_user, password=db_password, host=db_host, port=db_port, database=db_database)\n",
    "cursor = conn.cursor()"
   ]
  },
  {
   "block_group": "7ba59d1933e644439d1a50f48d5360c3",
   "cell_type": "markdown",
   "metadata": {
    "cell_id": "95ed70e993b1488380640bb93f93a22e",
    "deepnote_cell_type": "text-cell-p",
    "formattedRanges": []
   },
   "source": [
    "Membuat tabel baru bernama knn_iris yang berisi Id, SepalLengthCm, SepalWidthCm, dan Species"
   ]
  },
  {
   "block_group": "c91334970dd4464aaf4aa76303557a40",
   "cell_type": "code",
   "execution_count": 41,
   "metadata": {
    "cell_id": "26ab0ea0d0494fda931308bc85bb9cda",
    "deepnote_cell_type": "code",
    "deepnote_to_be_reexecuted": false,
    "execution_millis": 228,
    "execution_start": 1711581254873,
    "source_hash": "f016962a"
   },
   "outputs": [],
   "outputs_reference": null,
   "source": [
    "create_table_query = \"\"\"\n",
    "CREATE TABLE knn_iris (\n",
    "    Id INT AUTO_INCREMENT PRIMARY KEY,\n",
    "    SepalLengthCm DOUBLE,\n",
    "    SepalWidthCm DOUBLE,\n",
    "    Species TEXT\n",
    ")\n",
    "\"\"\"\n",
    "\n",
    "cursor.execute(create_table_query)"
   ]
  },
  {
   "block_group": "8de15909744a444fbc93d04e27256feb",
   "cell_type": "markdown",
   "metadata": {
    "cell_id": "13888364a0c1458bb4fa78c309e043a1",
    "deepnote_cell_type": "text-cell-p",
    "formattedRanges": []
   },
   "source": [
    "Menyimpan data pada df_knn ke dalam tabel knn_iris yang berada di database MySQL. Menyimpan perubahan yang dilakukan dan menutup koneksi ke database. Menampilkan pesan berhasil sebagai tanda bahwa data sudah berhasil disimpan ke dalam tabel knn_iris yang terdapat di dalam database MySQL."
   ]
  },
  {
   "block_group": "44a3bdd2731f457394647d360ec48b37",
   "cell_type": "code",
   "execution_count": 42,
   "metadata": {
    "cell_id": "5d71d3bb89c7451887d2a83a0a38bbb4",
    "deepnote_cell_type": "code",
    "deepnote_to_be_reexecuted": false,
    "execution_millis": 31356,
    "execution_start": 1711581267880,
    "source_hash": "a4e7a2c7"
   },
   "outputs": [
    {
     "name": "stdout",
     "output_type": "stream",
     "text": [
      "df_knn tersimpan ke tabel knn_iris pada database MySQL.\n"
     ]
    }
   ],
   "outputs_reference": "dbtable:cell_outputs/09fc3072-862b-42fa-b241-a2d2137afc1f",
   "source": [
    "for index, row in df_knn.iterrows():\n",
    "    insert_query = \"\"\"\n",
    "    INSERT INTO knn_iris (SepalLengthCm, SepalWidthCm, Species)\n",
    "    VALUES (%s, %s, %s)\n",
    "    \"\"\"\n",
    "    cursor.execute(insert_query, (row['SepalLengthCm'], row['SepalWidthCm'], row['Species']))\n",
    "\n",
    "conn.commit()\n",
    "conn.close()\n",
    "\n",
    "print(\"df_knn tersimpan ke tabel knn_iris pada database MySQL.\")"
   ]
  },
  {
   "block_group": "eb353078584b40d89e84cb497433212f",
   "cell_type": "markdown",
   "metadata": {
    "cell_id": "47870494d39e4c6e88ed0fcda1939aa0",
    "deepnote_cell_type": "text-cell-p",
    "formattedRanges": []
   },
   "source": [
    "Menampilkan data keseluruhan pada tabel knn_iris yang ada di dalam database MySQL setelah disimpan nya data pada dataframe d_knn ke tabel knn_iris di MySQL."
   ]
  },
  {
   "block_group": "d1d2185df946469989453f16f320d3a9",
   "cell_type": "code",
   "execution_count": 43,
   "metadata": {
    "cell_id": "3a0101c2beb747f5a2d127fc02df29f5",
    "deepnote_cell_type": "sql",
    "deepnote_sql_source": "SELECT * FROM knn_iris;",
    "deepnote_to_be_reexecuted": false,
    "deepnote_variable_name": "df_4",
    "execution_millis": 3243,
    "execution_start": 1711581309926,
    "source_hash": "709e4ed1",
    "sql_integration_id": "e0cde1ba-8707-4487-b543-e6f453ce52e0"
   },
   "outputs": [
    {
     "data": {
      "application/vnd.deepnote.sql-output-metadata+json": {
       "size_in_bytes": 14094,
       "status": "success_no_cache"
      }
     },
     "metadata": {},
     "output_type": "display_data"
    },
    {
     "data": {
      "application/vnd.deepnote.dataframe.v3+json": {
       "column_count": 4,
       "columns": [
        {
         "dtype": "int64",
         "name": "Id",
         "stats": {
          "histogram": [
           {
            "bin_end": 15.7,
            "bin_start": 1,
            "count": 15
           },
           {
            "bin_end": 30.4,
            "bin_start": 15.7,
            "count": 15
           },
           {
            "bin_end": 45.099999999999994,
            "bin_start": 30.4,
            "count": 15
           },
           {
            "bin_end": 59.8,
            "bin_start": 45.099999999999994,
            "count": 14
           },
           {
            "bin_end": 74.5,
            "bin_start": 59.8,
            "count": 15
           },
           {
            "bin_end": 89.19999999999999,
            "bin_start": 74.5,
            "count": 15
           },
           {
            "bin_end": 103.89999999999999,
            "bin_start": 89.19999999999999,
            "count": 14
           },
           {
            "bin_end": 118.6,
            "bin_start": 103.89999999999999,
            "count": 15
           },
           {
            "bin_end": 133.29999999999998,
            "bin_start": 118.6,
            "count": 15
           },
           {
            "bin_end": 148,
            "bin_start": 133.29999999999998,
            "count": 15
           }
          ],
          "max": "148",
          "min": "1",
          "nan_count": 0,
          "unique_count": 148
         }
        },
        {
         "dtype": "float64",
         "name": "SepalLengthCm",
         "stats": {
          "histogram": [
           {
            "bin_end": 4.66,
            "bin_start": 4.3,
            "count": 9
           },
           {
            "bin_end": 5.02,
            "bin_start": 4.66,
            "count": 21
           },
           {
            "bin_end": 5.38,
            "bin_start": 5.02,
            "count": 14
           },
           {
            "bin_end": 5.74,
            "bin_start": 5.38,
            "count": 28
           },
           {
            "bin_end": 6.1,
            "bin_start": 5.74,
            "count": 15
           },
           {
            "bin_end": 6.46,
            "bin_start": 6.1,
            "count": 26
           },
           {
            "bin_end": 6.82,
            "bin_start": 6.46,
            "count": 19
           },
           {
            "bin_end": 7.18,
            "bin_start": 6.82,
            "count": 6
           },
           {
            "bin_end": 7.54,
            "bin_start": 7.18,
            "count": 5
           },
           {
            "bin_end": 7.9,
            "bin_start": 7.54,
            "count": 5
           }
          ],
          "max": "7.9",
          "min": "4.3",
          "nan_count": 0,
          "unique_count": 35
         }
        },
        {
         "dtype": "float64",
         "name": "SepalWidthCm",
         "stats": {
          "histogram": [
           {
            "bin_end": 2.24,
            "bin_start": 2,
            "count": 4
           },
           {
            "bin_end": 2.48,
            "bin_start": 2.24,
            "count": 7
           },
           {
            "bin_end": 2.72,
            "bin_start": 2.48,
            "count": 22
           },
           {
            "bin_end": 2.96,
            "bin_start": 2.72,
            "count": 24
           },
           {
            "bin_end": 3.2,
            "bin_start": 2.96,
            "count": 38
           },
           {
            "bin_end": 3.4400000000000004,
            "bin_start": 3.2,
            "count": 29
           },
           {
            "bin_end": 3.6800000000000006,
            "bin_start": 3.4400000000000004,
            "count": 9
           },
           {
            "bin_end": 3.9200000000000004,
            "bin_start": 3.6800000000000006,
            "count": 11
           },
           {
            "bin_end": 4.16,
            "bin_start": 3.9200000000000004,
            "count": 2
           },
           {
            "bin_end": 4.4,
            "bin_start": 4.16,
            "count": 2
           }
          ],
          "max": "4.4",
          "min": "2.0",
          "nan_count": 0,
          "unique_count": 23
         }
        },
        {
         "dtype": "object",
         "name": "Species",
         "stats": {
          "categories": [
           {
            "count": 50,
            "name": "Iris-versicolor"
           },
           {
            "count": 50,
            "name": "Iris-virginica"
           },
           {
            "count": 48,
            "name": "Iris-setosa"
           }
          ],
          "nan_count": 0,
          "unique_count": 3
         }
        },
        {
         "dtype": "int64",
         "name": "_deepnote_index_column"
        }
       ],
       "row_count": 148,
       "rows": [
        {
         "Id": 1,
         "SepalLengthCm": 5.1,
         "SepalWidthCm": 3.5,
         "Species": "Iris-setosa",
         "_deepnote_index_column": 0
        },
        {
         "Id": 2,
         "SepalLengthCm": 4.9,
         "SepalWidthCm": 3,
         "Species": "Iris-setosa",
         "_deepnote_index_column": 1
        },
        {
         "Id": 3,
         "SepalLengthCm": 4.7,
         "SepalWidthCm": 3.2,
         "Species": "Iris-setosa",
         "_deepnote_index_column": 2
        },
        {
         "Id": 4,
         "SepalLengthCm": 4.6,
         "SepalWidthCm": 3.1,
         "Species": "Iris-setosa",
         "_deepnote_index_column": 3
        },
        {
         "Id": 5,
         "SepalLengthCm": 5,
         "SepalWidthCm": 3.6,
         "Species": "Iris-setosa",
         "_deepnote_index_column": 4
        },
        {
         "Id": 6,
         "SepalLengthCm": 5.4,
         "SepalWidthCm": 3.9,
         "Species": "Iris-setosa",
         "_deepnote_index_column": 5
        },
        {
         "Id": 7,
         "SepalLengthCm": 4.6,
         "SepalWidthCm": 3.4,
         "Species": "Iris-setosa",
         "_deepnote_index_column": 6
        },
        {
         "Id": 8,
         "SepalLengthCm": 4.4,
         "SepalWidthCm": 2.9,
         "Species": "Iris-setosa",
         "_deepnote_index_column": 7
        },
        {
         "Id": 9,
         "SepalLengthCm": 4.9,
         "SepalWidthCm": 3.1,
         "Species": "Iris-setosa",
         "_deepnote_index_column": 8
        },
        {
         "Id": 10,
         "SepalLengthCm": 5.4,
         "SepalWidthCm": 3.7,
         "Species": "Iris-setosa",
         "_deepnote_index_column": 9
        }
       ]
      },
      "text/html": [
       "<div>\n",
       "<style scoped>\n",
       "    .dataframe tbody tr th:only-of-type {\n",
       "        vertical-align: middle;\n",
       "    }\n",
       "\n",
       "    .dataframe tbody tr th {\n",
       "        vertical-align: top;\n",
       "    }\n",
       "\n",
       "    .dataframe thead th {\n",
       "        text-align: right;\n",
       "    }\n",
       "</style>\n",
       "<table border=\"1\" class=\"dataframe\">\n",
       "  <thead>\n",
       "    <tr style=\"text-align: right;\">\n",
       "      <th></th>\n",
       "      <th>Id</th>\n",
       "      <th>SepalLengthCm</th>\n",
       "      <th>SepalWidthCm</th>\n",
       "      <th>Species</th>\n",
       "    </tr>\n",
       "  </thead>\n",
       "  <tbody>\n",
       "    <tr>\n",
       "      <th>0</th>\n",
       "      <td>1</td>\n",
       "      <td>5.1</td>\n",
       "      <td>3.5</td>\n",
       "      <td>Iris-setosa</td>\n",
       "    </tr>\n",
       "    <tr>\n",
       "      <th>1</th>\n",
       "      <td>2</td>\n",
       "      <td>4.9</td>\n",
       "      <td>3.0</td>\n",
       "      <td>Iris-setosa</td>\n",
       "    </tr>\n",
       "    <tr>\n",
       "      <th>2</th>\n",
       "      <td>3</td>\n",
       "      <td>4.7</td>\n",
       "      <td>3.2</td>\n",
       "      <td>Iris-setosa</td>\n",
       "    </tr>\n",
       "    <tr>\n",
       "      <th>3</th>\n",
       "      <td>4</td>\n",
       "      <td>4.6</td>\n",
       "      <td>3.1</td>\n",
       "      <td>Iris-setosa</td>\n",
       "    </tr>\n",
       "    <tr>\n",
       "      <th>4</th>\n",
       "      <td>5</td>\n",
       "      <td>5.0</td>\n",
       "      <td>3.6</td>\n",
       "      <td>Iris-setosa</td>\n",
       "    </tr>\n",
       "    <tr>\n",
       "      <th>...</th>\n",
       "      <td>...</td>\n",
       "      <td>...</td>\n",
       "      <td>...</td>\n",
       "      <td>...</td>\n",
       "    </tr>\n",
       "    <tr>\n",
       "      <th>143</th>\n",
       "      <td>144</td>\n",
       "      <td>6.7</td>\n",
       "      <td>3.0</td>\n",
       "      <td>Iris-virginica</td>\n",
       "    </tr>\n",
       "    <tr>\n",
       "      <th>144</th>\n",
       "      <td>145</td>\n",
       "      <td>6.3</td>\n",
       "      <td>2.5</td>\n",
       "      <td>Iris-virginica</td>\n",
       "    </tr>\n",
       "    <tr>\n",
       "      <th>145</th>\n",
       "      <td>146</td>\n",
       "      <td>6.5</td>\n",
       "      <td>3.0</td>\n",
       "      <td>Iris-virginica</td>\n",
       "    </tr>\n",
       "    <tr>\n",
       "      <th>146</th>\n",
       "      <td>147</td>\n",
       "      <td>6.2</td>\n",
       "      <td>3.4</td>\n",
       "      <td>Iris-virginica</td>\n",
       "    </tr>\n",
       "    <tr>\n",
       "      <th>147</th>\n",
       "      <td>148</td>\n",
       "      <td>5.9</td>\n",
       "      <td>3.0</td>\n",
       "      <td>Iris-virginica</td>\n",
       "    </tr>\n",
       "  </tbody>\n",
       "</table>\n",
       "<p>148 rows × 4 columns</p>\n",
       "</div>"
      ],
      "text/plain": [
       "      Id  SepalLengthCm  SepalWidthCm         Species\n",
       "0      1            5.1           3.5     Iris-setosa\n",
       "1      2            4.9           3.0     Iris-setosa\n",
       "2      3            4.7           3.2     Iris-setosa\n",
       "3      4            4.6           3.1     Iris-setosa\n",
       "4      5            5.0           3.6     Iris-setosa\n",
       "..   ...            ...           ...             ...\n",
       "143  144            6.7           3.0  Iris-virginica\n",
       "144  145            6.3           2.5  Iris-virginica\n",
       "145  146            6.5           3.0  Iris-virginica\n",
       "146  147            6.2           3.4  Iris-virginica\n",
       "147  148            5.9           3.0  Iris-virginica\n",
       "\n",
       "[148 rows x 4 columns]"
      ]
     },
     "execution_count": 43,
     "metadata": {},
     "output_type": "execute_result"
    }
   ],
   "outputs_reference": "s3:deepnote-cell-outputs-production/ed8e1e24-5e45-41a4-bb15-5ee39ba282c8",
   "source": [
    "df_4 = _deepnote_execute_sql('SELECT * FROM knn_iris;', 'SQL_E0CDE1BA_8707_4487_B543_E6F453CE52E0', audit_sql_comment='', sql_cache_mode='cache_disabled')\n",
    "df_4"
   ]
  },
  {
   "block_group": "58a3e905f33b4ab79ca964a29b47a8c3",
   "cell_type": "markdown",
   "metadata": {
    "cell_id": "2ab1e1b44a1f4032875f28d0f872278a",
    "deepnote_cell_type": "text-cell-p",
    "formattedRanges": []
   },
   "source": [
    "Melakukan import library yang dibutuhkan untuk proses input data ke database PostgreSQL"
   ]
  },
  {
   "block_group": "3020959615204d37b0a5e1472e6e4af0",
   "cell_type": "code",
   "execution_count": 44,
   "metadata": {
    "cell_id": "30b1da8b4d7448d696a900a5d8d68c8c",
    "deepnote_cell_type": "code",
    "deepnote_to_be_reexecuted": false,
    "execution_millis": 45,
    "execution_start": 1711581330220,
    "source_hash": "9f91ef74"
   },
   "outputs": [],
   "outputs_reference": null,
   "source": [
    "import pandas as pd\n",
    "import psycopg2"
   ]
  },
  {
   "block_group": "a8a38399d6254cf59c88875b1cb3028c",
   "cell_type": "markdown",
   "metadata": {
    "cell_id": "c48e8a216d294b1b95654c2b8c9ab49d",
    "deepnote_cell_type": "text-cell-p",
    "formattedRanges": []
   },
   "source": [
    "Menyiapkan informasi untuk melakukan koneksi ke database dan melakukan koneksi ke database PostgreSQL dengan informasi yang sudah di sediakan"
   ]
  },
  {
   "block_group": "a931ade561e44b13bf4495826dc42320",
   "cell_type": "code",
   "execution_count": 45,
   "metadata": {
    "cell_id": "9cbe80e04f484f8fa110f3f05d7ecf3a",
    "deepnote_cell_type": "code",
    "deepnote_to_be_reexecuted": false,
    "execution_millis": 1267,
    "execution_start": 1711581337718,
    "source_hash": "e3387bee"
   },
   "outputs": [],
   "outputs_reference": null,
   "source": [
    "db_user = 'avnadmin'\n",
    "db_password = 'AVNS_8cpYQzVhLkb8plt9O2v'\n",
    "db_host = 'pg-datamining-rizka22136.a.aivencloud.com'\n",
    "db_port = '27850'\n",
    "db_name = 'defaultdb'\n",
    "\n",
    "conn = psycopg2.connect(dbname=db_name, user=db_user, password=db_password, host=db_host, port=db_port)\n",
    "cursor = conn.cursor()"
   ]
  },
  {
   "block_group": "3ca454e442134236b9f1a2755d745296",
   "cell_type": "markdown",
   "metadata": {
    "cell_id": "a16e07273d414bed86bc2e8be2e221e9",
    "deepnote_cell_type": "text-cell-p",
    "formattedRanges": []
   },
   "source": [
    "Membuat tabel baru bernama knn_iris yang berisi Id, PetalLengthCm, dan PetalWidthCm"
   ]
  },
  {
   "block_group": "aadd732f31b14b1997536281f7a93fb4",
   "cell_type": "code",
   "execution_count": 46,
   "metadata": {
    "cell_id": "b634be7b1ed14ff491a762f866b63f7f",
    "deepnote_cell_type": "code",
    "deepnote_to_be_reexecuted": false,
    "execution_millis": 374,
    "execution_start": 1711581357688,
    "source_hash": "dee0328"
   },
   "outputs": [],
   "outputs_reference": null,
   "source": [
    "create_table_query = \"\"\"\n",
    "CREATE TABLE \"knn_iris\" (\n",
    "    Id INT PRIMARY KEY,\n",
    "    PetalLengthCm DOUBLE PRECISION,\n",
    "    PetalWidthCm DOUBLE PRECISION\n",
    ")\n",
    "\"\"\"\n",
    "cursor.execute(create_table_query)"
   ]
  },
  {
   "block_group": "1886918a95a848798aa0422a441d33ef",
   "cell_type": "markdown",
   "metadata": {
    "cell_id": "8c514040f4c14fc7ba9de538bdfeaf4c",
    "deepnote_cell_type": "text-cell-p",
    "formattedRanges": []
   },
   "source": [
    "Menyimpan data pada df_knn ke dalam tabel knn_iris yang berada di database PostgreSQL. Menyimpan perubahan yang dilakukan dan menutup koneksi ke database. Menampilkan pesan berhasil sebagai tanda bahwa data sudah berhasil disimpan ke dalam tabel knn_iris yang terdapat di dalam database PostgreSQL."
   ]
  },
  {
   "block_group": "1b032f1cf2e143f6b56a1b885873c97f",
   "cell_type": "code",
   "execution_count": 47,
   "metadata": {
    "cell_id": "5ea02515242a4c42b7afb90f0aebbd54",
    "deepnote_cell_type": "code",
    "deepnote_to_be_reexecuted": false,
    "execution_millis": 30624,
    "execution_start": 1711581409588,
    "source_hash": "5d62551c"
   },
   "outputs": [
    {
     "name": "stdout",
     "output_type": "stream",
     "text": [
      "df_knn tersimpan ke tabel knn_iris pada database PostgreSQL.\n"
     ]
    }
   ],
   "outputs_reference": "dbtable:cell_outputs/43c465c5-a875-4a99-9dc3-bcf1a0533336",
   "source": [
    "for index, row in df_knn.iterrows():\n",
    "    insert_query = \"\"\"\n",
    "    INSERT INTO \"knn_iris\" (Id, PetalLengthCm, PetalWidthCm)\n",
    "    VALUES (%s, %s, %s)\n",
    "    \"\"\"\n",
    "    cursor.execute(insert_query, (row['Id'], row['PetalLengthCm'], row['PetalWidthCm']))\n",
    "\n",
    "conn.commit()\n",
    "conn.close()\n",
    "\n",
    "print(\"df_knn tersimpan ke tabel knn_iris pada database PostgreSQL.\")"
   ]
  },
  {
   "block_group": "d893b9c391f742baaf884a1844008662",
   "cell_type": "markdown",
   "metadata": {
    "cell_id": "f3764e6d14244304971fb49dffb3c8e1",
    "deepnote_cell_type": "text-cell-p",
    "formattedRanges": []
   },
   "source": [
    "Menampilkan data keseluruhan pada tabel knn_iris yang ada di dalam database PostgreSQL setelah disimpan nya data pada dataframe df_knn ke tabel knn_iris di PostgreSQL."
   ]
  },
  {
   "block_group": "7257f96ef1ff401a94b1b4f70b54a86d",
   "cell_type": "code",
   "execution_count": 48,
   "metadata": {
    "cell_id": "2c6141a2c54f4d679590f4fd54b8989c",
    "deepnote_cell_type": "sql",
    "deepnote_sql_source": "SELECT * FROM knn_iris;",
    "deepnote_to_be_reexecuted": false,
    "deepnote_variable_name": "df_8",
    "execution_millis": 3795,
    "execution_start": 1711581454556,
    "source_hash": "4aeb37bd",
    "sql_integration_id": "db120e07-2091-462d-9417-e0974c1a18a0"
   },
   "outputs": [
    {
     "data": {
      "application/vnd.deepnote.sql-output-metadata+json": {
       "size_in_bytes": 3680,
       "status": "success_no_cache"
      }
     },
     "metadata": {},
     "output_type": "display_data"
    },
    {
     "data": {
      "application/vnd.deepnote.dataframe.v3+json": {
       "column_count": 3,
       "columns": [
        {
         "dtype": "int64",
         "name": "id",
         "stats": {
          "histogram": [
           {
            "bin_end": 15.9,
            "bin_start": 1,
            "count": 14
           },
           {
            "bin_end": 30.8,
            "bin_start": 15.9,
            "count": 15
           },
           {
            "bin_end": 45.7,
            "bin_start": 30.8,
            "count": 15
           },
           {
            "bin_end": 60.6,
            "bin_start": 45.7,
            "count": 14
           },
           {
            "bin_end": 75.5,
            "bin_start": 60.6,
            "count": 15
           },
           {
            "bin_end": 90.4,
            "bin_start": 75.5,
            "count": 15
           },
           {
            "bin_end": 105.3,
            "bin_start": 90.4,
            "count": 15
           },
           {
            "bin_end": 120.2,
            "bin_start": 105.3,
            "count": 15
           },
           {
            "bin_end": 135.1,
            "bin_start": 120.2,
            "count": 15
           },
           {
            "bin_end": 150,
            "bin_start": 135.1,
            "count": 15
           }
          ],
          "max": "150",
          "min": "1",
          "nan_count": 0,
          "unique_count": 148
         }
        },
        {
         "dtype": "float64",
         "name": "petallengthcm",
         "stats": {
          "histogram": [
           {
            "bin_end": 1.59,
            "bin_start": 1,
            "count": 35
           },
           {
            "bin_end": 2.18,
            "bin_start": 1.59,
            "count": 13
           },
           {
            "bin_end": 2.7700000000000005,
            "bin_start": 2.18,
            "count": 0
           },
           {
            "bin_end": 3.3600000000000003,
            "bin_start": 2.7700000000000005,
            "count": 3
           },
           {
            "bin_end": 3.95,
            "bin_start": 3.3600000000000003,
            "count": 8
           },
           {
            "bin_end": 4.540000000000001,
            "bin_start": 3.95,
            "count": 26
           },
           {
            "bin_end": 5.130000000000001,
            "bin_start": 4.540000000000001,
            "count": 29
           },
           {
            "bin_end": 5.720000000000001,
            "bin_start": 5.130000000000001,
            "count": 18
           },
           {
            "bin_end": 6.3100000000000005,
            "bin_start": 5.720000000000001,
            "count": 11
           },
           {
            "bin_end": 6.9,
            "bin_start": 6.3100000000000005,
            "count": 5
           }
          ],
          "max": "6.9",
          "min": "1.0",
          "nan_count": 0,
          "unique_count": 43
         }
        },
        {
         "dtype": "float64",
         "name": "petalwidthcm",
         "stats": {
          "histogram": [
           {
            "bin_end": 0.33999999999999997,
            "bin_start": 0.1,
            "count": 39
           },
           {
            "bin_end": 0.58,
            "bin_start": 0.33999999999999997,
            "count": 8
           },
           {
            "bin_end": 0.82,
            "bin_start": 0.58,
            "count": 1
           },
           {
            "bin_end": 1.06,
            "bin_start": 0.82,
            "count": 7
           },
           {
            "bin_end": 1.3,
            "bin_start": 1.06,
            "count": 8
           },
           {
            "bin_end": 1.54,
            "bin_start": 1.3,
            "count": 33
           },
           {
            "bin_end": 1.78,
            "bin_start": 1.54,
            "count": 6
           },
           {
            "bin_end": 2.02,
            "bin_start": 1.78,
            "count": 23
           },
           {
            "bin_end": 2.2600000000000002,
            "bin_start": 2.02,
            "count": 9
           },
           {
            "bin_end": 2.5,
            "bin_start": 2.2600000000000002,
            "count": 14
           }
          ],
          "max": "2.5",
          "min": "0.1",
          "nan_count": 0,
          "unique_count": 22
         }
        },
        {
         "dtype": "int64",
         "name": "_deepnote_index_column"
        }
       ],
       "row_count": 148,
       "rows": [
        {
         "_deepnote_index_column": 0,
         "id": 1,
         "petallengthcm": 1.4,
         "petalwidthcm": 0.2
        },
        {
         "_deepnote_index_column": 1,
         "id": 2,
         "petallengthcm": 1.4,
         "petalwidthcm": 0.2
        },
        {
         "_deepnote_index_column": 2,
         "id": 3,
         "petallengthcm": 1.3,
         "petalwidthcm": 0.2
        },
        {
         "_deepnote_index_column": 3,
         "id": 4,
         "petallengthcm": 1.5,
         "petalwidthcm": 0.2
        },
        {
         "_deepnote_index_column": 4,
         "id": 5,
         "petallengthcm": 1.4,
         "petalwidthcm": 0.2
        },
        {
         "_deepnote_index_column": 5,
         "id": 6,
         "petallengthcm": 1.7,
         "petalwidthcm": 0.4
        },
        {
         "_deepnote_index_column": 6,
         "id": 7,
         "petallengthcm": 1.4,
         "petalwidthcm": 0.3
        },
        {
         "_deepnote_index_column": 7,
         "id": 9,
         "petallengthcm": 1.4,
         "petalwidthcm": 0.2
        },
        {
         "_deepnote_index_column": 8,
         "id": 10,
         "petallengthcm": 1.5,
         "petalwidthcm": 0.1
        },
        {
         "_deepnote_index_column": 9,
         "id": 11,
         "petallengthcm": 1.5,
         "petalwidthcm": 0.2
        }
       ]
      },
      "text/html": [
       "<div>\n",
       "<style scoped>\n",
       "    .dataframe tbody tr th:only-of-type {\n",
       "        vertical-align: middle;\n",
       "    }\n",
       "\n",
       "    .dataframe tbody tr th {\n",
       "        vertical-align: top;\n",
       "    }\n",
       "\n",
       "    .dataframe thead th {\n",
       "        text-align: right;\n",
       "    }\n",
       "</style>\n",
       "<table border=\"1\" class=\"dataframe\">\n",
       "  <thead>\n",
       "    <tr style=\"text-align: right;\">\n",
       "      <th></th>\n",
       "      <th>id</th>\n",
       "      <th>petallengthcm</th>\n",
       "      <th>petalwidthcm</th>\n",
       "    </tr>\n",
       "  </thead>\n",
       "  <tbody>\n",
       "    <tr>\n",
       "      <th>0</th>\n",
       "      <td>1</td>\n",
       "      <td>1.4</td>\n",
       "      <td>0.2</td>\n",
       "    </tr>\n",
       "    <tr>\n",
       "      <th>1</th>\n",
       "      <td>2</td>\n",
       "      <td>1.4</td>\n",
       "      <td>0.2</td>\n",
       "    </tr>\n",
       "    <tr>\n",
       "      <th>2</th>\n",
       "      <td>3</td>\n",
       "      <td>1.3</td>\n",
       "      <td>0.2</td>\n",
       "    </tr>\n",
       "    <tr>\n",
       "      <th>3</th>\n",
       "      <td>4</td>\n",
       "      <td>1.5</td>\n",
       "      <td>0.2</td>\n",
       "    </tr>\n",
       "    <tr>\n",
       "      <th>4</th>\n",
       "      <td>5</td>\n",
       "      <td>1.4</td>\n",
       "      <td>0.2</td>\n",
       "    </tr>\n",
       "    <tr>\n",
       "      <th>...</th>\n",
       "      <td>...</td>\n",
       "      <td>...</td>\n",
       "      <td>...</td>\n",
       "    </tr>\n",
       "    <tr>\n",
       "      <th>143</th>\n",
       "      <td>146</td>\n",
       "      <td>5.2</td>\n",
       "      <td>2.3</td>\n",
       "    </tr>\n",
       "    <tr>\n",
       "      <th>144</th>\n",
       "      <td>147</td>\n",
       "      <td>5.0</td>\n",
       "      <td>1.9</td>\n",
       "    </tr>\n",
       "    <tr>\n",
       "      <th>145</th>\n",
       "      <td>148</td>\n",
       "      <td>5.2</td>\n",
       "      <td>2.0</td>\n",
       "    </tr>\n",
       "    <tr>\n",
       "      <th>146</th>\n",
       "      <td>149</td>\n",
       "      <td>5.4</td>\n",
       "      <td>2.3</td>\n",
       "    </tr>\n",
       "    <tr>\n",
       "      <th>147</th>\n",
       "      <td>150</td>\n",
       "      <td>5.1</td>\n",
       "      <td>1.8</td>\n",
       "    </tr>\n",
       "  </tbody>\n",
       "</table>\n",
       "<p>148 rows × 3 columns</p>\n",
       "</div>"
      ],
      "text/plain": [
       "      id  petallengthcm  petalwidthcm\n",
       "0      1            1.4           0.2\n",
       "1      2            1.4           0.2\n",
       "2      3            1.3           0.2\n",
       "3      4            1.5           0.2\n",
       "4      5            1.4           0.2\n",
       "..   ...            ...           ...\n",
       "143  146            5.2           2.3\n",
       "144  147            5.0           1.9\n",
       "145  148            5.2           2.0\n",
       "146  149            5.4           2.3\n",
       "147  150            5.1           1.8\n",
       "\n",
       "[148 rows x 3 columns]"
      ]
     },
     "execution_count": 48,
     "metadata": {},
     "output_type": "execute_result"
    }
   ],
   "outputs_reference": "s3:deepnote-cell-outputs-production/06239cf7-c6e9-4bc9-8d95-47567e9b029e",
   "source": [
    "df_8 = _deepnote_execute_sql('SELECT * FROM knn_iris;', 'SQL_DB120E07_2091_462D_9417_E0974C1A18A0', audit_sql_comment='', sql_cache_mode='cache_disabled')\n",
    "df_8"
   ]
  },
  {
   "block_group": "71120afb76354b298feba07254aa5165",
   "cell_type": "markdown",
   "metadata": {
    "cell_id": "b9948927e3e3445fb0ad16ea7bc7f2b6",
    "deepnote_cell_type": "text-cell-h1",
    "formattedRanges": []
   },
   "source": [
    "# Deteksi Local Outlier Factor (LOF)"
   ]
  },
  {
   "block_group": "5237f62587b049ca8509657064f23710",
   "cell_type": "markdown",
   "metadata": {
    "cell_id": "9d5a6f6f195447559cda1331de41b85a",
    "deepnote_cell_type": "text-cell-p",
    "formattedRanges": []
   },
   "source": [
    "Outlier adalah observasi atau titik data yang secara signifikan berbeda dari sebagian besar data dalam kumpulan data. Dalam konteks statistik dan analisis data, outlier sering kali dianggap sebagai data yang ekstrem atau tidak biasa jika dibandingkan dengan pola umum dari data lainnya."
   ]
  },
  {
   "block_group": "0ada5c426a92432a9ebc475f245f02d5",
   "cell_type": "markdown",
   "metadata": {
    "cell_id": "74754bc793a34fce8973ea0344e4272c",
    "deepnote_cell_type": "text-cell-h2",
    "formattedRanges": []
   },
   "source": [
    "## Konsep Dasar Local Outlier Factor (LOF)"
   ]
  },
  {
   "block_group": "d9e3653bff8d4001973ad1df9edd9130",
   "cell_type": "markdown",
   "metadata": {
    "cell_id": "6c4af33b531f429b986068bc22920c9d",
    "deepnote_cell_type": "text-cell-p",
    "formattedRanges": []
   },
   "source": [
    "Local Outlier Factor (LOF) adalah sebuah metode deteksi outlier yang digunakan untuk mengidentifikasi titik data yang dianggap sebagai outlier berdasarkan tingkat anomali lokalnya. LOF mengukur seberapa banyak titik data tersebut berbeda dari lingkungannya sendiri dalam hal kepadatan."
   ]
  },
  {
   "block_group": "5a4804f4b622477994b40c79db9fae8a",
   "cell_type": "markdown",
   "metadata": {
    "cell_id": "dc3b9fe845ac409c939181f3041cc1df",
    "deepnote_cell_type": "text-cell-h2",
    "formattedRanges": []
   },
   "source": [
    "## Menghitung Local Outlier Factor (LOF) secara manual"
   ]
  },
  {
   "block_group": "ea1d58255bf94c63b1c0d20aa6651f9b",
   "cell_type": "markdown",
   "metadata": {
    "cell_id": "8c5e3c51f27f4af4ab2cc8cabbe4b1ae",
    "deepnote_cell_type": "text-cell-p",
    "formattedRanges": []
   },
   "source": [
    "Menghitung LOF setiap titik outlier teratas dengan k = 3, dan p = 2 (euclidean distance). Berdasarkan 10 titik data dengan 3 fitur masing-masing"
   ]
  },
  {
   "block_group": "d4b84a08575b49b0a458dd96f9fc0a80",
   "cell_type": "markdown",
   "metadata": {
    "cell_id": "9e86feb7b94949dd9d9f1db205e41a09",
    "deepnote_cell_type": "text-cell-p",
    "formattedRanges": []
   },
   "source": [
    "a(2, 8, 5), b(8, 9, 4), c(1, 3, 6), d(2, 8, 3), e(18, 12, 22), f(24, 10, 4), g(4, 4, 9), h(4, 7, 3), i(6, 10, 11), j(2, 8, 2)."
   ]
  },
  {
   "block_group": "947db9accd6a49f2a9cf47c5c75f1e84",
   "cell_type": "markdown",
   "metadata": {
    "cell_id": "23564ce99d7b4688b383e1762051055c",
    "deepnote_cell_type": "text-cell-p",
    "formattedRanges": []
   },
   "source": [
    "Menghitung semua jarak antara 2 titik data"
   ]
  },
  {
   "block_group": "555ab9dbcf2f44e197968a5103a679cb",
   "cell_type": "markdown",
   "metadata": {
    "cell_id": "d8e72908ca90455c9538f7fddaf5cf01",
    "deepnote_cell_type": "markdown"
   },
   "source": [
    "$$\n",
    "\\begin{aligned}\n",
    "\n",
    "& dist(a,b)= \\sqrt{(8-2)^{2}+(9-8)^{2}+(4-5)^{2}}= \\sqrt{(6)^{2}+(1)^{2}+(-1)^{2}}= \\sqrt{36+1+1}= \\sqrt{38}\\\\\n",
    "& dist(a,c)= \\sqrt{(1-2)^2+(3-8)^{2}+(6-5)^{2}}= \\sqrt{(-1)^{2}+(-5)^{2}+(1)^{2}}= \\sqrt{1+25+1}= \\sqrt{27}\\\\\n",
    "& dist(a,d)=\\sqrt{(2-2)^{2}+(8-8)^{2}+(3-5)^{2}}= \\sqrt{(0)^{2}+(0)^{2}+(-2)^{2}}= \\sqrt{0+0+4}= \\sqrt{4}=2 \\\\\n",
    "& dist(a,e) = \\sqrt{(18-2)^{2}+(12-8)^{2}+(22-5)^{2}}= \\sqrt{(16)^{2}+(4)^{2}+(17)^{2}}= \\sqrt{256+16+289}=\\sqrt{561}\\\\\n",
    "& dist(a,f)= \\sqrt{(24-2)^{2}+(10-8)^{2}+(4-5)}= \\sqrt{(22)^{2}+(2)^{2}+(-1)^{2}}= \\sqrt{484+4+1}= \\sqrt{489}\\\\\n",
    "& dist(a,g)= \\sqrt{(4-2)^{2}+(4-8)^{2}+(9-5)^{2}}= \\sqrt{(2)^{2}+(-4)^{2}+(4)^{2}}= \\sqrt{4+16+16}= \\sqrt{36}=6\\\\ \n",
    "& dist(a,h)= \\sqrt{(4-2)^{2}+(7-8)^{2}+(3-5)^{2}}= \\sqrt{(2)^{2}+(-1)^{2}+(-2)^{2}}= \\sqrt{4+1+4}= \\sqrt{9}= 3\\\\\n",
    "& dist(a,i)= \\sqrt{(6-2)^{2}+(10-8)^{2}+(11-5)^{2}}= \\sqrt{(4)^{2}+(2)^{2}+(6)^{2}}= \\sqrt{16+4+36}= \\sqrt{56}\\\\\n",
    "& dist(a,j)=\\sqrt{(2-2)^{2}+(8-8)^{2}+(2-5)^{2}}= \\sqrt{(0)^{2}+(0)^{2}+(-3)^{2}}= \\sqrt{0+0+9}= \\sqrt{9}= 3\\\\\n",
    "\n",
    "&\\\\\n",
    "\n",
    "& dist(b,a)= \\sqrt{(2-8)^{2}+(8-9)^{2}+(5-4)^{2}}= \\sqrt{(6)^{2}+(1)^{2}+(-1)^{2}}= \\sqrt{36+1+1}= \\sqrt{38}\\\\\n",
    "& dist(b,c)= \\sqrt{(1-8)^2+(3-9)^{2}+(6-4)^{2}}= \\sqrt{(-7)^{2}+(-6)^{2}+(2)^{2}}= \\sqrt{49+36+4}= \\sqrt{89} \\\\\n",
    "& dist(b,d)=\\sqrt{(2-8)^{2}+(8-9)^{2}+(3-4)^{2}}= \\sqrt{(-6)^{2}+(-1)^{2}+(-1)^{2}}= \\sqrt{36+1+1}= \\sqrt{38} \\\\\n",
    "& dist(b,e) = \\sqrt{(18-8)^{2}+(12-9)^{2}+(22-4)^{2}}= \\sqrt{(10)^{2}+(3)^{2}+(18)^{2}}= \\sqrt{100+9+324}=\\sqrt{433} \\\\\n",
    "& dist(b,f)= \\sqrt{(24-8)^{2}+(10-9)^{2}+(4-4)}= \\sqrt{(16)^{2}+(1)^{2}+(0)^{2}}= \\sqrt{256+1+0}= \\sqrt{257} \\\\\n",
    "& dist(b,g)= \\sqrt{(4-8)^{2}+(4-9)^{2}+(9-4)^{2}}= \\sqrt{(-4)^{2}+(-5)^{2}+(5)^{2}}= \\sqrt{16+25+25}= \\sqrt{66}\\\\\n",
    "& dist(b,h)= \\sqrt{(4-8)^{2}+(7-9)^{2}+(3-4)^{2}}= \\sqrt{(-4)^{2}+(-2)^{2}+(-1)^{2}}= \\sqrt{16+4+1}= \\sqrt{21}\\\\\n",
    "& dist(b,i)= \\sqrt{(6-8)^{2}+(10-9)^{2}+(11-4)^{2}}= \\sqrt{(-2)^{2}+(1)^{2}+(7)^{2}}= \\sqrt{4+1+49}= \\sqrt{54} \\\\\n",
    "& dist(b,j)=\\sqrt{(2-8)^{2}+(8-9)^{2}+(2-4)^{2}}= \\sqrt{(-6)^{2}+(-1)^{2}+(-2)^{2}}= \\sqrt{36+1+4}= \\sqrt{41}\\\\\n",
    "\n",
    "&\\\\\n",
    "\n",
    "& dist(c,a)= \\sqrt{(2-1)^{2}+(8-3)^{2}+(5-6)^{2}}= \\sqrt{(1)^{2}+(5)^{2}+(-1)^{2}}= \\sqrt{1+25+1}= \\sqrt{27}\\\\\n",
    "& dist(c,b)= \\sqrt{(8-1)^2+(9-3)^{2}+(4-6)^{2}}= \\sqrt{(7)^{2}+(6)^{2}+(-2)^{2}}= \\sqrt{49+36+4}= \\sqrt{89} \\\\\n",
    "& dist(c,d)=\\sqrt{(2-1)^{2}+(8-3)^{2}+(3-6)^{2}}= \\sqrt{(1)^{2}+(5)^{2}+(-3)^{2}}= \\sqrt{1+25+9}= \\sqrt{35} \\\\\n",
    "& dist(c,e) = \\sqrt{(18-1)^{2}+(12-3)^{2}+(22-6)^{2}}= \\sqrt{(17)^{2}+(9)^{2}+(16)^{2}}= \\sqrt{289+81+256}=\\sqrt{626} \\\\\n",
    "& dist(c,f)= \\sqrt{(24-1)^{2}+(10-3)^{2}+(4-6)}= \\sqrt{(23)^{2}+(7)^{2}+(-2)^{2}}= \\sqrt{529+49+4}= \\sqrt{582} \\\\\n",
    "& dist(c,g)= \\sqrt{(4-1)^{2}+(4-3)^{2}+(9-6)^{2}}= \\sqrt{(3)^{2}+(1)^{2}+(3)^{2}}= \\sqrt{9+1+9}= \\sqrt{19}\\\\\n",
    "& dist(c,h)= \\sqrt{(4-1)^{2}+(7-3)^{2}+(3-6)^{2}}= \\sqrt{(3)^{2}+(4)^{2}+(-3)^{2}}= \\sqrt{9+16+9}= \\sqrt{34}\\\\\n",
    "& dist(c,i)= \\sqrt{(6-1)^{2}+(10-3)^{2}+(11-6)^{2}}= \\sqrt{(5)^{2}+(7)^{2}+(5)^{2}}= \\sqrt{25+49+25}= \\sqrt{99} \\\\\n",
    "& dist(c,j)=\\sqrt{(2-1)^{2}+(8-3)^{2}+(2-6)^{2}}= \\sqrt{(1)^{2}+(5)^{2}+(-4)^{2}}= \\sqrt{1+25+16}= \\sqrt{42}\\\\\n",
    "\n",
    "&\\\\\n",
    "\n",
    "& dist(d,a)= \\sqrt{(2-2)^{2}+(8-8)^{2}+(5-3)^{2}}= \\sqrt{(0)^{2}+(0)^{2}+(2)^{2}}= \\sqrt{0+0+4}= \\sqrt{4}\\\\\n",
    "& dist(d,b)= \\sqrt{(8-2)^2+(9-8)^{2}+(4-3)^{2}}= \\sqrt{(6)^{2}+(1)^{2}+(1)^{2}}= \\sqrt{36+1+1}= \\sqrt{38} \\\\\n",
    "& dist(d,c)=\\sqrt{(1-2)^{2}+(3-8)^{2}+(6-3)^{2}}= \\sqrt{(-1)^{2}+(-5)^{2}+(3)^{2}}= \\sqrt{1+25+9}= \\sqrt{35} \\\\\n",
    "& dist(d,e) = \\sqrt{(18-2)^{2}+(12-8)^{2}+(22-3)^{2}}= \\sqrt{(16)^{2}+(4)^{2}+(19)^{2}}= \\sqrt{256+16+361}=\\sqrt{633} \\\\\n",
    "& dist(d,f)= \\sqrt{(24-2)^{2}+(10-8)^{2}+(4-3)}= \\sqrt{(22)^{2}+(2)^{2}+(1)^{2}}= \\sqrt{484+4+1}= \\sqrt{489} \\\\\n",
    "& dist(d,g)= \\sqrt{(4-2)^{2}+(4-8)^{2}+(9-3)^{2}}= \\sqrt{(2)^{2}+(-4)^{2}+(6)^{2}}= \\sqrt{4+16+36}= \\sqrt{56}\\\\\n",
    "& dist(d,h)= \\sqrt{(4-2)^{2}+(7-8)^{2}+(3-3)^{2}}= \\sqrt{(2)^{2}+(-1)^{2}+(0)^{2}}= \\sqrt{4+1+0}= \\sqrt{5}\\\\\n",
    "& dist(d,i)= \\sqrt{(6-2)^{2}+(10-8)^{2}+(11-3)^{2}}= \\sqrt{(4)^{2}+(2)^{2}+(8)^{2}}= \\sqrt{16+4+64}= \\sqrt{84} \\\\\n",
    "& dist(d,j)=\\sqrt{(2-2)^{2}+(8-8)^{2}+(2-3)^{2}}= \\sqrt{(0)^{2}+(0)^{2}+(-1)^{2}}= \\sqrt{0+0+1}= \\sqrt{1}\\\\\n",
    "\n",
    "&\\\\\n",
    "\n",
    "& dist(e,a)= \\sqrt{(2-18)^{2}+(8-12)^{2}+(5-22)^{2}}= \\sqrt{(-16)^{2}+(-4)^{2}+(-17)^{2}}= \\sqrt{256+16+289}= \\sqrt{561}\\\\\n",
    "& dist(e,b)= \\sqrt{(8-18)^2+(9-12)^{2}+(4-22)^{2}}= \\sqrt{(-10)^{2}+(-3)^{2}+(-18)^{2}}= \\sqrt{100+9+324}= \\sqrt{433} \\\\\n",
    "& dist(e,c)= \\sqrt{(1-18)^{2}+(3-12)^{2}+(6-22)^{2}}= \\sqrt{(-17)^{2}+(-9)^{2}+(-16)^{2}}= \\sqrt{289+81+256}= \\sqrt{626} \\\\\n",
    "& dist(e,d)= \\sqrt{(2-18)^{2}+(8-12)^{2}+(3-22)^{2}}= \\sqrt{(-16)^{2}+(-4)^{2}+(-19)^{2}}= \\sqrt{256+16+361}=\\sqrt{633} \\\\\n",
    "& dist(e,f)= \\sqrt{(24-18)^{2}+(10-12)^{2}+(4-22)}= \\sqrt{(6)^{2}+(-2)^{2}+(-18)^{2}}= \\sqrt{36+4+324}= \\sqrt{364} \\\\\n",
    "& dist(e,g)= \\sqrt{(4-18)^{2}+(4-12)^{2}+(9-22)^{2}}= \\sqrt{(-14)^{2}+(-8)^{2}+(-13)^{2}}= \\sqrt{196+64+169}= \\sqrt{429}\\\\\n",
    "& dist(e,h)= \\sqrt{(4-18)^{2}+(7-12)^{2}+(3-22)^{2}}= \\sqrt{(-14)^{2}+(-5)^{2}+(-19)^{2}}= \\sqrt{196+25+361}= \\sqrt{582}\\\\\n",
    "& dist(e,i)= \\sqrt{(6-18)^{2}+(10-12)^{2}+(11-22)^{2}}= \\sqrt{(-12)^{2}+(-2)^{2}+(-11)^{2}}= \\sqrt{144+4+121}= \\sqrt{269} \\\\\n",
    "& dist(e,j)= \\sqrt{(2-18)^{2}+(8-12)^{2}+(2-22)^{2}}= \\sqrt{(-16)^{2}+(-4)^{2}+(-20)^{2}}= \\sqrt{256+16+400}= \\sqrt{672}\\\\\n",
    "\n",
    "&\\\\\n",
    "\n",
    "& dist(f,a)= \\sqrt{(2-24)^{2}+(8-10)^{2}+(5-4)^{2}}= \\sqrt{(-22)^{2}+(-2)^{2}+(1)^{2}}= \\sqrt{484+4+1}= \\sqrt{489}\\\\\n",
    "& dist(f,b)= \\sqrt{(8-24)^2+(9-10)^{2}+(4-4)^{2}}= \\sqrt{(-16)^{2}+(-1)^{2}+(0)^{2}}= \\sqrt{256+1+0}= \\sqrt{257} \\\\\n",
    "& dist(f,c)=\\sqrt{(1-24)^{2}+(3-10)^{2}+(6-4)^{2}}= \\sqrt{(-23)^{2}+(-7)^{2}+(2)^{2}}= \\sqrt{529+49+4}= \\sqrt{582} \\\\\n",
    "& dist(f,d)= \\sqrt{(2-24)^{2}+(8-10)^{2}+(3-4)^{2}}= \\sqrt{(-22)^{2}+(-2)^{2}+(-1)^{2}}= \\sqrt{484+4+1}=\\sqrt{489} \\\\\n",
    "& dist(f,e)= \\sqrt{(18-24)^{2}+(12-10)^{2}+(22-4)}= \\sqrt{(-6)^{2}+(2)^{2}+(18)^{2}}= \\sqrt{36+4+324}= \\sqrt{364} \\\\\n",
    "& dist(f,g)= \\sqrt{(4-24)^{2}+(4-10)^{2}+(9-4)^{2}}= \\sqrt{(-20)^{2}+(-6)^{2}+(5)^{2}}= \\sqrt{400+36+25}= \\sqrt{461}\\\\\n",
    "& dist(f,h)= \\sqrt{(4-24)^{2}+(7-10)^{2}+(3-4)^{2}}= \\sqrt{(-20)^{2}+(-3)^{2}+(-1)^{2}}= \\sqrt{400+9+1}= \\sqrt{410}\\\\\n",
    "& dist(f,i)= \\sqrt{(6-24)^{2}+(10-10)^{2}+(11-4)^{2}}= \\sqrt{(-18)^{2}+(0)^{2}+(7)^{2}}= \\sqrt{324+0+49}= \\sqrt{373} \\\\\n",
    "& dist(f,j)=\\sqrt{(2-24)^{2}+(8-10)^{2}+(2-4)^{2}}= \\sqrt{(-22)^{2}+(-2)^{2}+(-2)^{2}}= \\sqrt{484+4+4}= \\sqrt{492}\\\\\n",
    "\n",
    "&\\\\\n",
    "\n",
    "& dist(g,a)= \\sqrt{(2-4)^{2}+(8-4)^{2}+(5-9)^{2}}= \\sqrt{(-2)^{2}+(4)^{2}+(-4)^{2}}= \\sqrt{4+16+16}= \\sqrt{36}=6\\\\\n",
    "& dist(g,b)= \\sqrt{(8-4)^2+(9-4)^{2}+(4-9)^{2}}= \\sqrt{(4)^{2}+(5)^{2}+(-5)^{2}}= \\sqrt{16+25+25}= \\sqrt{66} \\\\\n",
    "& dist(g,c)=\\sqrt{(1-4)^{2}+(3-4)^{2}+(6-9)^{2}}= \\sqrt{(-3)^{2}+(-1)^{2}+(-3)^{2}}= \\sqrt{9+1+9}= \\sqrt{19} \\\\\n",
    "& dist(g,d)= \\sqrt{(2-4)^{2}+(8-4)^{2}+(3-9)^{2}}= \\sqrt{(-2)^{2}+(4)^{2}+(-6)^{2}}= \\sqrt{4+16+36}=\\sqrt{56} \\\\\n",
    "& dist(g,e)= \\sqrt{(18-4)^{2}+(12-4)^{2}+(22-9)}= \\sqrt{(14)^{2}+(8)^{2}+(13)^{2}}= \\sqrt{196+64+169}= \\sqrt{429} \\\\\n",
    "& dist(g,f)= \\sqrt{(24-4)^{2}+(10-4)^{2}+(4-9)^{2}}= \\sqrt{(20)^{2}+(6)^{2}+(-5)^{2}}= \\sqrt{400+36+25}= \\sqrt{461}\\\\\n",
    "& dist(g,h)= \\sqrt{(4-4)^{2}+(7-4)^{2}+(3-9)^{2}}= \\sqrt{(0)^{2}+(3)^{2}+(-6)^{2}}= \\sqrt{0+9+36}= \\sqrt{45}\\\\\n",
    "& dist(g,i)= \\sqrt{(6-4)^{2}+(10-4)^{2}+(11-9)^{2}}= \\sqrt{(2)^{2}+(6)^{2}+(2)^{2}}= \\sqrt{4+36+4}= \\sqrt{44} \\\\\n",
    "& dist(g,j)=\\sqrt{(2-4)^{2}+(8-4)^{2}+(2-9)^{2}}= \\sqrt{(-2)^{2}+(4)^{2}+(-7)^{2}}= \\sqrt{4+16+49}= \\sqrt{69}\\\\\n",
    "\n",
    "&\\\\\n",
    "\n",
    "& dist(h,a)= \\sqrt{(2-4)^{2}+(8-7)^{2}+(5-3)^{2}}= \\sqrt{(-2)^{2}+(1)^{2}+(2)^{2}}= \\sqrt{4+1+4}= \\sqrt{9}=3\\\\\n",
    "& dist(h,b)= \\sqrt{(8-4)^2+(9-7)^{2}+(4-3)^{2}}= \\sqrt{(4)^{2}+(2)^{2}+(1)^{2}}= \\sqrt{16+4+1}= \\sqrt{21} \\\\\n",
    "& dist(h,c)=\\sqrt{(1-4)^{2}+(3-7)^{2}+(6-3)^{2}}= \\sqrt{(-3)^{2}+(-4)^{2}+(3)^{2}}= \\sqrt{9+16+9}= \\sqrt{34} \\\\\n",
    "& dist(h,d)= \\sqrt{(2-4)^{2}+(8-7)^{2}+(3-3)^{2}}= \\sqrt{(-2)^{2}+(1)^{2}+(0)^{2}}= \\sqrt{4+1+0}=\\sqrt{5} \\\\\n",
    "& dist(h,e)= \\sqrt{(18-4)^{2}+(12-7)^{2}+(22-3)}= \\sqrt{(14)^{2}+(5)^{2}+(19)^{2}}= \\sqrt{196+25+361}= \\sqrt{582} \\\\\n",
    "& dist(h,f)= \\sqrt{(24-4)^{2}+(10-7)^{2}+(4-3)^{2}}= \\sqrt{(20)^{2}+(3)^{2}+(1)^{2}}= \\sqrt{400+9+1}= \\sqrt{410}\\\\\n",
    "& dist(h,g)= \\sqrt{(4-4)^{2}+(4-7)^{2}+(9-3)^{2}}= \\sqrt{(0)^{2}+(-3)^{2}+(6)^{2}}= \\sqrt{0+9+36}= \\sqrt{45}\\\\\n",
    "& dist(h,i)= \\sqrt{(6-4)^{2}+(10-7)^{2}+(11-3)^{2}}= \\sqrt{(2)^{2}+(3)^{2}+(8)^{2}}= \\sqrt{4+9+64}= \\sqrt{79} \\\\\n",
    "& dist(h,j)=\\sqrt{(2-4)^{2}+(8-7)^{2}+(2-3)^{2}}= \\sqrt{(-2)^{2}+(1)^{2}+(-1)^{2}}= \\sqrt{4+1+1}= \\sqrt{6}\\\\\n",
    "\n",
    "&\\\\\n",
    "\n",
    "& dist(i,a)= \\sqrt{(2-6)^{2}+(8-10)^{2}+(5-11)^{2}}= \\sqrt{(-4)^{2}+(-2)^{2}+(-6)^{2}}= \\sqrt{16+4+36}= \\sqrt{56}\\\\\n",
    "& dist(i,b)= \\sqrt{(8-6)^2+(9-10)^{2}+(4-11)^{2}}= \\sqrt{(2)^{2}+(-1)^{2}+(-7)^{2}}= \\sqrt{4+1+49}= \\sqrt{54} \\\\\n",
    "& dist(i,c)=\\sqrt{(1-6)^{2}+(3-10)^{2}+(6-11)^{2}}= \\sqrt{(-5)^{2}+(-7)^{2}+(-5)^{2}}= \\sqrt{25+49+25}= \\sqrt{99} \\\\\n",
    "& dist(i,d)= \\sqrt{(2-6)^{2}+(8-10)^{2}+(3-11)^{2}}= \\sqrt{(-4)^{2}+(-2)^{2}+(-8)^{2}}= \\sqrt{16+4+64}=\\sqrt{84} \\\\\n",
    "& dist(i,e)= \\sqrt{(18-6)^{2}+(12-10)^{2}+(22-11)}= \\sqrt{(12)^{2}+(2)^{2}+(11)^{2}}= \\sqrt{144+4+121}= \\sqrt{269} \\\\\n",
    "& dist(i,f)= \\sqrt{(24-6)^{2}+(10-10)^{2}+(4-11)^{2}}= \\sqrt{(18)^{2}+(0)^{2}+(-7)^{2}}= \\sqrt{324+0+49}= \\sqrt{373}\\\\\n",
    "& dist(i,g)= \\sqrt{(4-6)^{2}+(4-10)^{2}+(9-11)^{2}}= \\sqrt{(-2)^{2}+(-6)^{2}+(-2)^{2}}= \\sqrt{4+36+4}= \\sqrt{44}\\\\\n",
    "& dist(i,h)= \\sqrt{(4-6)^{2}+(7-10)^{2}+(3-11)^{2}}= \\sqrt{(-2)^{2}+(-3)^{2}+(-8)^{2}}= \\sqrt{4+9+64}= \\sqrt{77} \\\\\n",
    "& dist(i,j)=\\sqrt{(2-6)^{2}+(8-10)^{2}+(2-11)^{2}}= \\sqrt{(-4)^{2}+(-2)^{2}+(-9)^{2}}= \\sqrt{16+4+81}= \\sqrt{101}\\\\\n",
    "\n",
    "&\\\\\n",
    "\n",
    "& dist(j,a)= \\sqrt{(2-2)^{2}+(8-8)^{2}+(5-2)^{2}}= \\sqrt{(0)^{2}+(0)^{2}+(3)^{2}}= \\sqrt{0+0+9}= \\sqrt{9}=3\\\\\n",
    "& dist(j,b)= \\sqrt{(8-2)^2+(9-8)^{2}+(4-2)^{2}}= \\sqrt{(6)^{2}+(1)^{2}+(2)^{2}}= \\sqrt{36+1+4}= \\sqrt{41} \\\\\n",
    "& dist(j,c)=\\sqrt{(1-2)^{2}+(3-8)^{2}+(6-2)^{2}}= \\sqrt{(-1)^{2}+(-5)^{2}+(4)^{2}}= \\sqrt{1+25+16}= \\sqrt{42} \\\\\n",
    "& dist(j,d)= \\sqrt{(2-2)^{2}+(8-8)^{2}+(3-2)^{2}}= \\sqrt{(0)^{2}+(0)^{2}+(1)^{2}}= \\sqrt{0+0+1}=\\sqrt{1} \\\\\n",
    "& dist(j,e)= \\sqrt{(18-2)^{2}+(12-8)^{2}+(22-2)^{2}}= \\sqrt{(16)^{2}+(4)^{2}+(20)^{2}}= \\sqrt{256+16+400}= \\sqrt{672} \\\\\n",
    "& dist(j,f)= \\sqrt{(24-2)^{2}+(10-8)^{2}+(4-2)^{2}}= \\sqrt{(22)^{2}+(2)^{2}+(2)^{2}}= \\sqrt{484+4+4}= \\sqrt{492}\\\\\n",
    "& dist(j,g)= \\sqrt{(4-2)^{2}+(4-8)^{2}+(9-2)^{2}}= \\sqrt{(2)^{2}+(-4)^{2}+(7)^{2}}= \\sqrt{4+16+49}= \\sqrt{69}\\\\\n",
    "& dist(j,h)= \\sqrt{(4-2)^{2}+(7-8)^{2}+(3-2)^{2}}= \\sqrt{(2)^{2}+(-1)^{2}+(1)^{2}}= \\sqrt{4+1+1}= \\sqrt{6} \\\\\n",
    "& dist(j,i)=\\sqrt{(6-2)^{2}+(10-8)^{2}+(11-2)^{2}}= \\sqrt{(4)^{2}+(2)^{2}+(9)^{2}}= \\sqrt{16+4+81}= \\sqrt{101}\\\\\n",
    "\n",
    "\n",
    "\\end{aligned}\n",
    "$$"
   ]
  },
  {
   "block_group": "453f5f4f901942d8a5a7a789ce200133",
   "cell_type": "markdown",
   "metadata": {
    "cell_id": "2ddbea86809f4be0a35659e4a1e4eefa",
    "deepnote_cell_type": "markdown"
   },
   "source": [
    "menghitung semua $$dist_{3}(o)dist_{k}(o)$$ jarak antara o dan tetangga terdekat ke-k (k-th nearest neighbor)"
   ]
  },
  {
   "block_group": "4ab40b875aa7484093a3476f64ea6347",
   "cell_type": "markdown",
   "metadata": {
    "cell_id": "008d1118474c4e4db3208bc86cd0472e",
    "deepnote_cell_type": "markdown"
   },
   "source": [
    "$$\n",
    "\\begin{aligned}\n",
    "\n",
    "& dist_{3}(a) = dist(a, j) = \\sqrt{9} \\text{ (j/h is the 3}^{\\text{rd}} \\text{ nearest neighbor)} \\\\\n",
    "& dist_{3}(b) = dist(b, c) = \\sqrt{38} \\text{ (c/b is the 3}^{\\text{rd}} \\text{ nearest neighbor)} \\\\\n",
    "& dist_{3}(c) = dist(c, h) = \\sqrt{34} \\text{ (h is the 3}^{\\text{rd}} \\text{ nearest neighbor)} \\\\\n",
    "& dist_{3}(d) = dist(d, h) = \\sqrt{5} \\text{ (h is the 3}^{\\text{rd}} \\text{ nearest neighbor)} \\\\\n",
    "& dist_{3}(e) = dist(e, g) = \\sqrt{429} \\text{ (g is the 3}^{\\text{rd}} \\text{ nearest neighbor)} \\\\\n",
    "& dist_{3}(f) = dist(f, i) = \\sqrt{373} \\text{ (i is the 3}^{\\text{rd}} \\text{ nearest neighbor)} \\\\\n",
    "& dist_{3}(g) = dist(g, i) = \\sqrt{44} \\text{ (i is the 3}^{\\text{rd}} \\text{ nearest neighbor)} \\\\\n",
    "& dist_{3}(h) = dist(h, a) = \\sqrt{9} \\text{ (a is the 3}^{\\text{rd}} \\text{ nearest neighbor)} \\\\\n",
    "& dist_{3}(i) = dist(i, a) = \\sqrt{56} \\text{ (a is the 3}^{\\text{rd}} \\text{ nearest neighbor)} \\\\\n",
    "& dist_{3}(j) = dist(j, a) = \\sqrt{9} \\text{ (a is the 3}^{\\text{rd}} \\text{ nearest neighbor)}\n",
    "\n",
    "\\end{aligned}\n",
    "$$"
   ]
  },
  {
   "block_group": "429a8129f58740d3843b8b6a70784205",
   "cell_type": "markdown",
   "metadata": {
    "cell_id": "1504caca432f4d10b2f468f6e8fc7bc4",
    "deepnote_cell_type": "markdown"
   },
   "source": [
    "Menghitung semua $$N_{k}(o)$$ k-distance neighborhood of o, $$N_{k}(o) = \\left\\{o' \\mid o' \\text{ in }D \\text{, } disk_{k}(o, o')\\leq disk_{k}(o)\\right\\}$$"
   ]
  },
  {
   "block_group": "5ff18b34dd9d40f9831b271eab70363a",
   "cell_type": "markdown",
   "metadata": {
    "cell_id": "3879e568cb8f432ba3419d791864aa98",
    "deepnote_cell_type": "markdown"
   },
   "source": [
    "$$\n",
    "\\begin{aligned}\n",
    "\n",
    "& N_{3}(a) = \\left\\{d,h,j\\right\\} \\\\\n",
    "& N_{3}(b) = \\left\\{h,a,d\\right\\} \\\\\n",
    "& N_{3}(c) = \\left\\{g,a,h\\right\\} \\\\\n",
    "& N_{3}(d) = \\left\\{j,a,h\\right\\} \\\\\n",
    "& N_{3}(e) = \\left\\{i,f,g\\right\\} \\\\\n",
    "& N_{3}(f) = \\left\\{b,e,i\\right\\} \\\\\n",
    "& N_{3}(g) = \\left\\{c,a,i\\right\\} \\\\\n",
    "& N_{3}(h) = \\left\\{d,j,a\\right\\} \\\\\n",
    "& N_{3}(i) = \\left\\{g,b,a\\right\\} \\\\\n",
    "& N_{3}(j) = \\left\\{d,h,a\\right\\}\n",
    "\n",
    "\\end{aligned}\n",
    "$$\n"
   ]
  },
  {
   "block_group": "54f3576e7471470a99d17058db94b1d3",
   "cell_type": "markdown",
   "metadata": {
    "cell_id": "f95337d3fbc74ba7824ee8df2e8fc5c2",
    "deepnote_cell_type": "markdown"
   },
   "source": [
    "Menghitung semua $$lrd_{k}(o)$$\n",
    "$$lrd_{k}(o)$$:Local Reachability Density of o "
   ]
  },
  {
   "block_group": "fdf9123af7e44f6da40fe606d4609310",
   "cell_type": "markdown",
   "metadata": {
    "cell_id": "a79a7bc9be1f4b7596ba05485420bae0",
    "deepnote_cell_type": "markdown"
   },
   "source": [
    "$$\n",
    "\\begin{aligned}\n",
    "\n",
    "& lrd_{k}(o) = \\frac{||N_{k}(o)||}{\\sum_{o'\\epsilon N_{k}}reachdist_k(o'\\leftarrow o)} \\\\\n",
    "& reachdist_k(o\\leftarrow o') = max\\left\\{disk_{k}(o), disk(o,o')\\right\\}\n",
    "\n",
    "\\end{aligned}\n",
    "$$"
   ]
  },
  {
   "block_group": "8963ce38318d4390b4b263dd0fa74ab4",
   "cell_type": "markdown",
   "metadata": {
    "cell_id": "4990bca846b44fe2b45f38eca6171b63",
    "deepnote_cell_type": "markdown"
   },
   "source": [
    "$ ||N_{k}(o)|| $ mengartikan jumlah objek dalam $ N_{k}(o) $"
   ]
  },
  {
   "block_group": "35d6518986474af9afa329f68afe535d",
   "cell_type": "markdown",
   "metadata": {
    "cell_id": "83003777e8574ae0a7d4d609fe92c795",
    "deepnote_cell_type": "markdown"
   },
   "source": [
    "$$\n",
    "\\begin{aligned}\n",
    "\n",
    "& N_{3}(a) = \\left\\{d,h,j\\right\\}=3 \\\\\n",
    "& N_{3}(b) = \\left\\{h,a,d\\right\\}=3 \\\\\n",
    "& N_{3}(c) = \\left\\{g,a,h\\right\\}=3\\\\\n",
    "& N_{3}(d) = \\left\\{j,a,h\\right\\}=3\\\\\n",
    "& N_{3}(e) = \\left\\{i,f,g\\right\\}=3\\\\\n",
    "& N_{3}(f) = \\left\\{b,e,i\\right\\}=3\\\\\n",
    "& N_{3}(g) = \\left\\{c,a,i\\right\\}=3\\\\\n",
    "& N_{3}(h) = \\left\\{d,j,a\\right\\}=3\\\\\n",
    "& N_{3}(i) = \\left\\{g,b,a\\right\\}=3\\\\\n",
    "& N_{3}(j) = \\left\\{d,h,a\\right\\}=3\n",
    "\n",
    "\\end{aligned}\n",
    "$$\n"
   ]
  },
  {
   "block_group": "d2b86b07ee8c4d359e232ec2f08ed635",
   "cell_type": "markdown",
   "metadata": {
    "cell_id": "9967405c2c1146909cfa283258fdea22",
    "deepnote_cell_type": "markdown"
   },
   "source": [
    "$$\n",
    "\\begin{aligned}\n",
    "\n",
    "&\\text{lrd}_{3}(a) = \\frac{||N_{3}(a)||}{\\text{reachdist}_3(d \\leftarrow a) + \\text{reachdist}_3(h \\leftarrow a) + \\text{reachdist}_3(j \\leftarrow a)} \\\\\n",
    "\n",
    "\\\\\n",
    "\n",
    "&\\text{reachdist}_3(d \\leftarrow a) = \\max\\{ \\text{disk}_{3}(d), \\text{disk}(d,a) \\} = \\max\\{ \\sqrt{5}, \\sqrt{4} \\} = \\sqrt{5} \\\\\n",
    "&\\text{reachdist}_3(h \\leftarrow a) = \\max\\{ \\text{disk}_{3}(h), \\text{disk}(h,a) \\} = \\max\\{ \\sqrt{9}, \\sqrt{9} \\} = \\sqrt{9} \\\\\n",
    "&\\text{reachdist}_3(j \\leftarrow a) = \\max\\{ \\text{disk}_{3}(j), \\text{disk}(j,a) \\} = \\max\\{ \\sqrt{9}, \\sqrt{9} \\} = \\sqrt{9} \\\\\n",
    "\n",
    "\\\\\n",
    "\n",
    "&\\text{lrd}_{3}(a) = \\frac{3}{\\sqrt{5} + \\sqrt{9} + \\sqrt{9}} = 0,3642 \\\\\n",
    "\n",
    "\\\\\n",
    "\n",
    "&\\text{lrd}_{3}(b) = \\frac{||N_{3}(b)||}{\\text{reachdist}_3(h \\leftarrow b) + \\text{reachdist}_3(a \\leftarrow b) + \\text{reachdist}_3(d \\leftarrow b)} \\\\\n",
    "\n",
    "\\\\\n",
    "\n",
    "&\\text{reachdist}_3(h \\leftarrow b) = \\max\\{ \\text{disk}_{3}(h), \\text{disk}(h,b) \\} = \\max\\{ \\sqrt{9}, \\sqrt{21} \\} = \\sqrt{21} \\\\\n",
    "&\\text{reachdist}_3(a \\leftarrow b) = \\max\\{ \\text{disk}_{3}(a), \\text{disk}(a,b) \\} = \\max\\{ \\sqrt{9}, \\sqrt{38} \\} = \\sqrt{38} \\\\\n",
    "&\\text{reachdist}_3(d \\leftarrow b) = \\max\\{ \\text{disk}_{3}(d), \\text{disk}(d,b) \\} = \\max\\{ \\sqrt{5}, \\sqrt{38} \\} = \\sqrt{38} \\\\\n",
    "\n",
    "\\\\\n",
    "\n",
    "&\\text{lrd}_{3}(b) = \\frac{3}{\\sqrt{21} + \\sqrt{38} + \\sqrt{38}} = 0,1773 \\\\\n",
    "\n",
    "\\\\\n",
    "\n",
    "&\\text{lrd}_{3}(c) = \\frac{||N_{3}(c)||}{\\text{reachdist}_3(g \\leftarrow c) + \\text{reachdist}_3(a \\leftarrow c) + \\text{reachdist}_3(h \\leftarrow c)} \\\\\n",
    "\n",
    "\\\\\n",
    "\n",
    "&\\text{reachdist}_3(g \\leftarrow c) = \\max\\{ \\text{disk}_{3}(g), \\text{disk}(g,c) \\} = \\max\\{ \\sqrt{44}, \\sqrt{19} \\} = \\sqrt{44} \\\\\n",
    "&\\text{reachdist}_3(a \\leftarrow c) = \\max\\{ \\text{disk}_{3}(a), \\text{disk}(a,c) \\} = \\max\\{ \\sqrt{9}, \\sqrt{27} \\} = \\sqrt{27} \\\\\n",
    "&\\text{reachdist}_3(h \\leftarrow c) = \\max\\{ \\text{disk}_{3}(h), \\text{disk}(h,c) \\} = \\max\\{ \\sqrt{9}, \\sqrt{34} \\} = \\sqrt{34} \\\\\n",
    "\n",
    "\\\\\n",
    "\n",
    "&\\text{lrd}_{3}(c) = \\frac{3}{\\sqrt{44} + \\sqrt{27} + \\sqrt{34}} = 0,1698 \\\\\n",
    "\n",
    "\\\\\n",
    "\n",
    "&\\text{lrd}_{3}(d) = \\frac{||N_{3}(d)||}{\\text{reachdist}_3(j \\leftarrow d) + \\text{reachdist}_3(a \\leftarrow d) + \\text{reachdist}_3(h \\leftarrow d)} \\\\\n",
    "\n",
    "\\\\\n",
    "\n",
    "&\\text{reachdist}_3(j \\leftarrow d) = \\max\\{ \\text{disk}_{3}(j), \\text{disk}(j,d) \\} = \\max\\{ \\sqrt{9}, \\sqrt{1} \\} = \\sqrt{9} \\\\\n",
    "&\\text{reachdist}_3(a \\leftarrow d) = \\max\\{ \\text{disk}_{3}(a), \\text{disk}(a,d) \\} = \\max\\{ \\sqrt{9}, \\sqrt{4} \\} = \\sqrt{9} \\\\\n",
    "&\\text{reachdist}_3(h \\leftarrow d) = \\max\\{ \\text{disk}_{3}(h), \\text{disk}(h,d) \\} = \\max\\{ \\sqrt{9}, \\sqrt{5} \\} = \\sqrt{9} \\\\\n",
    "\n",
    "\\\\\n",
    "\n",
    "&\\text{lrd}_{3}(d) = \\frac{3}{\\sqrt{9} + \\sqrt{9} + \\sqrt{9}} = 0,3333 \\\\\n",
    "\n",
    "\\\\\n",
    "\n",
    "&\\text{lrd}_{3}(e) = \\frac{||N_{3}(e)||}{\\text{reachdist}_3(i \\leftarrow e) + \\text{reachdist}_3(f \\leftarrow e) + \\text{reachdist}_3(g \\leftarrow e)} \\\\\n",
    "\n",
    "\\\\\n",
    "\n",
    "&\\text{reachdist}_3(i \\leftarrow e) = \\max\\{ \\text{disk}_{3}(i), \\text{disk}(i,e) \\} = \\max\\{ \\sqrt{56}, \\sqrt{269} \\} = \\sqrt{269} \\\\\n",
    "&\\text{reachdist}_3(f \\leftarrow e) = \\max\\{ \\text{disk}_{3}(f), \\text{disk}(f,e) \\} = \\max\\{ \\sqrt{373}, \\sqrt{364} \\} = \\sqrt{373} \\\\\n",
    "&\\text{reachdist}_3(g \\leftarrow e) = \\max\\{ \\text{disk}_{3}(g), \\text{disk}(g,e) \\} = \\max\\{ \\sqrt{44}, \\sqrt{429} \\} = \\sqrt{429} \\\\\n",
    "\n",
    "\\\\\n",
    "\n",
    "&\\text{lrd}_{3}(e) = \\frac{3}{\\sqrt{269} + \\sqrt{373} + \\sqrt{429}} = 0,0531 \\\\\n",
    "\n",
    "\\\\\n",
    "\n",
    "&\\text{lrd}_{3}(f) = \\frac{||N_{3}(f)||}{\\text{reachdist}_3(b \\leftarrow f) + \\text{reachdist}_3(e \\leftarrow f) + \\text{reachdist}_3(i \\leftarrow f)} \\\\\n",
    "\n",
    "\\\\\n",
    "\n",
    "&\\text{reachdist}_3(b \\leftarrow f) = \\max\\{ \\text{disk}_{3}(b), \\text{disk}(b,f) \\} = \\max\\{ \\sqrt{38}, \\sqrt{257} \\} = \\sqrt{257} \\\\\n",
    "&\\text{reachdist}_3(e \\leftarrow f) = \\max\\{ \\text{disk}_{3}(e), \\text{disk}(e,f) \\} = \\max\\{ \\sqrt{429}, \\sqrt{364} \\} = \\sqrt{429} \\\\\n",
    "&\\text{reachdist}_3(i \\leftarrow f) = \\max\\{ \\text{disk}_{3}(i), \\text{disk}(i,f) \\} = \\max\\{ \\sqrt{56}, \\sqrt{373} \\} = \\sqrt{373} \\\\\n",
    "\n",
    "\\\\\n",
    "\n",
    "&\\text{lrd}_{3}(f) = \\frac{3}{\\sqrt{257} + \\sqrt{429} + \\sqrt{373}} = 0,0535 \\\\\n",
    "\n",
    "\\\\\n",
    "\n",
    "&\\text{lrd}_{3}(g) = \\frac{||N_{3}(g)||}{\\text{reachdist}_3(c \\leftarrow g) + \\text{reachdist}_3(a \\leftarrow g) + \\text{reachdist}_3(i \\leftarrow g)} \\\\\n",
    "\n",
    "\\\\\n",
    "\n",
    "&\\text{reachdist}_3(c \\leftarrow g) = \\max\\{ \\text{disk}_{3}(c), \\text{disk}(c,g) \\} = \\max\\{ \\sqrt{34}, \\sqrt{19} \\} = \\sqrt{34} \\\\\n",
    "&\\text{reachdist}_3(a \\leftarrow g) = \\max\\{ \\text{disk}_{3}(a), \\text{disk}(a,g) \\} = \\max\\{ \\sqrt{9}, \\sqrt{36} \\} = \\sqrt{36} \\\\\n",
    "&\\text{reachdist}_3(i \\leftarrow g) = \\max\\{ \\text{disk}_{3}(i), \\text{disk}(i,g) \\} = \\max\\{ \\sqrt{56}, \\sqrt{44} \\} = \\sqrt{56} \\\\\n",
    "\n",
    "\\\\\n",
    "\n",
    "&\\text{lrd}_{3}(g) = \\frac{3}{\\sqrt{34} + \\sqrt{36} + \\sqrt{56}} = 0,1553 \\\\\n",
    "\n",
    "\\\\\n",
    "\n",
    "&\\text{lrd}_{3}(h) = \\frac{||N_{3}(h)||}{\\text{reachdist}_3(d \\leftarrow h) + \\text{reachdist}_3(j \\leftarrow h) + \\text{reachdist}_3(a \\leftarrow h)} \\\\\n",
    "\n",
    "\\\\\n",
    "\n",
    "&\\text{reachdist}_3(d \\leftarrow h) = \\max\\{ \\text{disk}_{3}(d), \\text{disk}(d,h) \\} = \\max\\{ \\sqrt{5}, \\sqrt{5} \\} = \\sqrt{5} \\\\\n",
    "&\\text{reachdist}_3(j \\leftarrow h) = \\max\\{ \\text{disk}_{3}(j), \\text{disk}(j,h) \\} = \\max\\{ \\sqrt{9}, \\sqrt{6} \\} = \\sqrt{9} \\\\\n",
    "&\\text{reachdist}_3(a \\leftarrow h) = \\max\\{ \\text{disk}_{3}(a), \\text{disk}(a,h) \\} = \\max\\{ \\sqrt{9}, \\sqrt{9} \\} = \\sqrt{9} \\\\\n",
    "\n",
    "\\\\\n",
    "\n",
    "&\\text{lrd}_{3}(h) = \\frac{3}{\\sqrt{5} + \\sqrt{9} + \\sqrt{9}} = 0,3642 \\\\\n",
    "\n",
    "\\\\\n",
    "\n",
    "&\\text{lrd}_{3}(i) = \\frac{||N_{3}(i)||}{\\text{reachdist}_3(g \\leftarrow i) + \\text{reachdist}_3(b \\leftarrow i) + \\text{reachdist}_3(a \\leftarrow i)} \\\\\n",
    "\n",
    "\\\\\n",
    "\n",
    "&\\text{reachdist}_3(g \\leftarrow i) = \\max\\{ \\text{disk}_{3}(g), \\text{disk}(g,i) \\} = \\max\\{ \\sqrt{44}, \\sqrt{44} \\} = \\sqrt{44} \\\\\n",
    "&\\text{reachdist}_3(b \\leftarrow i) = \\max\\{ \\text{disk}_{3}(b), \\text{disk}(b,i) \\} = \\max\\{ \\sqrt{38}, \\sqrt{54} \\} = \\sqrt{54} \\\\\n",
    "&\\text{reachdist}_3(a \\leftarrow i) = \\max\\{ \\text{disk}_{3}(a), \\text{disk}(a,i) \\} = \\max\\{ \\sqrt{9}, \\sqrt{56} \\} = \\sqrt{56} \\\\\n",
    "\n",
    "\\\\\n",
    "\n",
    "&\\text{lrd}_{3}(i) = \\frac{3}{\\sqrt{44} + \\sqrt{54} + \\sqrt{56}} = 0,1397 \\\\\n",
    "\n",
    "\\\\\n",
    "\n",
    "&\\text{lrd}_{3}(j) = \\frac{||N_{3}(j)||}{\\text{reachdist}_3(d \\leftarrow j) + \\text{reachdist}_3(h \\leftarrow j) + \\text{reachdist}_3(a \\leftarrow j)} \\\\\n",
    "\n",
    "\\\\\n",
    "\n",
    "&\\text{reachdist}_3(d \\leftarrow j) = \\max\\{ \\text{disk}_{3}(d), \\text{disk}(d,j) \\} = \\max\\{ \\sqrt{5}, \\sqrt{1} \\} = \\sqrt{5} \\\\\n",
    "&\\text{reachdist}_3(h \\leftarrow j) = \\max\\{ \\text{disk}_{3}(h), \\text{disk}(h,j) \\} = \\max\\{ \\sqrt{9}, \\sqrt{6} \\} = \\sqrt{9} \\\\\n",
    "&\\text{reachdist}_3(a \\leftarrow j) = \\max\\{ \\text{disk}_{3}(a), \\text{disk}(a,j) \\} = \\max\\{ \\sqrt{9}, \\sqrt{9} \\} = \\sqrt{9} \\\\\n",
    "\n",
    "\\\\\n",
    "\n",
    "&\\text{lrd}_{3}(j) = \\frac{3}{\\sqrt{5} + \\sqrt{9} + \\sqrt{9}} = 0,3642\n",
    "\n",
    "\\end{aligned}\n",
    "$$"
   ]
  },
  {
   "block_group": "1505763b4b874190a9fe7674adeec3dc",
   "cell_type": "markdown",
   "metadata": {
    "cell_id": "8ab4e9d2a70d4555afba4ad3037d8af0",
    "deepnote_cell_type": "markdown"
   },
   "source": [
    "Menghitung semua $ LOF_{k}(o) $"
   ]
  },
  {
   "block_group": "f955edeaab2b486c9ae81bc46ad326cb",
   "cell_type": "markdown",
   "metadata": {
    "cell_id": "63ac3881599548d7861077bf64c3419b",
    "deepnote_cell_type": "markdown"
   },
   "source": [
    "$$ LOF_{k}(o) = \\frac{\\sum_{o'\\epsilon N_{k}(o)}\\frac{lrd_{k}(o')}{lrd_{k}(o)}}{||N_{k}(o)||} = \\sum_{o'\\epsilon N_{k}(o)}lrd_{k}(o')\\cdot \\sum_{o'\\epsilon N_{k}(o)}reachdist_{k}(o'\\leftarrow o) $$"
   ]
  },
  {
   "block_group": "d879a15793d3432b8344240d34d826dd",
   "cell_type": "markdown",
   "metadata": {
    "cell_id": "2406b1f406124b63a6bdde650c4026a5",
    "deepnote_cell_type": "markdown"
   },
   "source": [
    "$$\n",
    "\\begin{aligned}\n",
    "\n",
    "& LOF_{3}(a) = (lrd_{3}(d)+lrd_{3}(h)+lrd_{3}(j))\\cdot (reachdist_{3}(d\\leftarrow a)+reachdist_{3}(h\\leftarrow a)+reachdist_{3}(j\\leftarrow a)) \\\\\n",
    "& LOF_{3}(a) = (0,3333+0,3642+0,3642)\\cdot (\\sqrt{5}+\\sqrt{9}+\\sqrt{9}) = 8,7442\\\\\n",
    "\n",
    "\\\\\n",
    "\n",
    "& LOF_{3}(b) = (lrd_{3}(h)+lrd_{3}(a)+lrd_{3}(d))\\cdot (reachdist_{3}(h\\leftarrow b)+reachdist_{3}(a\\leftarrow b)+reachdist_{3}(d\\leftarrow b)) \\\\\n",
    "& LOF_{3}(b) = (0,3642+0,3642+0,3333)\\cdot (\\sqrt{21}+\\sqrt{38}+\\sqrt{38}) = 17,9548\\\\\n",
    "\n",
    "\\\\\n",
    "\n",
    "& LOF_{3}(c) = (lrd_{3}(g)+lrd_{3}(a)+lrd_{3}(h))\\cdot (reachdist_{3}(g\\leftarrow c)+reachdist_{3}(a\\leftarrow c)+reachdist_{3}(h\\leftarrow c)) \\\\\n",
    "& LOF_{3}(c) = (0,1553+0,3642+0,3642)\\cdot (\\sqrt{44}+\\sqrt{27}+\\sqrt{34}) = 15,6064\\\\\n",
    "\n",
    "\\\\\n",
    "\n",
    "& LOF_{3}(d) = (lrd_{3}(j)+lrd_{3}(a)+lrd_{3}(h))\\cdot (reachdist_{3}(j\\leftarrow d)+reachdist_{3}(a\\leftarrow d)+reachdist_{3}(h\\leftarrow d)) \\\\\n",
    "& LOF_{3}(d) = (0,3642+0,3642+0,3642)\\cdot (\\sqrt{9}+\\sqrt{9}+\\sqrt{9}) = 9,8334\\\\\n",
    "\n",
    "\\\\\n",
    "\n",
    "& LOF_{3}(e) = (lrd_{3}(i)+lrd_{3}(f)+lrd_{3}(g))\\cdot (reachdist_{3}(i\\leftarrow e)+reachdist_{3}(f\\leftarrow e)+reachdist_{3}(g\\leftarrow e)) \\\\\n",
    "& LOF_{3}(e) = (0,1397+0,0535+0,1553)\\cdot (\\sqrt{269}+\\sqrt{373}+\\sqrt{429}) = 19,6647\\\\\n",
    "\n",
    "\\\\\n",
    "\n",
    "& LOF_{3}(f) = (lrd_{3}(b)+lrd_{3}(e)+lrd_{3}(i))\\cdot (reachdist_{3}(b\\leftarrow f)+reachdist_{3}(e\\leftarrow f)+reachdist_{3}(i\\leftarrow f)) \\\\\n",
    "& LOF_{3}(f) = (0,1773+0,0531+0,1397)\\cdot (\\sqrt{257}+\\sqrt{429}+\\sqrt{373}) = 20,7466\\\\\n",
    "\n",
    "\\\\\n",
    "\n",
    "& LOF_{3}(g) = (lrd_{3}(c)+lrd_{3}(a)+lrd_{3}(i))\\cdot (reachdist_{3}(c\\leftarrow g)+reachdist_{3}(a\\leftarrow g)+reachdist_{3}(i\\leftarrow g)) \\\\\n",
    "& LOF_{3}(g) = (0,1698+0,3642+0,1397)\\cdot (\\sqrt{34}+\\sqrt{36}+\\sqrt{56}) = 13,0120\\\\\n",
    "\n",
    "\\\\\n",
    "\n",
    "& LOF_{3}(h) = (lrd_{3}(d)+lrd_{3}(j)+lrd_{3}(a))\\cdot (reachdist_{3}(d\\leftarrow h)+reachdist_{3}(j\\leftarrow h)+reachdist_{3}(a\\leftarrow h)) \\\\\n",
    "& LOF_{3}(h) = (0,3333+0,3642+0,3642)\\cdot (\\sqrt{5}+\\sqrt{9}+\\sqrt{9}) = 8,7442\\\\\n",
    "\n",
    "\\\\\n",
    "\n",
    "& LOF_{3}(i) = (lrd_{3}(g)+lrd_{3}(b)+lrd_{3}(a))\\cdot (reachdist_{3}(g\\leftarrow i)+reachdist_{3}(b\\leftarrow i)+reachdist_{3}(a\\leftarrow i)) \\\\\n",
    "& LOF_{3}(i) = (0,1553+0,1773+0,3642)\\cdot (\\sqrt{44}+\\sqrt{54}+\\sqrt{56}) = 14,9568\\\\\n",
    "\n",
    "\\\\\n",
    "\n",
    "& LOF_{3}(j) = (lrd_{3}(d)+lrd_{3}(h)+lrd_{3}(a))\\cdot (reachdist_{3}(d\\leftarrow j)+reachdist_{3}(h\\leftarrow j)+reachdist_{3}(a\\leftarrow j)) \\\\\n",
    "& LOF_{3}(j) = (0,3333+0,3642+0,3642)\\cdot (\\sqrt{5}+\\sqrt{9}+\\sqrt{9}) = 8,7442\n",
    "\n",
    "\\end{aligned}\n",
    "$$\n"
   ]
  },
  {
   "block_group": "f8ee6691574b47f58d28cc5ec9080ebb",
   "cell_type": "markdown",
   "metadata": {
    "cell_id": "9287e26c012f49f981e98d0bd69a18ea",
    "deepnote_cell_type": "markdown"
   },
   "source": [
    "Mengurutkan semua $ LOF_{k}(o) $"
   ]
  },
  {
   "block_group": "24d129eeb7ba45238da6a9c6a045f2ee",
   "cell_type": "markdown",
   "metadata": {
    "cell_id": "a6ec2b2ed63d43878465636e347beded",
    "deepnote_cell_type": "markdown"
   },
   "source": [
    "$$\n",
    "\\begin{aligned}\n",
    "\n",
    "& \\text{Urutan terurut adalah:}\\\\\n",
    "& LOF_{3}(f) = 20,7466\\\\\n",
    "& LOF_{3}(e) = 19,6647\\\\\n",
    "& LOF_{3}(b) = 17,9548\\\\\n",
    "& LOF_{3}(c) = 15,6064\\\\\n",
    "& LOF_{3}(i) = 14,9568\\\\\n",
    "& LOF_{3}(g) = 13,0120\\\\\n",
    "& LOF_{3}(d) = 9,8334\\\\\n",
    "& LOF_{3}(a) = 8,7442\\\\\n",
    "& LOF_{3}(h) = 8,7442\\\\\n",
    "& LOF_{3}(j) = 8,7442\\\\\n",
    "& \\text{Maka, outlier teratas adalah titik f dan e.}\n",
    "\n",
    "\\end{aligned}\n",
    "$$"
   ]
  },
  {
   "block_group": "bf0ec4a362ce4e75a3f7805f2a577435",
   "cell_type": "markdown",
   "metadata": {
    "cell_id": "5af3111daadf4fddbf703d981ab93531",
    "deepnote_cell_type": "text-cell-p",
    "formattedRanges": []
   },
   "source": [
    "Berdasarkan penghitungan Local Outlier Factor (LOF) secara manual, diperoleh urutan terurut LOF scores dari data ‘f’ yang memiliki nilai LOF tertinggi sebesar 20, 7466, diikuti oleh data ‘e’ dengan nilai LOF sebesar 19, 6647. Data ‘f’ dan ‘e’ diidentifikasi sebagai outlier karena memiliki nilai LOF yang signifikan lebih tinggi dibandingkan dengan nilai LOF dari data lainnya dalam dataset."
   ]
  },
  {
   "block_group": "beb960903608483b8d1fad58f9206c86",
   "cell_type": "markdown",
   "metadata": {
    "cell_id": "9f443a6bec8c48f5bbf8035f60089580",
    "deepnote_app_block_visible": false,
    "deepnote_cell_type": "text-cell-h2",
    "formattedRanges": [],
    "is_collapsed": false
   },
   "source": [
    "## Menghitung Local Outlier Factor (LOF) menggunakan python (Scikit Learn)"
   ]
  },
  {
   "block_group": "2f34bc9ba88c4a52ac4f390b87f2b196",
   "cell_type": "markdown",
   "metadata": {
    "cell_id": "8f065c0074f24c59a1af5d76fddc82d5",
    "deepnote_cell_type": "text-cell-p",
    "formattedRanges": []
   },
   "source": [
    "Mengimpor library yang diperlukan untuk proses perhitungan LOF menggunakan python"
   ]
  },
  {
   "block_group": "1fd38491fc404bfaa5f3c19c34f27994",
   "cell_type": "code",
   "execution_count": 49,
   "metadata": {
    "cell_id": "a173cfda8fe14d2781193ea3dee52679",
    "deepnote_cell_type": "code",
    "deepnote_to_be_reexecuted": false,
    "execution_millis": 119,
    "execution_start": 1711581543305,
    "source_hash": "8806c8ea"
   },
   "outputs": [],
   "outputs_reference": null,
   "source": [
    "from sklearn.neighbors import LocalOutlierFactor\n",
    "import numpy as np"
   ]
  },
  {
   "block_group": "69a51b890a104d7b8e208e2e84f96fba",
   "cell_type": "markdown",
   "metadata": {
    "cell_id": "a88c7f3dcfc44c2d8887762d91269a89",
    "deepnote_cell_type": "text-cell-p",
    "formattedRanges": []
   },
   "source": [
    "Data yang akan dihitung dimasukkan ke dalam variabel x untuk ditentukan prediksinya. Jumlah tetangga terdekat yang digunakan ada 3 dengan nilai contamination 0.2 atau data outlier yang akan diambil dari seluruh data x adalah sebesar 20%. Menampilkan tabel prediksi dan scores negative LOF dari setiap data x."
   ]
  },
  {
   "block_group": "feb5d815c2e34a1db5bdd94dcf4a6a26",
   "cell_type": "code",
   "execution_count": 50,
   "metadata": {
    "cell_id": "52fc17d0bec74d49976ecbf1df7593d7",
    "deepnote_cell_type": "code",
    "deepnote_to_be_reexecuted": false,
    "execution_millis": 48,
    "execution_start": 1711581555134,
    "source_hash": "4abc5bfe"
   },
   "outputs": [
    {
     "name": "stdout",
     "output_type": "stream",
     "text": [
      "Predicted table: [ 1  1  1  1 -1 -1  1  1  1  1]\n",
      "Negative LOF scores: [0.97170622 1.99523805 1.73430281 1.09275446 2.18562708 2.30657025\n",
      " 1.44617866 0.97170622 1.66228124 0.97170622]\n"
     ]
    }
   ],
   "outputs_reference": "dbtable:cell_outputs/07d7cca8-abea-460c-bd85-af00f79e3522",
   "source": [
    "X = [[2, 8, 5],\n",
    "    [8, 9, 4],\n",
    "    [1, 3, 6],\n",
    "    [2, 8, 3], \n",
    "    [18, 12, 22], \n",
    "    [24, 10, 4], \n",
    "    [4, 4, 9], \n",
    "    [4, 7, 3], \n",
    "    [6, 10, 11], \n",
    "    [2, 8, 2]] \n",
    "    \n",
    "lof = LocalOutlierFactor(n_neighbors=3, contamination=0.2)\n",
    "\n",
    "y_pred = lof.fit_predict(X)\n",
    "\n",
    "print(\"Predicted table:\", y_pred)\n",
    "print(\"Negative LOF scores:\", -lof.negative_outlier_factor_)"
   ]
  },
  {
   "block_group": "13352f8efb274976b8fa8bb22f482d3e",
   "cell_type": "markdown",
   "metadata": {
    "cell_id": "4fe392b8ea8d4a3883e143d30d4ef228",
    "deepnote_cell_type": "text-cell-p",
    "formattedRanges": []
   },
   "source": [
    "Berdasarkan perhitungan LOF menggunakan python, maka outlier teratas adalah data pada index ke-4 dan 5"
   ]
  },
  {
   "block_group": "ce8db2e20a6144d8b24a379cf989201f",
   "cell_type": "markdown",
   "metadata": {
    "cell_id": "52daecd14d284fd2aec0796e14fbffea",
    "deepnote_cell_type": "text-cell-h2",
    "formattedRanges": []
   },
   "source": [
    "## Implementasi pada dataset iris"
   ]
  },
  {
   "block_group": "37a6b8b24e4b422e88dd5d00a9e112f0",
   "cell_type": "markdown",
   "metadata": {
    "cell_id": "cb4e65afecfa42669d95003abb455f6c",
    "deepnote_cell_type": "text-cell-p",
    "formattedRanges": []
   },
   "source": [
    "Pengambilan data tabel lof_iris dari database MySQL yang disimpan sebagai df_5"
   ]
  },
  {
   "block_group": "e46f2d6115d2411f9c8323da247ebcaa",
   "cell_type": "code",
   "execution_count": 51,
   "metadata": {
    "cell_id": "be76c11a1d1a4b0b9f0d6391ea6dad57",
    "deepnote_cell_type": "sql",
    "deepnote_sql_source": "SELECT * FROM lof_iris;",
    "deepnote_to_be_reexecuted": false,
    "deepnote_variable_name": "df_5",
    "execution_millis": 3119,
    "execution_start": 1711581574125,
    "source_hash": "581dd4bf",
    "sql_integration_id": "e0cde1ba-8707-4487-b543-e6f453ce52e0"
   },
   "outputs": [
    {
     "data": {
      "application/vnd.deepnote.sql-output-metadata+json": {
       "size_in_bytes": 3728,
       "status": "success_no_cache"
      }
     },
     "metadata": {},
     "output_type": "display_data"
    },
    {
     "data": {
      "application/vnd.deepnote.dataframe.v3+json": {
       "column_count": 3,
       "columns": [
        {
         "dtype": "int64",
         "name": "Id",
         "stats": {
          "histogram": [
           {
            "bin_end": 15.9,
            "bin_start": 1,
            "count": 15
           },
           {
            "bin_end": 30.8,
            "bin_start": 15.9,
            "count": 15
           },
           {
            "bin_end": 45.7,
            "bin_start": 30.8,
            "count": 15
           },
           {
            "bin_end": 60.6,
            "bin_start": 45.7,
            "count": 15
           },
           {
            "bin_end": 75.5,
            "bin_start": 60.6,
            "count": 15
           },
           {
            "bin_end": 90.4,
            "bin_start": 75.5,
            "count": 15
           },
           {
            "bin_end": 105.3,
            "bin_start": 90.4,
            "count": 15
           },
           {
            "bin_end": 120.2,
            "bin_start": 105.3,
            "count": 15
           },
           {
            "bin_end": 135.1,
            "bin_start": 120.2,
            "count": 15
           },
           {
            "bin_end": 150,
            "bin_start": 135.1,
            "count": 15
           }
          ],
          "max": "150",
          "min": "1",
          "nan_count": 0,
          "unique_count": 150
         }
        },
        {
         "dtype": "float64",
         "name": "SepalLengthCm",
         "stats": {
          "histogram": [
           {
            "bin_end": 5.369999999999999,
            "bin_start": 4.3,
            "count": 45
           },
           {
            "bin_end": 6.4399999999999995,
            "bin_start": 5.369999999999999,
            "count": 69
           },
           {
            "bin_end": 7.51,
            "bin_start": 6.4399999999999995,
            "count": 28
           },
           {
            "bin_end": 8.579999999999998,
            "bin_start": 7.51,
            "count": 6
           },
           {
            "bin_end": 9.649999999999999,
            "bin_start": 8.579999999999998,
            "count": 0
           },
           {
            "bin_end": 10.719999999999999,
            "bin_start": 9.649999999999999,
            "count": 0
           },
           {
            "bin_end": 11.79,
            "bin_start": 10.719999999999999,
            "count": 0
           },
           {
            "bin_end": 12.86,
            "bin_start": 11.79,
            "count": 0
           },
           {
            "bin_end": 13.93,
            "bin_start": 12.86,
            "count": 0
           },
           {
            "bin_end": 15,
            "bin_start": 13.93,
            "count": 2
           }
          ],
          "max": "15.0",
          "min": "4.3",
          "nan_count": 0,
          "unique_count": 36
         }
        },
        {
         "dtype": "float64",
         "name": "SepalWidthCm",
         "stats": {
          "histogram": [
           {
            "bin_end": 3.3,
            "bin_start": 2,
            "count": 107
           },
           {
            "bin_end": 4.6,
            "bin_start": 3.3,
            "count": 42
           },
           {
            "bin_end": 5.9,
            "bin_start": 4.6,
            "count": 0
           },
           {
            "bin_end": 7.2,
            "bin_start": 5.9,
            "count": 0
           },
           {
            "bin_end": 8.5,
            "bin_start": 7.2,
            "count": 0
           },
           {
            "bin_end": 9.8,
            "bin_start": 8.5,
            "count": 0
           },
           {
            "bin_end": 11.1,
            "bin_start": 9.8,
            "count": 0
           },
           {
            "bin_end": 12.4,
            "bin_start": 11.1,
            "count": 0
           },
           {
            "bin_end": 13.700000000000001,
            "bin_start": 12.4,
            "count": 0
           },
           {
            "bin_end": 15,
            "bin_start": 13.700000000000001,
            "count": 1
           }
          ],
          "max": "15.0",
          "min": "2.0",
          "nan_count": 0,
          "unique_count": 24
         }
        },
        {
         "dtype": "int64",
         "name": "_deepnote_index_column"
        }
       ],
       "row_count": 150,
       "rows": [
        {
         "Id": 1,
         "SepalLengthCm": 5.1,
         "SepalWidthCm": 3.5,
         "_deepnote_index_column": 0
        },
        {
         "Id": 2,
         "SepalLengthCm": 4.9,
         "SepalWidthCm": 3,
         "_deepnote_index_column": 1
        },
        {
         "Id": 3,
         "SepalLengthCm": 4.7,
         "SepalWidthCm": 3.2,
         "_deepnote_index_column": 2
        },
        {
         "Id": 4,
         "SepalLengthCm": 4.6,
         "SepalWidthCm": 3.1,
         "_deepnote_index_column": 3
        },
        {
         "Id": 5,
         "SepalLengthCm": 5,
         "SepalWidthCm": 3.6,
         "_deepnote_index_column": 4
        },
        {
         "Id": 6,
         "SepalLengthCm": 5.4,
         "SepalWidthCm": 3.9,
         "_deepnote_index_column": 5
        },
        {
         "Id": 7,
         "SepalLengthCm": 4.6,
         "SepalWidthCm": 3.4,
         "_deepnote_index_column": 6
        },
        {
         "Id": 8,
         "SepalLengthCm": 5,
         "SepalWidthCm": 3.4,
         "_deepnote_index_column": 7
        },
        {
         "Id": 9,
         "SepalLengthCm": 4.4,
         "SepalWidthCm": 2.9,
         "_deepnote_index_column": 8
        },
        {
         "Id": 10,
         "SepalLengthCm": 4.9,
         "SepalWidthCm": 3.1,
         "_deepnote_index_column": 9
        }
       ]
      },
      "text/html": [
       "<div>\n",
       "<style scoped>\n",
       "    .dataframe tbody tr th:only-of-type {\n",
       "        vertical-align: middle;\n",
       "    }\n",
       "\n",
       "    .dataframe tbody tr th {\n",
       "        vertical-align: top;\n",
       "    }\n",
       "\n",
       "    .dataframe thead th {\n",
       "        text-align: right;\n",
       "    }\n",
       "</style>\n",
       "<table border=\"1\" class=\"dataframe\">\n",
       "  <thead>\n",
       "    <tr style=\"text-align: right;\">\n",
       "      <th></th>\n",
       "      <th>Id</th>\n",
       "      <th>SepalLengthCm</th>\n",
       "      <th>SepalWidthCm</th>\n",
       "    </tr>\n",
       "  </thead>\n",
       "  <tbody>\n",
       "    <tr>\n",
       "      <th>0</th>\n",
       "      <td>1</td>\n",
       "      <td>5.1</td>\n",
       "      <td>3.5</td>\n",
       "    </tr>\n",
       "    <tr>\n",
       "      <th>1</th>\n",
       "      <td>2</td>\n",
       "      <td>4.9</td>\n",
       "      <td>3.0</td>\n",
       "    </tr>\n",
       "    <tr>\n",
       "      <th>2</th>\n",
       "      <td>3</td>\n",
       "      <td>4.7</td>\n",
       "      <td>3.2</td>\n",
       "    </tr>\n",
       "    <tr>\n",
       "      <th>3</th>\n",
       "      <td>4</td>\n",
       "      <td>4.6</td>\n",
       "      <td>3.1</td>\n",
       "    </tr>\n",
       "    <tr>\n",
       "      <th>4</th>\n",
       "      <td>5</td>\n",
       "      <td>5.0</td>\n",
       "      <td>3.6</td>\n",
       "    </tr>\n",
       "    <tr>\n",
       "      <th>...</th>\n",
       "      <td>...</td>\n",
       "      <td>...</td>\n",
       "      <td>...</td>\n",
       "    </tr>\n",
       "    <tr>\n",
       "      <th>145</th>\n",
       "      <td>146</td>\n",
       "      <td>6.7</td>\n",
       "      <td>3.0</td>\n",
       "    </tr>\n",
       "    <tr>\n",
       "      <th>146</th>\n",
       "      <td>147</td>\n",
       "      <td>6.3</td>\n",
       "      <td>2.5</td>\n",
       "    </tr>\n",
       "    <tr>\n",
       "      <th>147</th>\n",
       "      <td>148</td>\n",
       "      <td>6.5</td>\n",
       "      <td>3.0</td>\n",
       "    </tr>\n",
       "    <tr>\n",
       "      <th>148</th>\n",
       "      <td>149</td>\n",
       "      <td>6.2</td>\n",
       "      <td>3.4</td>\n",
       "    </tr>\n",
       "    <tr>\n",
       "      <th>149</th>\n",
       "      <td>150</td>\n",
       "      <td>5.9</td>\n",
       "      <td>3.0</td>\n",
       "    </tr>\n",
       "  </tbody>\n",
       "</table>\n",
       "<p>150 rows × 3 columns</p>\n",
       "</div>"
      ],
      "text/plain": [
       "      Id  SepalLengthCm  SepalWidthCm\n",
       "0      1            5.1           3.5\n",
       "1      2            4.9           3.0\n",
       "2      3            4.7           3.2\n",
       "3      4            4.6           3.1\n",
       "4      5            5.0           3.6\n",
       "..   ...            ...           ...\n",
       "145  146            6.7           3.0\n",
       "146  147            6.3           2.5\n",
       "147  148            6.5           3.0\n",
       "148  149            6.2           3.4\n",
       "149  150            5.9           3.0\n",
       "\n",
       "[150 rows x 3 columns]"
      ]
     },
     "execution_count": 51,
     "metadata": {},
     "output_type": "execute_result"
    }
   ],
   "outputs_reference": "s3:deepnote-cell-outputs-production/a96fb2a9-cc2b-425b-8170-c43df03620f1",
   "source": [
    "df_5 = _deepnote_execute_sql('SELECT * FROM lof_iris;', 'SQL_E0CDE1BA_8707_4487_B543_E6F453CE52E0', audit_sql_comment='', sql_cache_mode='cache_disabled')\n",
    "df_5"
   ]
  },
  {
   "block_group": "8e435687783a4542bf93db3c329030f9",
   "cell_type": "markdown",
   "metadata": {
    "cell_id": "81795b0d7b124a5eae2b57457e39358e",
    "deepnote_cell_type": "text-cell-p",
    "formattedRanges": []
   },
   "source": [
    "Pengambilan data tabel lof_iris dari database PostgreSQL yang disimpan sebagai df_6"
   ]
  },
  {
   "block_group": "e54345c974e0413e88b6012c1c9855c1",
   "cell_type": "code",
   "execution_count": 52,
   "metadata": {
    "cell_id": "1902915415a042f08e448d02e32be4bf",
    "deepnote_cell_type": "sql",
    "deepnote_sql_source": "SELECT * FROM lof_iris;",
    "deepnote_to_be_reexecuted": false,
    "deepnote_variable_name": "df_6",
    "execution_millis": 3774,
    "execution_start": 1711581602288,
    "source_hash": "80e19d60",
    "sql_integration_id": "db120e07-2091-462d-9417-e0974c1a18a0"
   },
   "outputs": [
    {
     "data": {
      "application/vnd.deepnote.sql-output-metadata+json": {
       "size_in_bytes": 14278,
       "status": "success_no_cache"
      }
     },
     "metadata": {},
     "output_type": "display_data"
    },
    {
     "data": {
      "application/vnd.deepnote.dataframe.v3+json": {
       "column_count": 4,
       "columns": [
        {
         "dtype": "int64",
         "name": "Id",
         "stats": {
          "histogram": [
           {
            "bin_end": 15.9,
            "bin_start": 1,
            "count": 15
           },
           {
            "bin_end": 30.8,
            "bin_start": 15.9,
            "count": 15
           },
           {
            "bin_end": 45.7,
            "bin_start": 30.8,
            "count": 15
           },
           {
            "bin_end": 60.6,
            "bin_start": 45.7,
            "count": 15
           },
           {
            "bin_end": 75.5,
            "bin_start": 60.6,
            "count": 15
           },
           {
            "bin_end": 90.4,
            "bin_start": 75.5,
            "count": 15
           },
           {
            "bin_end": 105.3,
            "bin_start": 90.4,
            "count": 15
           },
           {
            "bin_end": 120.2,
            "bin_start": 105.3,
            "count": 15
           },
           {
            "bin_end": 135.1,
            "bin_start": 120.2,
            "count": 15
           },
           {
            "bin_end": 150,
            "bin_start": 135.1,
            "count": 15
           }
          ],
          "max": "150",
          "min": "1",
          "nan_count": 0,
          "unique_count": 150
         }
        },
        {
         "dtype": "float64",
         "name": "PetalLengthCm",
         "stats": {
          "histogram": [
           {
            "bin_end": 2.4,
            "bin_start": 1,
            "count": 49
           },
           {
            "bin_end": 3.8,
            "bin_start": 2.4,
            "count": 7
           },
           {
            "bin_end": 5.199999999999999,
            "bin_start": 3.8,
            "count": 59
           },
           {
            "bin_end": 6.6,
            "bin_start": 5.199999999999999,
            "count": 29
           },
           {
            "bin_end": 8,
            "bin_start": 6.6,
            "count": 4
           },
           {
            "bin_end": 9.399999999999999,
            "bin_start": 8,
            "count": 0
           },
           {
            "bin_end": 10.799999999999999,
            "bin_start": 9.399999999999999,
            "count": 0
           },
           {
            "bin_end": 12.2,
            "bin_start": 10.799999999999999,
            "count": 0
           },
           {
            "bin_end": 13.6,
            "bin_start": 12.2,
            "count": 0
           },
           {
            "bin_end": 15,
            "bin_start": 13.6,
            "count": 2
           }
          ],
          "max": "15.0",
          "min": "1.0",
          "nan_count": 0,
          "unique_count": 44
         }
        },
        {
         "dtype": "float64",
         "name": "PetalWidthCm",
         "stats": {
          "histogram": [
           {
            "bin_end": 1.59,
            "bin_start": 0.1,
            "count": 97
           },
           {
            "bin_end": 3.08,
            "bin_start": 1.59,
            "count": 52
           },
           {
            "bin_end": 4.569999999999999,
            "bin_start": 3.08,
            "count": 0
           },
           {
            "bin_end": 6.06,
            "bin_start": 4.569999999999999,
            "count": 0
           },
           {
            "bin_end": 7.55,
            "bin_start": 6.06,
            "count": 0
           },
           {
            "bin_end": 9.04,
            "bin_start": 7.55,
            "count": 0
           },
           {
            "bin_end": 10.53,
            "bin_start": 9.04,
            "count": 0
           },
           {
            "bin_end": 12.02,
            "bin_start": 10.53,
            "count": 0
           },
           {
            "bin_end": 13.51,
            "bin_start": 12.02,
            "count": 0
           },
           {
            "bin_end": 15,
            "bin_start": 13.51,
            "count": 1
           }
          ],
          "max": "15.0",
          "min": "0.1",
          "nan_count": 0,
          "unique_count": 23
         }
        },
        {
         "dtype": "object",
         "name": "Species",
         "stats": {
          "categories": [
           {
            "count": 50,
            "name": "Iris-setosa"
           },
           {
            "count": 50,
            "name": "Iris-versicolor"
           },
           {
            "count": 50,
            "name": "Iris-virginica"
           }
          ],
          "nan_count": 0,
          "unique_count": 3
         }
        },
        {
         "dtype": "int64",
         "name": "_deepnote_index_column"
        }
       ],
       "row_count": 150,
       "rows": [
        {
         "Id": 1,
         "PetalLengthCm": 1.4,
         "PetalWidthCm": 0.2,
         "Species": "Iris-setosa",
         "_deepnote_index_column": 0
        },
        {
         "Id": 2,
         "PetalLengthCm": 1.4,
         "PetalWidthCm": 0.2,
         "Species": "Iris-setosa",
         "_deepnote_index_column": 1
        },
        {
         "Id": 3,
         "PetalLengthCm": 1.3,
         "PetalWidthCm": 0.2,
         "Species": "Iris-setosa",
         "_deepnote_index_column": 2
        },
        {
         "Id": 4,
         "PetalLengthCm": 1.5,
         "PetalWidthCm": 0.2,
         "Species": "Iris-setosa",
         "_deepnote_index_column": 3
        },
        {
         "Id": 5,
         "PetalLengthCm": 1.4,
         "PetalWidthCm": 0.2,
         "Species": "Iris-setosa",
         "_deepnote_index_column": 4
        },
        {
         "Id": 6,
         "PetalLengthCm": 1.7,
         "PetalWidthCm": 0.4,
         "Species": "Iris-setosa",
         "_deepnote_index_column": 5
        },
        {
         "Id": 7,
         "PetalLengthCm": 1.4,
         "PetalWidthCm": 0.3,
         "Species": "Iris-setosa",
         "_deepnote_index_column": 6
        },
        {
         "Id": 8,
         "PetalLengthCm": 1.5,
         "PetalWidthCm": 0.2,
         "Species": "Iris-setosa",
         "_deepnote_index_column": 7
        },
        {
         "Id": 9,
         "PetalLengthCm": 1.4,
         "PetalWidthCm": 0.2,
         "Species": "Iris-setosa",
         "_deepnote_index_column": 8
        },
        {
         "Id": 10,
         "PetalLengthCm": 1.5,
         "PetalWidthCm": 0.1,
         "Species": "Iris-setosa",
         "_deepnote_index_column": 9
        }
       ]
      },
      "text/html": [
       "<div>\n",
       "<style scoped>\n",
       "    .dataframe tbody tr th:only-of-type {\n",
       "        vertical-align: middle;\n",
       "    }\n",
       "\n",
       "    .dataframe tbody tr th {\n",
       "        vertical-align: top;\n",
       "    }\n",
       "\n",
       "    .dataframe thead th {\n",
       "        text-align: right;\n",
       "    }\n",
       "</style>\n",
       "<table border=\"1\" class=\"dataframe\">\n",
       "  <thead>\n",
       "    <tr style=\"text-align: right;\">\n",
       "      <th></th>\n",
       "      <th>Id</th>\n",
       "      <th>PetalLengthCm</th>\n",
       "      <th>PetalWidthCm</th>\n",
       "      <th>Species</th>\n",
       "    </tr>\n",
       "  </thead>\n",
       "  <tbody>\n",
       "    <tr>\n",
       "      <th>0</th>\n",
       "      <td>1</td>\n",
       "      <td>1.4</td>\n",
       "      <td>0.2</td>\n",
       "      <td>Iris-setosa</td>\n",
       "    </tr>\n",
       "    <tr>\n",
       "      <th>1</th>\n",
       "      <td>2</td>\n",
       "      <td>1.4</td>\n",
       "      <td>0.2</td>\n",
       "      <td>Iris-setosa</td>\n",
       "    </tr>\n",
       "    <tr>\n",
       "      <th>2</th>\n",
       "      <td>3</td>\n",
       "      <td>1.3</td>\n",
       "      <td>0.2</td>\n",
       "      <td>Iris-setosa</td>\n",
       "    </tr>\n",
       "    <tr>\n",
       "      <th>3</th>\n",
       "      <td>4</td>\n",
       "      <td>1.5</td>\n",
       "      <td>0.2</td>\n",
       "      <td>Iris-setosa</td>\n",
       "    </tr>\n",
       "    <tr>\n",
       "      <th>4</th>\n",
       "      <td>5</td>\n",
       "      <td>1.4</td>\n",
       "      <td>0.2</td>\n",
       "      <td>Iris-setosa</td>\n",
       "    </tr>\n",
       "    <tr>\n",
       "      <th>...</th>\n",
       "      <td>...</td>\n",
       "      <td>...</td>\n",
       "      <td>...</td>\n",
       "      <td>...</td>\n",
       "    </tr>\n",
       "    <tr>\n",
       "      <th>145</th>\n",
       "      <td>148</td>\n",
       "      <td>5.2</td>\n",
       "      <td>2.0</td>\n",
       "      <td>Iris-virginica</td>\n",
       "    </tr>\n",
       "    <tr>\n",
       "      <th>146</th>\n",
       "      <td>149</td>\n",
       "      <td>5.4</td>\n",
       "      <td>2.3</td>\n",
       "      <td>Iris-virginica</td>\n",
       "    </tr>\n",
       "    <tr>\n",
       "      <th>147</th>\n",
       "      <td>150</td>\n",
       "      <td>5.1</td>\n",
       "      <td>1.8</td>\n",
       "      <td>Iris-virginica</td>\n",
       "    </tr>\n",
       "    <tr>\n",
       "      <th>148</th>\n",
       "      <td>25</td>\n",
       "      <td>15.0</td>\n",
       "      <td>0.2</td>\n",
       "      <td>Iris-setosa</td>\n",
       "    </tr>\n",
       "    <tr>\n",
       "      <th>149</th>\n",
       "      <td>141</td>\n",
       "      <td>15.0</td>\n",
       "      <td>2.4</td>\n",
       "      <td>Iris-virginica</td>\n",
       "    </tr>\n",
       "  </tbody>\n",
       "</table>\n",
       "<p>150 rows × 4 columns</p>\n",
       "</div>"
      ],
      "text/plain": [
       "      Id  PetalLengthCm  PetalWidthCm         Species\n",
       "0      1            1.4           0.2     Iris-setosa\n",
       "1      2            1.4           0.2     Iris-setosa\n",
       "2      3            1.3           0.2     Iris-setosa\n",
       "3      4            1.5           0.2     Iris-setosa\n",
       "4      5            1.4           0.2     Iris-setosa\n",
       "..   ...            ...           ...             ...\n",
       "145  148            5.2           2.0  Iris-virginica\n",
       "146  149            5.4           2.3  Iris-virginica\n",
       "147  150            5.1           1.8  Iris-virginica\n",
       "148   25           15.0           0.2     Iris-setosa\n",
       "149  141           15.0           2.4  Iris-virginica\n",
       "\n",
       "[150 rows x 4 columns]"
      ]
     },
     "execution_count": 52,
     "metadata": {},
     "output_type": "execute_result"
    }
   ],
   "outputs_reference": "s3:deepnote-cell-outputs-production/505b6d2e-e17e-4893-8f43-af124a2f0c68",
   "source": [
    "df_6 = _deepnote_execute_sql('SELECT * FROM lof_iris;', 'SQL_DB120E07_2091_462D_9417_E0974C1A18A0', audit_sql_comment='', sql_cache_mode='cache_disabled')\n",
    "df_6"
   ]
  },
  {
   "block_group": "5845234d4c7943ab91e768d1142065fc",
   "cell_type": "markdown",
   "metadata": {
    "cell_id": "a056d2f1f4f24df08d621569a0d04744",
    "deepnote_cell_type": "text-cell-p",
    "formattedRanges": []
   },
   "source": [
    "Proses penggabungan 2 dataframe yang berasal dari 2 database yang berbeda kemudian disimpan dalam datafram bernama df_lof"
   ]
  },
  {
   "block_group": "5938feebaf61440eb467ea543667b85b",
   "cell_type": "code",
   "execution_count": 53,
   "metadata": {
    "cell_id": "6e49b9c6015b46f58acb05b613ed7447",
    "deepnote_cell_type": "code",
    "deepnote_table_loading": false,
    "deepnote_table_state": {
     "filters": [],
     "pageIndex": 0,
     "pageSize": 10,
     "sortBy": []
    },
    "deepnote_to_be_reexecuted": false,
    "execution_millis": 312,
    "execution_start": 1711581626563,
    "source_hash": "3fa71343"
   },
   "outputs": [
    {
     "data": {
      "application/vnd.deepnote.dataframe.v3+json": {
       "column_count": 6,
       "columns": [
        {
         "dtype": "int64",
         "name": "Id",
         "stats": {
          "histogram": [
           {
            "bin_end": 15.9,
            "bin_start": 1,
            "count": 15
           },
           {
            "bin_end": 30.8,
            "bin_start": 15.9,
            "count": 15
           },
           {
            "bin_end": 45.7,
            "bin_start": 30.8,
            "count": 15
           },
           {
            "bin_end": 60.6,
            "bin_start": 45.7,
            "count": 15
           },
           {
            "bin_end": 75.5,
            "bin_start": 60.6,
            "count": 15
           },
           {
            "bin_end": 90.4,
            "bin_start": 75.5,
            "count": 15
           },
           {
            "bin_end": 105.3,
            "bin_start": 90.4,
            "count": 15
           },
           {
            "bin_end": 120.2,
            "bin_start": 105.3,
            "count": 15
           },
           {
            "bin_end": 135.1,
            "bin_start": 120.2,
            "count": 15
           },
           {
            "bin_end": 150,
            "bin_start": 135.1,
            "count": 15
           }
          ],
          "max": "150",
          "min": "1",
          "nan_count": 0,
          "unique_count": 150
         }
        },
        {
         "dtype": "float64",
         "name": "SepalLengthCm",
         "stats": {
          "histogram": [
           {
            "bin_end": 5.369999999999999,
            "bin_start": 4.3,
            "count": 45
           },
           {
            "bin_end": 6.4399999999999995,
            "bin_start": 5.369999999999999,
            "count": 69
           },
           {
            "bin_end": 7.51,
            "bin_start": 6.4399999999999995,
            "count": 28
           },
           {
            "bin_end": 8.579999999999998,
            "bin_start": 7.51,
            "count": 6
           },
           {
            "bin_end": 9.649999999999999,
            "bin_start": 8.579999999999998,
            "count": 0
           },
           {
            "bin_end": 10.719999999999999,
            "bin_start": 9.649999999999999,
            "count": 0
           },
           {
            "bin_end": 11.79,
            "bin_start": 10.719999999999999,
            "count": 0
           },
           {
            "bin_end": 12.86,
            "bin_start": 11.79,
            "count": 0
           },
           {
            "bin_end": 13.93,
            "bin_start": 12.86,
            "count": 0
           },
           {
            "bin_end": 15,
            "bin_start": 13.93,
            "count": 2
           }
          ],
          "max": "15.0",
          "min": "4.3",
          "nan_count": 0,
          "unique_count": 36
         }
        },
        {
         "dtype": "float64",
         "name": "SepalWidthCm",
         "stats": {
          "histogram": [
           {
            "bin_end": 3.3,
            "bin_start": 2,
            "count": 107
           },
           {
            "bin_end": 4.6,
            "bin_start": 3.3,
            "count": 42
           },
           {
            "bin_end": 5.9,
            "bin_start": 4.6,
            "count": 0
           },
           {
            "bin_end": 7.2,
            "bin_start": 5.9,
            "count": 0
           },
           {
            "bin_end": 8.5,
            "bin_start": 7.2,
            "count": 0
           },
           {
            "bin_end": 9.8,
            "bin_start": 8.5,
            "count": 0
           },
           {
            "bin_end": 11.1,
            "bin_start": 9.8,
            "count": 0
           },
           {
            "bin_end": 12.4,
            "bin_start": 11.1,
            "count": 0
           },
           {
            "bin_end": 13.700000000000001,
            "bin_start": 12.4,
            "count": 0
           },
           {
            "bin_end": 15,
            "bin_start": 13.700000000000001,
            "count": 1
           }
          ],
          "max": "15.0",
          "min": "2.0",
          "nan_count": 0,
          "unique_count": 24
         }
        },
        {
         "dtype": "float64",
         "name": "PetalLengthCm",
         "stats": {
          "histogram": [
           {
            "bin_end": 2.4,
            "bin_start": 1,
            "count": 49
           },
           {
            "bin_end": 3.8,
            "bin_start": 2.4,
            "count": 7
           },
           {
            "bin_end": 5.199999999999999,
            "bin_start": 3.8,
            "count": 59
           },
           {
            "bin_end": 6.6,
            "bin_start": 5.199999999999999,
            "count": 29
           },
           {
            "bin_end": 8,
            "bin_start": 6.6,
            "count": 4
           },
           {
            "bin_end": 9.399999999999999,
            "bin_start": 8,
            "count": 0
           },
           {
            "bin_end": 10.799999999999999,
            "bin_start": 9.399999999999999,
            "count": 0
           },
           {
            "bin_end": 12.2,
            "bin_start": 10.799999999999999,
            "count": 0
           },
           {
            "bin_end": 13.6,
            "bin_start": 12.2,
            "count": 0
           },
           {
            "bin_end": 15,
            "bin_start": 13.6,
            "count": 2
           }
          ],
          "max": "15.0",
          "min": "1.0",
          "nan_count": 0,
          "unique_count": 44
         }
        },
        {
         "dtype": "float64",
         "name": "PetalWidthCm",
         "stats": {
          "histogram": [
           {
            "bin_end": 1.59,
            "bin_start": 0.1,
            "count": 97
           },
           {
            "bin_end": 3.08,
            "bin_start": 1.59,
            "count": 52
           },
           {
            "bin_end": 4.569999999999999,
            "bin_start": 3.08,
            "count": 0
           },
           {
            "bin_end": 6.06,
            "bin_start": 4.569999999999999,
            "count": 0
           },
           {
            "bin_end": 7.55,
            "bin_start": 6.06,
            "count": 0
           },
           {
            "bin_end": 9.04,
            "bin_start": 7.55,
            "count": 0
           },
           {
            "bin_end": 10.53,
            "bin_start": 9.04,
            "count": 0
           },
           {
            "bin_end": 12.02,
            "bin_start": 10.53,
            "count": 0
           },
           {
            "bin_end": 13.51,
            "bin_start": 12.02,
            "count": 0
           },
           {
            "bin_end": 15,
            "bin_start": 13.51,
            "count": 1
           }
          ],
          "max": "15.0",
          "min": "0.1",
          "nan_count": 0,
          "unique_count": 23
         }
        },
        {
         "dtype": "object",
         "name": "Species",
         "stats": {
          "categories": [
           {
            "count": 50,
            "name": "Iris-setosa"
           },
           {
            "count": 50,
            "name": "Iris-versicolor"
           },
           {
            "count": 50,
            "name": "Iris-virginica"
           }
          ],
          "nan_count": 0,
          "unique_count": 3
         }
        },
        {
         "dtype": "int64",
         "name": "_deepnote_index_column"
        }
       ],
       "row_count": 150,
       "rows": [
        {
         "Id": 1,
         "PetalLengthCm": 1.4,
         "PetalWidthCm": 0.2,
         "SepalLengthCm": 5.1,
         "SepalWidthCm": 3.5,
         "Species": "Iris-setosa",
         "_deepnote_index_column": 0
        },
        {
         "Id": 2,
         "PetalLengthCm": 1.4,
         "PetalWidthCm": 0.2,
         "SepalLengthCm": 4.9,
         "SepalWidthCm": 3,
         "Species": "Iris-setosa",
         "_deepnote_index_column": 1
        },
        {
         "Id": 3,
         "PetalLengthCm": 1.3,
         "PetalWidthCm": 0.2,
         "SepalLengthCm": 4.7,
         "SepalWidthCm": 3.2,
         "Species": "Iris-setosa",
         "_deepnote_index_column": 2
        },
        {
         "Id": 4,
         "PetalLengthCm": 1.5,
         "PetalWidthCm": 0.2,
         "SepalLengthCm": 4.6,
         "SepalWidthCm": 3.1,
         "Species": "Iris-setosa",
         "_deepnote_index_column": 3
        },
        {
         "Id": 5,
         "PetalLengthCm": 1.4,
         "PetalWidthCm": 0.2,
         "SepalLengthCm": 5,
         "SepalWidthCm": 3.6,
         "Species": "Iris-setosa",
         "_deepnote_index_column": 4
        },
        {
         "Id": 6,
         "PetalLengthCm": 1.7,
         "PetalWidthCm": 0.4,
         "SepalLengthCm": 5.4,
         "SepalWidthCm": 3.9,
         "Species": "Iris-setosa",
         "_deepnote_index_column": 5
        },
        {
         "Id": 7,
         "PetalLengthCm": 1.4,
         "PetalWidthCm": 0.3,
         "SepalLengthCm": 4.6,
         "SepalWidthCm": 3.4,
         "Species": "Iris-setosa",
         "_deepnote_index_column": 6
        },
        {
         "Id": 8,
         "PetalLengthCm": 1.5,
         "PetalWidthCm": 0.2,
         "SepalLengthCm": 5,
         "SepalWidthCm": 3.4,
         "Species": "Iris-setosa",
         "_deepnote_index_column": 7
        },
        {
         "Id": 9,
         "PetalLengthCm": 1.4,
         "PetalWidthCm": 0.2,
         "SepalLengthCm": 4.4,
         "SepalWidthCm": 2.9,
         "Species": "Iris-setosa",
         "_deepnote_index_column": 8
        },
        {
         "Id": 10,
         "PetalLengthCm": 1.5,
         "PetalWidthCm": 0.1,
         "SepalLengthCm": 4.9,
         "SepalWidthCm": 3.1,
         "Species": "Iris-setosa",
         "_deepnote_index_column": 9
        }
       ]
      },
      "text/html": [
       "<div>\n",
       "<style scoped>\n",
       "    .dataframe tbody tr th:only-of-type {\n",
       "        vertical-align: middle;\n",
       "    }\n",
       "\n",
       "    .dataframe tbody tr th {\n",
       "        vertical-align: top;\n",
       "    }\n",
       "\n",
       "    .dataframe thead th {\n",
       "        text-align: right;\n",
       "    }\n",
       "</style>\n",
       "<table border=\"1\" class=\"dataframe\">\n",
       "  <thead>\n",
       "    <tr style=\"text-align: right;\">\n",
       "      <th></th>\n",
       "      <th>Id</th>\n",
       "      <th>SepalLengthCm</th>\n",
       "      <th>SepalWidthCm</th>\n",
       "      <th>PetalLengthCm</th>\n",
       "      <th>PetalWidthCm</th>\n",
       "      <th>Species</th>\n",
       "    </tr>\n",
       "  </thead>\n",
       "  <tbody>\n",
       "    <tr>\n",
       "      <th>0</th>\n",
       "      <td>1</td>\n",
       "      <td>5.1</td>\n",
       "      <td>3.5</td>\n",
       "      <td>1.4</td>\n",
       "      <td>0.2</td>\n",
       "      <td>Iris-setosa</td>\n",
       "    </tr>\n",
       "    <tr>\n",
       "      <th>1</th>\n",
       "      <td>2</td>\n",
       "      <td>4.9</td>\n",
       "      <td>3.0</td>\n",
       "      <td>1.4</td>\n",
       "      <td>0.2</td>\n",
       "      <td>Iris-setosa</td>\n",
       "    </tr>\n",
       "    <tr>\n",
       "      <th>2</th>\n",
       "      <td>3</td>\n",
       "      <td>4.7</td>\n",
       "      <td>3.2</td>\n",
       "      <td>1.3</td>\n",
       "      <td>0.2</td>\n",
       "      <td>Iris-setosa</td>\n",
       "    </tr>\n",
       "    <tr>\n",
       "      <th>3</th>\n",
       "      <td>4</td>\n",
       "      <td>4.6</td>\n",
       "      <td>3.1</td>\n",
       "      <td>1.5</td>\n",
       "      <td>0.2</td>\n",
       "      <td>Iris-setosa</td>\n",
       "    </tr>\n",
       "    <tr>\n",
       "      <th>4</th>\n",
       "      <td>5</td>\n",
       "      <td>5.0</td>\n",
       "      <td>3.6</td>\n",
       "      <td>1.4</td>\n",
       "      <td>0.2</td>\n",
       "      <td>Iris-setosa</td>\n",
       "    </tr>\n",
       "    <tr>\n",
       "      <th>...</th>\n",
       "      <td>...</td>\n",
       "      <td>...</td>\n",
       "      <td>...</td>\n",
       "      <td>...</td>\n",
       "      <td>...</td>\n",
       "      <td>...</td>\n",
       "    </tr>\n",
       "    <tr>\n",
       "      <th>145</th>\n",
       "      <td>146</td>\n",
       "      <td>6.7</td>\n",
       "      <td>3.0</td>\n",
       "      <td>5.2</td>\n",
       "      <td>2.3</td>\n",
       "      <td>Iris-virginica</td>\n",
       "    </tr>\n",
       "    <tr>\n",
       "      <th>146</th>\n",
       "      <td>147</td>\n",
       "      <td>6.3</td>\n",
       "      <td>2.5</td>\n",
       "      <td>5.0</td>\n",
       "      <td>1.9</td>\n",
       "      <td>Iris-virginica</td>\n",
       "    </tr>\n",
       "    <tr>\n",
       "      <th>147</th>\n",
       "      <td>148</td>\n",
       "      <td>6.5</td>\n",
       "      <td>3.0</td>\n",
       "      <td>5.2</td>\n",
       "      <td>2.0</td>\n",
       "      <td>Iris-virginica</td>\n",
       "    </tr>\n",
       "    <tr>\n",
       "      <th>148</th>\n",
       "      <td>149</td>\n",
       "      <td>6.2</td>\n",
       "      <td>3.4</td>\n",
       "      <td>5.4</td>\n",
       "      <td>2.3</td>\n",
       "      <td>Iris-virginica</td>\n",
       "    </tr>\n",
       "    <tr>\n",
       "      <th>149</th>\n",
       "      <td>150</td>\n",
       "      <td>5.9</td>\n",
       "      <td>3.0</td>\n",
       "      <td>5.1</td>\n",
       "      <td>1.8</td>\n",
       "      <td>Iris-virginica</td>\n",
       "    </tr>\n",
       "  </tbody>\n",
       "</table>\n",
       "<p>150 rows × 6 columns</p>\n",
       "</div>"
      ],
      "text/plain": [
       "      Id  SepalLengthCm  SepalWidthCm  PetalLengthCm  PetalWidthCm  \\\n",
       "0      1            5.1           3.5            1.4           0.2   \n",
       "1      2            4.9           3.0            1.4           0.2   \n",
       "2      3            4.7           3.2            1.3           0.2   \n",
       "3      4            4.6           3.1            1.5           0.2   \n",
       "4      5            5.0           3.6            1.4           0.2   \n",
       "..   ...            ...           ...            ...           ...   \n",
       "145  146            6.7           3.0            5.2           2.3   \n",
       "146  147            6.3           2.5            5.0           1.9   \n",
       "147  148            6.5           3.0            5.2           2.0   \n",
       "148  149            6.2           3.4            5.4           2.3   \n",
       "149  150            5.9           3.0            5.1           1.8   \n",
       "\n",
       "            Species  \n",
       "0       Iris-setosa  \n",
       "1       Iris-setosa  \n",
       "2       Iris-setosa  \n",
       "3       Iris-setosa  \n",
       "4       Iris-setosa  \n",
       "..              ...  \n",
       "145  Iris-virginica  \n",
       "146  Iris-virginica  \n",
       "147  Iris-virginica  \n",
       "148  Iris-virginica  \n",
       "149  Iris-virginica  \n",
       "\n",
       "[150 rows x 6 columns]"
      ]
     },
     "execution_count": 53,
     "metadata": {},
     "output_type": "execute_result"
    }
   ],
   "outputs_reference": "s3:deepnote-cell-outputs-production/c67af188-7987-4130-b47b-b151218a399b",
   "source": [
    "df_lof = pd.merge(df_5, df_6, on='Id')\n",
    "df_lof.head(df_lof.shape[0])"
   ]
  },
  {
   "block_group": "3b0b975602d54bb0b3ee74862649d5a2",
   "cell_type": "markdown",
   "metadata": {
    "cell_id": "c4cdb384386c4a0ca88480e732065539",
    "deepnote_cell_type": "text-cell-p",
    "formattedRanges": []
   },
   "source": [
    "Import library yang diperlukan untuk menghitung LOF pada data iris"
   ]
  },
  {
   "block_group": "d1285a5ee36c4f9fa87b73afc1c94bc2",
   "cell_type": "code",
   "execution_count": 54,
   "metadata": {
    "cell_id": "a43796d069a14bb5bce1916fb339e6dd",
    "deepnote_cell_type": "code",
    "deepnote_to_be_reexecuted": false,
    "execution_millis": 96,
    "execution_start": 1711581653678,
    "source_hash": "50ff310"
   },
   "outputs": [],
   "outputs_reference": null,
   "source": [
    "import pandas as pd\n",
    "import numpy as np\n",
    "from sklearn.neighbors import LocalOutlierFactor"
   ]
  },
  {
   "block_group": "f57619fde4824cc4957bf3ec411ef336",
   "cell_type": "markdown",
   "metadata": {
    "cell_id": "0fb055a4ca8d442384cd7c5c17e53934",
    "deepnote_cell_type": "text-cell-p",
    "formattedRanges": []
   },
   "source": [
    "fitur_lof berisi kolom yang dipilih untuk perhitungan LOF. Membuat array numpy dari DataFrame dengan fitur_lof. Model LOF dibuat dengan parameter n_neighbors dan contamination yang ditentukan, kemudian dilakukan perhitungan LOF pada data. Skor outlier dihitung dan ditambahkan ke DataFrame sebagai kolom baru."
   ]
  },
  {
   "block_group": "9b8f2380c1e84261bb2fa019413b28e4",
   "cell_type": "code",
   "execution_count": 55,
   "metadata": {
    "cell_id": "e90b6e1cdae24faa871b5e2470377bc4",
    "deepnote_cell_type": "code",
    "deepnote_to_be_reexecuted": false,
    "execution_millis": 68,
    "execution_start": 1711581665393,
    "source_hash": "3ae0af2f"
   },
   "outputs": [],
   "outputs_reference": null,
   "source": [
    "fitur_lof = ['SepalLengthCm', 'SepalWidthCm', 'PetalLengthCm', 'PetalWidthCm']\n",
    "\n",
    "data_iris_lof = np.array(df_lof[fitur_lof])\n",
    "\n",
    "lof = LocalOutlierFactor(n_neighbors=15, contamination=0.04)\n",
    "outlier_scores = lof.fit_predict(data_iris_lof)\n",
    "df_lof['LOF_Score'] = -lof.negative_outlier_factor_"
   ]
  },
  {
   "block_group": "3b490459db1c4e11ac5c8a157d19989f",
   "cell_type": "markdown",
   "metadata": {
    "cell_id": "666c1021d8854fb5a8af986d6715238b",
    "deepnote_cell_type": "text-cell-p",
    "formattedRanges": []
   },
   "source": [
    "Menampilkan urutan data, LOF Score yang didapatkan dan status sebagai outlier atau bukan."
   ]
  },
  {
   "block_group": "7a8064b3c5054463b49a0e2464545828",
   "cell_type": "code",
   "execution_count": 56,
   "metadata": {
    "cell_id": "9c89ac8433594b158a9fb430ba3c4d37",
    "deepnote_cell_type": "code",
    "deepnote_to_be_reexecuted": false,
    "execution_millis": 186,
    "execution_start": 1711581676770,
    "source_hash": "540a81ea"
   },
   "outputs": [
    {
     "name": "stdout",
     "output_type": "stream",
     "text": [
      "Local Outlier Factor's scores:\n",
      "Data ke-1, LOF Score: 0.96, Outlier: No\n",
      "Data ke-2, LOF Score: 0.99, Outlier: No\n",
      "Data ke-3, LOF Score: 1.01, Outlier: No\n",
      "Data ke-4, LOF Score: 1.02, Outlier: No\n",
      "Data ke-5, LOF Score: 0.95, Outlier: No\n",
      "Data ke-6, LOF Score: 1.12, Outlier: No\n",
      "Data ke-7, LOF Score: 1.08, Outlier: No\n",
      "Data ke-8, LOF Score: 0.97, Outlier: No\n",
      "Data ke-9, LOF Score: 1.16, Outlier: No\n",
      "Data ke-10, LOF Score: 0.98, Outlier: No\n",
      "Data ke-11, LOF Score: 1.02, Outlier: No\n",
      "Data ke-12, LOF Score: 10.90, Outlier: Yes\n",
      "Data ke-13, LOF Score: 1.01, Outlier: No\n",
      "Data ke-14, LOF Score: 1.38, Outlier: No\n",
      "Data ke-15, LOF Score: 1.50, Outlier: No\n",
      "Data ke-16, LOF Score: 1.64, Outlier: No\n",
      "Data ke-17, LOF Score: 1.15, Outlier: No\n",
      "Data ke-18, LOF Score: 0.97, Outlier: No\n",
      "Data ke-19, LOF Score: 1.23, Outlier: No\n",
      "Data ke-20, LOF Score: 1.03, Outlier: No\n",
      "Data ke-21, LOF Score: 1.06, Outlier: No\n",
      "Data ke-22, LOF Score: 0.98, Outlier: No\n",
      "Data ke-23, LOF Score: 1.43, Outlier: No\n",
      "Data ke-24, LOF Score: 1.09, Outlier: No\n",
      "Data ke-25, LOF Score: 9.04, Outlier: Yes\n",
      "Data ke-26, LOF Score: 1.02, Outlier: No\n",
      "Data ke-27, LOF Score: 0.99, Outlier: No\n",
      "Data ke-28, LOF Score: 0.98, Outlier: No\n",
      "Data ke-29, LOF Score: 1.00, Outlier: No\n",
      "Data ke-30, LOF Score: 0.98, Outlier: No\n",
      "Data ke-31, LOF Score: 0.97, Outlier: No\n",
      "Data ke-32, LOF Score: 1.01, Outlier: No\n",
      "Data ke-33, LOF Score: 1.23, Outlier: No\n",
      "Data ke-34, LOF Score: 1.36, Outlier: No\n",
      "Data ke-35, LOF Score: 0.98, Outlier: No\n",
      "Data ke-36, LOF Score: 0.96, Outlier: No\n",
      "Data ke-37, LOF Score: 1.09, Outlier: No\n",
      "Data ke-38, LOF Score: 0.98, Outlier: No\n",
      "Data ke-39, LOF Score: 1.14, Outlier: No\n",
      "Data ke-40, LOF Score: 0.97, Outlier: No\n",
      "Data ke-41, LOF Score: 0.98, Outlier: No\n",
      "Data ke-42, LOF Score: 1.91, Outlier: No\n",
      "Data ke-43, LOF Score: 1.15, Outlier: No\n",
      "Data ke-44, LOF Score: 1.10, Outlier: No\n",
      "Data ke-45, LOF Score: 1.21, Outlier: No\n",
      "Data ke-46, LOF Score: 1.01, Outlier: No\n",
      "Data ke-47, LOF Score: 1.03, Outlier: No\n",
      "Data ke-48, LOF Score: 1.02, Outlier: No\n",
      "Data ke-49, LOF Score: 1.01, Outlier: No\n",
      "Data ke-50, LOF Score: 0.97, Outlier: No\n",
      "Data ke-51, LOF Score: 1.23, Outlier: No\n",
      "Data ke-52, LOF Score: 1.01, Outlier: No\n",
      "Data ke-53, LOF Score: 1.11, Outlier: No\n",
      "Data ke-54, LOF Score: 1.05, Outlier: No\n",
      "Data ke-55, LOF Score: 0.99, Outlier: No\n",
      "Data ke-56, LOF Score: 0.97, Outlier: No\n",
      "Data ke-57, LOF Score: 0.99, Outlier: No\n",
      "Data ke-58, LOF Score: 1.58, Outlier: No\n",
      "Data ke-59, LOF Score: 1.03, Outlier: No\n",
      "Data ke-60, LOF Score: 1.07, Outlier: No\n",
      "Data ke-61, LOF Score: 1.54, Outlier: No\n",
      "Data ke-62, LOF Score: 0.96, Outlier: No\n",
      "Data ke-63, LOF Score: 1.13, Outlier: No\n",
      "Data ke-64, LOF Score: 0.96, Outlier: No\n",
      "Data ke-65, LOF Score: 1.05, Outlier: No\n",
      "Data ke-66, LOF Score: 1.09, Outlier: No\n",
      "Data ke-67, LOF Score: 0.99, Outlier: No\n",
      "Data ke-68, LOF Score: 0.98, Outlier: No\n",
      "Data ke-69, LOF Score: 1.21, Outlier: No\n",
      "Data ke-70, LOF Score: 1.03, Outlier: No\n",
      "Data ke-71, LOF Score: 1.00, Outlier: No\n",
      "Data ke-72, LOF Score: 0.97, Outlier: No\n",
      "Data ke-73, LOF Score: 1.01, Outlier: No\n",
      "Data ke-74, LOF Score: 0.99, Outlier: No\n",
      "Data ke-75, LOF Score: 1.01, Outlier: No\n",
      "Data ke-76, LOF Score: 1.05, Outlier: No\n",
      "Data ke-77, LOF Score: 7.29, Outlier: Yes\n",
      "Data ke-78, LOF Score: 1.00, Outlier: No\n",
      "Data ke-79, LOF Score: 0.97, Outlier: No\n",
      "Data ke-80, LOF Score: 1.15, Outlier: No\n",
      "Data ke-81, LOF Score: 1.06, Outlier: No\n",
      "Data ke-82, LOF Score: 17.96, Outlier: Yes\n",
      "Data ke-83, LOF Score: 1.00, Outlier: No\n",
      "Data ke-84, LOF Score: 1.02, Outlier: No\n",
      "Data ke-85, LOF Score: 1.05, Outlier: No\n",
      "Data ke-86, LOF Score: 1.06, Outlier: No\n",
      "Data ke-87, LOF Score: 1.07, Outlier: No\n",
      "Data ke-88, LOF Score: 1.14, Outlier: No\n",
      "Data ke-89, LOF Score: 1.00, Outlier: No\n",
      "Data ke-90, LOF Score: 1.00, Outlier: No\n",
      "Data ke-91, LOF Score: 0.99, Outlier: No\n",
      "Data ke-92, LOF Score: 0.98, Outlier: No\n",
      "Data ke-93, LOF Score: 1.01, Outlier: No\n",
      "Data ke-94, LOF Score: 1.53, Outlier: No\n",
      "Data ke-95, LOF Score: 0.98, Outlier: No\n",
      "Data ke-96, LOF Score: 0.97, Outlier: No\n",
      "Data ke-97, LOF Score: 0.98, Outlier: No\n",
      "Data ke-98, LOF Score: 0.98, Outlier: No\n",
      "Data ke-99, LOF Score: 1.65, Outlier: No\n",
      "Data ke-100, LOF Score: 0.97, Outlier: No\n",
      "Data ke-101, LOF Score: 1.13, Outlier: No\n",
      "Data ke-102, LOF Score: 1.03, Outlier: No\n",
      "Data ke-103, LOF Score: 1.03, Outlier: No\n",
      "Data ke-104, LOF Score: 1.01, Outlier: No\n",
      "Data ke-105, LOF Score: 1.00, Outlier: No\n",
      "Data ke-106, LOF Score: 1.27, Outlier: No\n",
      "Data ke-107, LOF Score: 1.52, Outlier: No\n",
      "Data ke-108, LOF Score: 1.21, Outlier: No\n",
      "Data ke-109, LOF Score: 1.11, Outlier: No\n",
      "Data ke-110, LOF Score: 1.20, Outlier: No\n",
      "Data ke-111, LOF Score: 1.00, Outlier: No\n",
      "Data ke-112, LOF Score: 0.97, Outlier: No\n",
      "Data ke-113, LOF Score: 0.99, Outlier: No\n",
      "Data ke-114, LOF Score: 1.11, Outlier: No\n",
      "Data ke-115, LOF Score: 1.19, Outlier: No\n",
      "Data ke-116, LOF Score: 1.00, Outlier: No\n",
      "Data ke-117, LOF Score: 0.98, Outlier: No\n",
      "Data ke-118, LOF Score: 1.43, Outlier: No\n",
      "Data ke-119, LOF Score: 1.46, Outlier: No\n",
      "Data ke-120, LOF Score: 1.13, Outlier: No\n",
      "Data ke-121, LOF Score: 1.01, Outlier: No\n",
      "Data ke-122, LOF Score: 1.10, Outlier: No\n",
      "Data ke-123, LOF Score: 1.35, Outlier: No\n",
      "Data ke-124, LOF Score: 0.96, Outlier: No\n",
      "Data ke-125, LOF Score: 0.99, Outlier: No\n",
      "Data ke-126, LOF Score: 1.11, Outlier: No\n",
      "Data ke-127, LOF Score: 0.96, Outlier: No\n",
      "Data ke-128, LOF Score: 0.96, Outlier: No\n",
      "Data ke-129, LOF Score: 15.37, Outlier: Yes\n",
      "Data ke-130, LOF Score: 1.15, Outlier: No\n",
      "Data ke-131, LOF Score: 1.23, Outlier: No\n",
      "Data ke-132, LOF Score: 1.40, Outlier: No\n",
      "Data ke-133, LOF Score: 0.99, Outlier: No\n",
      "Data ke-134, LOF Score: 0.98, Outlier: No\n",
      "Data ke-135, LOF Score: 1.15, Outlier: No\n",
      "Data ke-136, LOF Score: 1.23, Outlier: No\n",
      "Data ke-137, LOF Score: 1.06, Outlier: No\n",
      "Data ke-138, LOF Score: 0.97, Outlier: No\n",
      "Data ke-139, LOF Score: 0.99, Outlier: No\n",
      "Data ke-140, LOF Score: 0.98, Outlier: No\n",
      "Data ke-141, LOF Score: 8.33, Outlier: Yes\n",
      "Data ke-142, LOF Score: 1.05, Outlier: No\n",
      "Data ke-143, LOF Score: 1.03, Outlier: No\n",
      "Data ke-144, LOF Score: 1.03, Outlier: No\n",
      "Data ke-145, LOF Score: 1.02, Outlier: No\n",
      "Data ke-146, LOF Score: 0.98, Outlier: No\n",
      "Data ke-147, LOF Score: 1.01, Outlier: No\n",
      "Data ke-148, LOF Score: 0.98, Outlier: No\n",
      "Data ke-149, LOF Score: 1.05, Outlier: No\n",
      "Data ke-150, LOF Score: 1.01, Outlier: No\n"
     ]
    }
   ],
   "outputs_reference": "s3:deepnote-cell-outputs-production/5897ded8-ac9a-4be6-b94e-7e528520eaaf",
   "source": [
    "print(\"Local Outlier Factor's scores:\")\n",
    "for i, row in df_lof.iterrows():\n",
    "    print(f\"Data ke-{i+1}, LOF Score: {row['LOF_Score']:.2f}, Outlier: {'Yes' if outlier_scores[i] == -1 else 'No'}\")"
   ]
  },
  {
   "block_group": "15a5e694a96c4ef3ac4eab3c9addbf82",
   "cell_type": "markdown",
   "metadata": {
    "cell_id": "04dcd3e1e4b24a7f9b7fc043154b4ebe",
    "deepnote_cell_type": "text-cell-p",
    "formattedRanges": []
   },
   "source": [
    "Menampilkan data yang berstatus sebagai outlier dengan urutan data, dan LOF Score yang didapatkan "
   ]
  },
  {
   "block_group": "7b03b82b334447cc81187cf33adaa78e",
   "cell_type": "code",
   "execution_count": 57,
   "metadata": {
    "cell_id": "71470a46e9db403a95295dd7616603e8",
    "deepnote_cell_type": "code",
    "deepnote_to_be_reexecuted": false,
    "execution_millis": 72,
    "execution_start": 1711581715984,
    "source_hash": "d4a34d6"
   },
   "outputs": [
    {
     "name": "stdout",
     "output_type": "stream",
     "text": [
      "Outlier data:\n",
      "Data ke-12, LOF Score: 10.90, Outlier: Yes\n",
      "Data ke-25, LOF Score: 9.04, Outlier: Yes\n",
      "Data ke-77, LOF Score: 7.29, Outlier: Yes\n",
      "Data ke-82, LOF Score: 17.96, Outlier: Yes\n",
      "Data ke-129, LOF Score: 15.37, Outlier: Yes\n",
      "Data ke-141, LOF Score: 8.33, Outlier: Yes\n"
     ]
    }
   ],
   "outputs_reference": "dbtable:cell_outputs/f0971545-ead3-48a9-9f1c-32d40aba7c83",
   "source": [
    "print(\"Outlier data:\")\n",
    "for i, row in df_lof.iterrows():\n",
    "    if outlier_scores[i] == -1:\n",
    "        print(f\"Data ke-{i+1}, LOF Score: {row['LOF_Score']:.2f}, Outlier: Yes\")"
   ]
  },
  {
   "cell_type": "markdown",
   "metadata": {
    "created_in_deepnote_cell": true,
    "deepnote_cell_type": "markdown"
   },
   "source": [
    "<a style='text-decoration:none;line-height:16px;display:flex;color:#5B5B62;padding:10px;justify-content:end;' href='https://deepnote.com?utm_source=created-in-deepnote-cell&projectId=6a17519b-db04-44a0-b917-1c577ec69750' target=\"_blank\">\n",
    "<img alt='Created in deepnote.com' style='display:inline;max-height:16px;margin:0px;margin-right:7.5px;' src='data:image/svg+xml;base64,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' > </img>\n",
    "Created in <span style='font-weight:600;margin-left:4px;'>Deepnote</span></a>"
   ]
  }
 ],
 "metadata": {
  "deepnote_execution_queue": [],
  "deepnote_notebook_id": "81ece07875fd400fb5e7825626aaa76f",
  "deepnote_persisted_session": {
   "createdAt": "2024-03-27T16:00:50.931Z"
  },
  "language_info": {
   "codemirror_mode": {
    "name": "ipython",
    "version": 3
   },
   "file_extension": ".py",
   "mimetype": "text/x-python",
   "name": "python",
   "nbconvert_exporter": "python",
   "pygments_lexer": "ipython3",
   "version": "3.12.2"
  }
 },
 "nbformat": 4,
 "nbformat_minor": 0
}